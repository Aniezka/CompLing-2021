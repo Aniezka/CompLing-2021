{
  "cells": [
    {
      "cell_type": "markdown",
      "id": "c07bc76a",
      "metadata": {
        "id": "c07bc76a"
      },
      "source": [
        "## Задание 1\n",
        "\n",
        "Опеределите части речи слов в этом тексте, используя пайморфи. В форму запишите слова, которым приписан тэг VERB. "
      ]
    },
    {
      "cell_type": "code",
      "execution_count": null,
      "id": "214f87fb",
      "metadata": {
        "id": "214f87fb"
      },
      "outputs": [],
      "source": [
        "# pip install pymorphy2"
      ]
    },
    {
      "cell_type": "code",
      "execution_count": 3,
      "id": "772149a3",
      "metadata": {
        "id": "772149a3"
      },
      "outputs": [],
      "source": [
        "import pymorphy2 as pm"
      ]
    },
    {
      "cell_type": "code",
      "execution_count": 4,
      "id": "31d45220",
      "metadata": {
        "id": "31d45220"
      },
      "outputs": [],
      "source": [
        "morph = pm.MorphAnalyzer()"
      ]
    },
    {
      "cell_type": "code",
      "execution_count": 5,
      "id": "9a246979",
      "metadata": {
        "id": "9a246979"
      },
      "outputs": [],
      "source": [
        "text = \"Зонды будут запущены в космос в 2029 году и отправятся ко второй точке Лагранжа в системе Солнце\""
      ]
    },
    {
      "cell_type": "code",
      "execution_count": 6,
      "id": "fec05223",
      "metadata": {
        "colab": {
          "base_uri": "https://localhost:8080/"
        },
        "id": "fec05223",
        "outputId": "8067fcb5-ed67-4d4f-de11-0de8bbdb84f2"
      },
      "outputs": [
        {
          "output_type": "stream",
          "name": "stdout",
          "text": [
            "Зонды NOUN\n",
            "будут VERB\n",
            "запущены PRTS\n",
            "в PREP\n",
            "космос NOUN\n",
            "в PREP\n",
            "2029 None\n",
            "году NOUN\n",
            "и CONJ\n",
            "отправятся VERB\n",
            "ко PREP\n",
            "второй ADJF\n",
            "точке NOUN\n",
            "Лагранжа NOUN\n",
            "в PREP\n",
            "системе NOUN\n",
            "Солнце NOUN\n"
          ]
        }
      ],
      "source": [
        "for word in text.split():\n",
        "    p = morph.parse(word)[0]\n",
        "    print(word, p.tag.POS)\n"
      ]
    },
    {
      "cell_type": "code",
      "execution_count": 7,
      "id": "b6c7d837",
      "metadata": {
        "colab": {
          "base_uri": "https://localhost:8080/",
          "height": 171
        },
        "id": "b6c7d837",
        "outputId": "4d2cd2ea-17ce-4886-e145-6cddbd695096"
      },
      "outputs": [
        {
          "output_type": "error",
          "ename": "NameError",
          "evalue": "ignored",
          "traceback": [
            "\u001b[0;31m---------------------------------------------------------------------------\u001b[0m",
            "\u001b[0;31mNameError\u001b[0m                                 Traceback (most recent call last)",
            "\u001b[0;32m<ipython-input-7-8d0f009e078e>\u001b[0m in \u001b[0;36m<module>\u001b[0;34m()\u001b[0m\n\u001b[0;32m----> 1\u001b[0;31m \u001b[0mбудут\u001b[0m\u001b[0;34m,\u001b[0m\u001b[0mотправятся\u001b[0m\u001b[0;34m\u001b[0m\u001b[0;34m\u001b[0m\u001b[0m\n\u001b[0m",
            "\u001b[0;31mNameError\u001b[0m: name 'будут' is not defined"
          ]
        }
      ],
      "source": [
        "будут,отправятся"
      ]
    },
    {
      "cell_type": "markdown",
      "id": "9beed7ea",
      "metadata": {
        "id": "9beed7ea"
      },
      "source": [
        "## Задание 2"
      ]
    },
    {
      "cell_type": "markdown",
      "id": "f4cb5a6f",
      "metadata": {
        "id": "f4cb5a6f"
      },
      "source": [
        "На данных предложениях обучите TFIDF векторайзер из sklearn (с дефолтными параметрами). Найдите слово с самым высоким коэффициентом tfidf в первом тексте. Вставьте его в форму."
      ]
    },
    {
      "cell_type": "code",
      "execution_count": 8,
      "id": "0b04a4ec",
      "metadata": {
        "id": "0b04a4ec"
      },
      "outputs": [],
      "source": [
        "import requests\n",
        "import numpy as np\n",
        "from sklearn.feature_extraction.text import TfidfVectorizer\n",
        "\n",
        "r = requests.get(\n",
        "    'https://raw.githubusercontent.com/mannefedov/compling_nlp_hse_course/master/data/anna_karenina.txt'\n",
        ")\n",
        "sentences = r.text.split(\"\\n\")\n",
        "# работайте с этими предложениями\n",
        "sentences = [sent for sent in sentences if len(sent) > 10]"
      ]
    },
    {
      "cell_type": "code",
      "execution_count": 9,
      "id": "93216f32",
      "metadata": {
        "colab": {
          "base_uri": "https://localhost:8080/"
        },
        "id": "93216f32",
        "outputId": "f9102e52-a58e-420e-a121-0c7002a95bbe"
      },
      "outputs": [
        {
          "output_type": "execute_result",
          "data": {
            "text/plain": [
              "(7536, 33241)"
            ]
          },
          "metadata": {},
          "execution_count": 9
        }
      ],
      "source": [
        "vectorizer = TfidfVectorizer()\n",
        "X = vectorizer.fit_transform(sentences)\n",
        "X.shape"
      ]
    },
    {
      "cell_type": "code",
      "execution_count": 10,
      "id": "2c7f8813",
      "metadata": {
        "id": "2c7f8813"
      },
      "outputs": [],
      "source": [
        "doc = 0\n",
        "feature_index = X[doc,:].nonzero()[1]\n",
        "tfidf_scores = zip(feature_index, [X[doc, x] for x in feature_index])"
      ]
    },
    {
      "cell_type": "code",
      "execution_count": 11,
      "id": "48585258",
      "metadata": {
        "id": "48585258"
      },
      "outputs": [],
      "source": [
        "concat = [(vectorizer.get_feature_names_out()[i], s) for (i, s) in tfidf_scores]"
      ]
    },
    {
      "cell_type": "code",
      "execution_count": 12,
      "id": "f3ac14a3",
      "metadata": {
        "id": "f3ac14a3"
      },
      "outputs": [],
      "source": [
        "most_value = []\n",
        "for word, score in concat:\n",
        "    if score == max(concat, key=lambda x: x[1])[1]:\n",
        "        most_value.append(word)"
      ]
    },
    {
      "cell_type": "code",
      "execution_count": 13,
      "id": "02184e64",
      "metadata": {
        "colab": {
          "base_uri": "https://localhost:8080/",
          "height": 36
        },
        "id": "02184e64",
        "outputId": "0ba4d18d-addd-491c-c0a7-2a7283838202"
      },
      "outputs": [
        {
          "output_type": "execute_result",
          "data": {
            "text/plain": [
              "'вырождается,устои,ослабевают,нравы,падают,буржуазного,натиском,уклада,патриархального,рушатся,страницах,приметами,насыщенное,остропроблемное,психологически'"
            ],
            "application/vnd.google.colaboratory.intrinsic+json": {
              "type": "string"
            }
          },
          "metadata": {},
          "execution_count": 13
        }
      ],
      "source": [
        "\",\".join(most_value)"
      ]
    },
    {
      "cell_type": "markdown",
      "id": "bfb2e707",
      "metadata": {
        "id": "bfb2e707"
      },
      "source": [
        "## Задание 3"
      ]
    },
    {
      "cell_type": "markdown",
      "id": "ea9c6808",
      "metadata": {
        "id": "ea9c6808"
      },
      "source": [
        "Токенизируйте текст Анны Карениной с помощью библиотеки раздел, привидите все к нижнему регистру. Рассчитайте статистики биграммов и униграммов. Найдите наиболее вероятное продолжение \"красный ...\". Вставьте наиболее веротяное следующее слово в форму."
      ]
    },
    {
      "cell_type": "code",
      "source": [
        "pip install razdel gensim"
      ],
      "metadata": {
        "id": "gvq8mESAPRNg"
      },
      "id": "gvq8mESAPRNg",
      "execution_count": null,
      "outputs": []
    },
    {
      "cell_type": "code",
      "execution_count": 16,
      "id": "21bda476",
      "metadata": {
        "id": "21bda476"
      },
      "outputs": [],
      "source": [
        "import razdel\n",
        "import gensim\n",
        "from razdel import tokenize\n",
        "from collections import Counter"
      ]
    },
    {
      "cell_type": "code",
      "execution_count": 17,
      "id": "3b0a586a",
      "metadata": {
        "id": "3b0a586a"
      },
      "outputs": [],
      "source": [
        "tokenized = []\n",
        "\n",
        "for sent in sentences:\n",
        "    tokens = list(tokenize(sent))\n",
        "    tokenized.append([_.text.lower() for _ in tokens])"
      ]
    },
    {
      "cell_type": "code",
      "execution_count": 18,
      "id": "0a8bfee5",
      "metadata": {
        "id": "0a8bfee5"
      },
      "outputs": [],
      "source": [
        "words = [tok for tokens in tokenized for tok in tokens]"
      ]
    },
    {
      "cell_type": "markdown",
      "id": "808de4ba",
      "metadata": {
        "id": "808de4ba"
      },
      "source": [
        "## униграммы"
      ]
    },
    {
      "cell_type": "code",
      "execution_count": 19,
      "id": "a11c5ff2",
      "metadata": {
        "id": "a11c5ff2"
      },
      "outputs": [],
      "source": [
        "vocab = Counter(words)"
      ]
    },
    {
      "cell_type": "code",
      "execution_count": 20,
      "id": "b78c821e",
      "metadata": {
        "colab": {
          "base_uri": "https://localhost:8080/"
        },
        "id": "b78c821e",
        "outputId": "3cc1c84f-e8c3-4450-cdd0-58d6afa79747"
      },
      "outputs": [
        {
          "output_type": "execute_result",
          "data": {
            "text/plain": [
              "[(',', 0.11392826631528649),\n",
              " ('.', 0.04796918666106775),\n",
              " ('и', 0.03740750930336949),\n",
              " ('–', 0.033167779209684195),\n",
              " ('не', 0.018931089906025107),\n",
              " ('что', 0.016683801277131812),\n",
              " ('в', 0.016565065666584614),\n",
              " ('он', 0.016072747281388917),\n",
              " ('на', 0.010413981842139557),\n",
              " ('она', 0.00994483138095307),\n",
              " ('с', 0.009637856387831049),\n",
              " ('я', 0.009301921489697515),\n",
              " ('как', 0.007706230723563226),\n",
              " ('но', 0.007474551483471134),\n",
              " ('его', 0.007465863511967681),\n",
              " ('?', 0.006550730513603916),\n",
              " ('это', 0.0064377868840590205),\n",
              " ('к', 0.005742749163782743),\n",
              " ('ее', 0.005227262854577837),\n",
              " ('все', 0.0048363041369224305)]"
            ]
          },
          "metadata": {},
          "execution_count": 20
        }
      ],
      "source": [
        "probas_dvach = Counter({word : c/len(words) for word, c in vocab.items()})\n",
        "probas_dvach.most_common(20)"
      ]
    },
    {
      "cell_type": "markdown",
      "id": "40fecfeb",
      "metadata": {
        "id": "40fecfeb"
      },
      "source": [
        "## биграммы"
      ]
    },
    {
      "cell_type": "code",
      "execution_count": 21,
      "id": "adadc350",
      "metadata": {
        "id": "adadc350"
      },
      "outputs": [],
      "source": [
        "\n",
        "def ngrammer(tokens, n=2):\n",
        "    ngrams = []\n",
        "    for i in range(0,len(tokens)-n+1):\n",
        "        ngrams.append(' '.join(tokens[i:i+n]))\n",
        "    return ngrams"
      ]
    },
    {
      "cell_type": "code",
      "execution_count": 22,
      "id": "b91c4e54",
      "metadata": {
        "id": "b91c4e54"
      },
      "outputs": [],
      "source": [
        "tokenized_sent = [['<start>'] + text + ['<end>'] for text in tokenized]"
      ]
    },
    {
      "cell_type": "code",
      "execution_count": 23,
      "id": "20cd248a",
      "metadata": {
        "id": "20cd248a"
      },
      "outputs": [],
      "source": [
        "unigrams = Counter()\n",
        "bigrams = Counter()\n",
        "\n",
        "for sentence in tokenized_sent:\n",
        "    unigrams.update(sentence)\n",
        "    bigrams.update(ngrammer(sentence))"
      ]
    },
    {
      "cell_type": "code",
      "execution_count": 24,
      "id": "ee54ae9d",
      "metadata": {
        "id": "ee54ae9d"
      },
      "outputs": [],
      "source": [
        "matrix = np.zeros((len(unigrams), len(unigrams)))\n",
        "id2word = list(unigrams)\n",
        "word2id = {word:i for i, word in enumerate(id2word)}\n",
        "\n",
        "for ngram in bigrams:\n",
        "    word1, word2 = ngram.split()\n",
        "    matrix[word2id[word1]][word2id[word2]] =  (bigrams[ngram]/unigrams[word1])"
      ]
    },
    {
      "cell_type": "code",
      "execution_count": 25,
      "id": "1c06bcee",
      "metadata": {
        "colab": {
          "base_uri": "https://localhost:8080/",
          "height": 36
        },
        "id": "1c06bcee",
        "outputId": "35e5ac3b-7eb6-4a5b-f799-7b4a707fad14"
      },
      "outputs": [
        {
          "output_type": "execute_result",
          "data": {
            "text/plain": [
              "'мешочек'"
            ],
            "application/vnd.google.colaboratory.intrinsic+json": {
              "type": "string"
            }
          },
          "metadata": {},
          "execution_count": 25
        }
      ],
      "source": [
        "WORD = \"красный\"\n",
        "\n",
        "chosen = matrix[word2id[WORD]].argmax()\n",
        "id2word[chosen]"
      ]
    },
    {
      "cell_type": "markdown",
      "id": "677afdf3",
      "metadata": {
        "id": "677afdf3"
      },
      "source": [
        "## Задание 4"
      ]
    },
    {
      "cell_type": "markdown",
      "id": "fbbce216",
      "metadata": {
        "id": "fbbce216"
      },
      "source": [
        "Расчитайте ненормализованное растояние Дамерау-Левенштейна и ненормализованное растояние Левенштейна между этими словами (каждое с каждым), найдите пару слов, для которых эти расстояния отличаются. Вставьте эти слова в форму"
      ]
    },
    {
      "cell_type": "code",
      "execution_count": 26,
      "id": "a43d5811",
      "metadata": {
        "id": "a43d5811"
      },
      "outputs": [],
      "source": [
        "# https://ru.wikipedia.org/wiki/%D0%A0%D0%B0%D1%81%D1%81%D1%82%D0%BE%D1%8F%D0%BD%D0%B8%D0%B5_%D0%94%D0%B0%D0%BC%D0%B5%D1%80%D0%B0%D1%83_%E2%80%94_%D0%9B%D0%B5%D0%B2%D0%B5%D0%BD%D1%88%D1%82%D0%B5%D0%B9%D0%BD%D0%B0\n",
        "\n",
        "def damerau_levenshtein_distance(s1, s2):\n",
        "    d = {}\n",
        "    lenstr1 = len(s1)\n",
        "    lenstr2 = len(s2)\n",
        "    for i in range(-1,lenstr1+1):\n",
        "        d[(i,-1)] = i+1\n",
        "    for j in range(-1,lenstr2+1):\n",
        "        d[(-1,j)] = j+1\n",
        " \n",
        "    for i in range(lenstr1):\n",
        "        for j in range(lenstr2):\n",
        "            if s1[i] == s2[j]:\n",
        "                cost = 0\n",
        "            else:\n",
        "                cost = 1\n",
        "            d[(i,j)] = min(\n",
        "                           d[(i-1,j)] + 1, # deletion\n",
        "                           d[(i,j-1)] + 1, # insertion\n",
        "                           d[(i-1,j-1)] + cost, # substitution\n",
        "                          )\n",
        "            if i and j and s1[i]==s2[j-1] and s1[i-1] == s2[j]:\n",
        "                d[(i,j)] = min (d[(i,j)], d[i-2,j-2] + 1) # transposition\n",
        " \n",
        "    return d[lenstr1-1,lenstr2-1]"
      ]
    },
    {
      "cell_type": "code",
      "execution_count": 27,
      "id": "0a5d9465",
      "metadata": {
        "id": "0a5d9465"
      },
      "outputs": [],
      "source": [
        "# https://ru.wikibooks.org/wiki/%D0%A0%D0%B5%D0%B0%D0%BB%D0%B8%D0%B7%D0%B0%D1%86%D0%B8%D0%B8_%D0%B0%D0%BB%D0%B3%D0%BE%D1%80%D0%B8%D1%82%D0%BC%D0%BE%D0%B2/%D0%A0%D0%B0%D1%81%D1%81%D1%82%D0%BE%D1%8F%D0%BD%D0%B8%D0%B5_%D0%9B%D0%B5%D0%B2%D0%B5%D0%BD%D1%88%D1%82%D0%B5%D0%B9%D0%BD%D0%B0#Python\n",
        "\n",
        "def levenshtein_distance(a, b):\n",
        "    \"Calculates the Levenshtein distance between a and b.\"\n",
        "    n, m = len(a), len(b)\n",
        "    if n > m:\n",
        "        # Make sure n <= m, to use O(min(n, m)) space\n",
        "        a, b = b, a\n",
        "        n, m = m, n\n",
        "\n",
        "    current_row = range(n + 1)  # Keep current and previous row, not entire matrix\n",
        "    for i in range(1, m + 1):\n",
        "        previous_row, current_row = current_row, [i] + [0] * n\n",
        "        for j in range(1, n + 1):\n",
        "            add, delete, change = previous_row[j] + 1, current_row[j - 1] + 1, previous_row[j - 1]\n",
        "            if a[j - 1] != b[i - 1]:\n",
        "                change += 1\n",
        "            current_row[j] = min(add, delete, change)\n",
        "\n",
        "    return current_row[n]"
      ]
    },
    {
      "cell_type": "code",
      "execution_count": 28,
      "id": "4c37226f",
      "metadata": {
        "id": "4c37226f"
      },
      "outputs": [],
      "source": [
        "words = [\"решение\", \"ршеение\", \"ренешик\", \"рещиние\", \"ришение\"]"
      ]
    },
    {
      "cell_type": "code",
      "execution_count": 29,
      "id": "79d248fe",
      "metadata": {
        "id": "79d248fe"
      },
      "outputs": [],
      "source": [
        "dam_lev_matrix = np.zeros((len(words), len(words)))\n",
        "lev_matrix = np.zeros((len(words), len(words)))\n",
        "\n",
        "for i in range(len(words)):\n",
        "    for j in range(len(words)):\n",
        "        dam_lev_matrix[i][j] = damerau_levenshtein_distance(words[i], words[j])\n",
        "        lev_matrix[i][j] = levenshtein_distance(words[i], words[j]) "
      ]
    },
    {
      "cell_type": "code",
      "execution_count": 30,
      "id": "582c5e91",
      "metadata": {
        "colab": {
          "base_uri": "https://localhost:8080/"
        },
        "id": "582c5e91",
        "outputId": "0fe6cb65-6fdb-4994-f1eb-732046a04a2b"
      },
      "outputs": [
        {
          "output_type": "execute_result",
          "data": {
            "text/plain": [
              "array([[ 0., -1.,  0.,  0.,  0.],\n",
              "       [-1.,  0.,  0.,  0.,  0.],\n",
              "       [ 0.,  0.,  0.,  0.,  0.],\n",
              "       [ 0.,  0.,  0.,  0.,  0.],\n",
              "       [ 0.,  0.,  0.,  0.,  0.]])"
            ]
          },
          "metadata": {},
          "execution_count": 30
        }
      ],
      "source": [
        "dam_lev_matrix - lev_matrix"
      ]
    },
    {
      "cell_type": "code",
      "execution_count": 31,
      "id": "10e24e6d",
      "metadata": {
        "colab": {
          "base_uri": "https://localhost:8080/"
        },
        "id": "10e24e6d",
        "outputId": "b48224b0-67da-438e-88c4-a6b9bd7a9bd0"
      },
      "outputs": [
        {
          "output_type": "stream",
          "name": "stdout",
          "text": [
            "решение,ршеение\n"
          ]
        }
      ],
      "source": [
        "print(\",\".join(words[:2]))"
      ]
    },
    {
      "cell_type": "markdown",
      "id": "3d7dff1d",
      "metadata": {
        "id": "3d7dff1d"
      },
      "source": [
        "## Задание 5\n",
        "\n",
        "Загрузите токенизатор distilbert-base-uncased из huggingface. Токенизируйте предложения из Анны Карениной с помощью предобученного токенизатора и обучите Fastext модель со следующими параметрами: cbow, размер вектора 300, размер окна 5, минимальный размер символьного нграмма - 2, максимальный размер символьного нграмма - 7. Найдите ближайшее слово к слову \"каренина\", вставьте его в форму."
      ]
    },
    {
      "cell_type": "code",
      "source": [
        "pip install transformers"
      ],
      "metadata": {
        "id": "kmcPEyeCPgm7"
      },
      "id": "kmcPEyeCPgm7",
      "execution_count": null,
      "outputs": []
    },
    {
      "cell_type": "code",
      "execution_count": 35,
      "id": "9ad22ebf",
      "metadata": {
        "id": "9ad22ebf"
      },
      "outputs": [],
      "source": [
        "import tensorflow as tf\n",
        "from transformers import TFAutoModel\n",
        "from transformers import AutoTokenizer"
      ]
    },
    {
      "cell_type": "code",
      "source": [
        "tokenizer = AutoTokenizer.from_pretrained('distilbert-base-uncased')"
      ],
      "metadata": {
        "colab": {
          "base_uri": "https://localhost:8080/",
          "height": 145,
          "referenced_widgets": [
            "7dab723a644e4763b75e9f1625d11943",
            "7ce73a77ee8f481f8a1bdbbb8c5e7009",
            "2bf253bf643841e49c3b53579dd87c77",
            "5e8a3682104e4841bf1edaec8b0dee5c",
            "2aaae30312bd40cdb32e99ea6cb705c7",
            "3d6c5dcb8f894dbfbab039e5dfc083a7",
            "284dc65dd6b54da8bc8fe595f6a87450",
            "3e87e12eda8447d594b7729fb6d00e20",
            "5bc6223ebfce4d7cb2035db7dc5b3f79",
            "7e7a0effdf71479895c1fd3a8da0f0ea",
            "913e733650324700b427c5d690513a01",
            "b1e2de999344421ea5ed88699c60bc59",
            "3e65ab5740094bb1815762d56ddeb06c",
            "c74b65af44404a88a6b79e547ac605eb",
            "a45b795d3c374addbac5905c42fab9c2",
            "d7685b4608d842bea669344fa8744290",
            "899ae512e15d4870b8675a04d6db9e08",
            "c6107bd9e78e4c37b2a90a8a9d9538a9",
            "62f68debc93f4fcba278391216a8b9ca",
            "d4f4cdd3085c406ba135f1f1e24316e6",
            "c952dbddfec442498e1bc5aa3dbc1e94",
            "5c3cc4a20aa543438e73e7de0b75f5ab",
            "1d2e993190494fc89c587f531b986486",
            "138e1752f40647e29744e9e07046a561",
            "0c7db1e97c1f4fa5a162679ec9f8bd12",
            "f7e895456ff34485955aa27026965fa6",
            "830238d481c84b849b72497005fc984c",
            "dad25fad9e5c4857b74fe3c18a67bef9",
            "36a3a3fd6454435caaf4a154610bebab",
            "e4ceef19a5ef474ebc5fc0dd020b8517",
            "f3a757df9cd64dd28fe9c37a62b3aa94",
            "48834b5711f3413c88b18c64c9f01d64",
            "719bfd2931774290b099c6abf3a75976",
            "70eb654f20624e14b0206b8471400040",
            "3dead2c9ebbf449a9f480055c12b8604",
            "34c7620cea5841f5b9152b0374b5218d",
            "23943dadb9ed4dc4949ee2c2f44fde10",
            "3900da870a8d4326b71a1ded9fb34bbd",
            "a1fa89cb5dcc454c8b52ac341342de06",
            "d189e07f64e44747b192cfe821b9491f",
            "2155209d25ae4b6f85df18824916db50",
            "2c25edcfc0bf41fe94ef8640355ff515",
            "d554009716774d87a8442003832e1ce5",
            "ae96a9e098f34fd281568d592f63c29a"
          ]
        },
        "id": "v55aTEcUPcqn",
        "outputId": "39c62137-3fdd-47bc-ed27-3e6b723680a8"
      },
      "id": "v55aTEcUPcqn",
      "execution_count": 36,
      "outputs": [
        {
          "output_type": "display_data",
          "data": {
            "text/plain": [
              "Downloading:   0%|          | 0.00/28.0 [00:00<?, ?B/s]"
            ],
            "application/vnd.jupyter.widget-view+json": {
              "version_major": 2,
              "version_minor": 0,
              "model_id": "7dab723a644e4763b75e9f1625d11943"
            }
          },
          "metadata": {}
        },
        {
          "output_type": "display_data",
          "data": {
            "text/plain": [
              "Downloading:   0%|          | 0.00/483 [00:00<?, ?B/s]"
            ],
            "application/vnd.jupyter.widget-view+json": {
              "version_major": 2,
              "version_minor": 0,
              "model_id": "b1e2de999344421ea5ed88699c60bc59"
            }
          },
          "metadata": {}
        },
        {
          "output_type": "display_data",
          "data": {
            "text/plain": [
              "Downloading:   0%|          | 0.00/226k [00:00<?, ?B/s]"
            ],
            "application/vnd.jupyter.widget-view+json": {
              "version_major": 2,
              "version_minor": 0,
              "model_id": "1d2e993190494fc89c587f531b986486"
            }
          },
          "metadata": {}
        },
        {
          "output_type": "display_data",
          "data": {
            "text/plain": [
              "Downloading:   0%|          | 0.00/455k [00:00<?, ?B/s]"
            ],
            "application/vnd.jupyter.widget-view+json": {
              "version_major": 2,
              "version_minor": 0,
              "model_id": "70eb654f20624e14b0206b8471400040"
            }
          },
          "metadata": {}
        }
      ]
    },
    {
      "cell_type": "code",
      "source": [
        "tokenized_sents = []\n",
        "\n",
        "for sent in sentences:\n",
        "  marked_text = \"[CLS] \" + text + \" [SEP]\"\n",
        "  tokenized_text = tokenizer.tokenize(marked_text)\n",
        "  tokenized_sents.append(tokenized_text)"
      ],
      "metadata": {
        "id": "WY8QLtyhP0G3"
      },
      "id": "WY8QLtyhP0G3",
      "execution_count": 44,
      "outputs": []
    },
    {
      "cell_type": "code",
      "source": [
        "ft = gensim.models.FastText(tokenized_sents,\n",
        "                            sg=0,\n",
        "                            min_n=2,\n",
        "                            max_n=7,\n",
        "                            size=300,\n",
        "                            window=5)"
      ],
      "metadata": {
        "id": "c3qNXJJGTA3Q"
      },
      "id": "c3qNXJJGTA3Q",
      "execution_count": 48,
      "outputs": []
    },
    {
      "cell_type": "code",
      "source": [
        "ft.wv.most_similar('каренина', topn=40)"
      ],
      "metadata": {
        "colab": {
          "base_uri": "https://localhost:8080/"
        },
        "id": "nCUHwsrGUyI5",
        "outputId": "bff84caf-8fc5-4ff6-bd0c-fdfd6cabfa2e"
      },
      "id": "nCUHwsrGUyI5",
      "execution_count": 57,
      "outputs": [
        {
          "output_type": "execute_result",
          "data": {
            "text/plain": [
              "[('##на', 0.8245480060577393),\n",
              " ('к', 0.6315351128578186),\n",
              " ('д', 0.5995323657989502),\n",
              " ('##ка', 0.5412423610687256),\n",
              " ('б', 0.42186257243156433),\n",
              " ('[CLS]', 0.4180133640766144),\n",
              " ('##н', 0.31705963611602783),\n",
              " ('##я', 0.300679475069046),\n",
              " ('##г', 0.23589402437210083),\n",
              " ('##ы', 0.17099332809448242),\n",
              " ('##и', 0.13701803982257843),\n",
              " ('##л', 0.09558025002479553),\n",
              " ('##ан', 0.0523027665913105),\n",
              " ('##а', 0.02778216451406479),\n",
              " ('##ч', -0.09542068839073181),\n",
              " ('li', -0.11603137850761414),\n",
              " ('с', -0.22643297910690308),\n",
              " ('net', -0.3043205738067627),\n",
              " ('[SEP]', -0.3249933123588562),\n",
              " ('##br', -0.34677812457084656),\n",
              " ('##т', -0.35265570878982544),\n",
              " ('##s', -0.3887203335762024),\n",
              " ('.', -0.5694230794906616)]"
            ]
          },
          "metadata": {},
          "execution_count": 57
        }
      ]
    }
  ],
  "metadata": {
    "kernelspec": {
      "display_name": "Python 3 (ipykernel)",
      "language": "python",
      "name": "python3"
    },
    "language_info": {
      "codemirror_mode": {
        "name": "ipython",
        "version": 3
      },
      "file_extension": ".py",
      "mimetype": "text/x-python",
      "name": "python",
      "nbconvert_exporter": "python",
      "pygments_lexer": "ipython3",
      "version": "3.9.13"
    },
    "colab": {
      "name": "EXAM_practical_part.ipynb",
      "provenance": [],
      "collapsed_sections": []
    },
    "accelerator": "GPU",
    "gpuClass": "standard",
    "widgets": {
      "application/vnd.jupyter.widget-state+json": {
        "7dab723a644e4763b75e9f1625d11943": {
          "model_module": "@jupyter-widgets/controls",
          "model_name": "HBoxModel",
          "model_module_version": "1.5.0",
          "state": {
            "_dom_classes": [],
            "_model_module": "@jupyter-widgets/controls",
            "_model_module_version": "1.5.0",
            "_model_name": "HBoxModel",
            "_view_count": null,
            "_view_module": "@jupyter-widgets/controls",
            "_view_module_version": "1.5.0",
            "_view_name": "HBoxView",
            "box_style": "",
            "children": [
              "IPY_MODEL_7ce73a77ee8f481f8a1bdbbb8c5e7009",
              "IPY_MODEL_2bf253bf643841e49c3b53579dd87c77",
              "IPY_MODEL_5e8a3682104e4841bf1edaec8b0dee5c"
            ],
            "layout": "IPY_MODEL_2aaae30312bd40cdb32e99ea6cb705c7"
          }
        },
        "7ce73a77ee8f481f8a1bdbbb8c5e7009": {
          "model_module": "@jupyter-widgets/controls",
          "model_name": "HTMLModel",
          "model_module_version": "1.5.0",
          "state": {
            "_dom_classes": [],
            "_model_module": "@jupyter-widgets/controls",
            "_model_module_version": "1.5.0",
            "_model_name": "HTMLModel",
            "_view_count": null,
            "_view_module": "@jupyter-widgets/controls",
            "_view_module_version": "1.5.0",
            "_view_name": "HTMLView",
            "description": "",
            "description_tooltip": null,
            "layout": "IPY_MODEL_3d6c5dcb8f894dbfbab039e5dfc083a7",
            "placeholder": "​",
            "style": "IPY_MODEL_284dc65dd6b54da8bc8fe595f6a87450",
            "value": "Downloading: 100%"
          }
        },
        "2bf253bf643841e49c3b53579dd87c77": {
          "model_module": "@jupyter-widgets/controls",
          "model_name": "FloatProgressModel",
          "model_module_version": "1.5.0",
          "state": {
            "_dom_classes": [],
            "_model_module": "@jupyter-widgets/controls",
            "_model_module_version": "1.5.0",
            "_model_name": "FloatProgressModel",
            "_view_count": null,
            "_view_module": "@jupyter-widgets/controls",
            "_view_module_version": "1.5.0",
            "_view_name": "ProgressView",
            "bar_style": "success",
            "description": "",
            "description_tooltip": null,
            "layout": "IPY_MODEL_3e87e12eda8447d594b7729fb6d00e20",
            "max": 28,
            "min": 0,
            "orientation": "horizontal",
            "style": "IPY_MODEL_5bc6223ebfce4d7cb2035db7dc5b3f79",
            "value": 28
          }
        },
        "5e8a3682104e4841bf1edaec8b0dee5c": {
          "model_module": "@jupyter-widgets/controls",
          "model_name": "HTMLModel",
          "model_module_version": "1.5.0",
          "state": {
            "_dom_classes": [],
            "_model_module": "@jupyter-widgets/controls",
            "_model_module_version": "1.5.0",
            "_model_name": "HTMLModel",
            "_view_count": null,
            "_view_module": "@jupyter-widgets/controls",
            "_view_module_version": "1.5.0",
            "_view_name": "HTMLView",
            "description": "",
            "description_tooltip": null,
            "layout": "IPY_MODEL_7e7a0effdf71479895c1fd3a8da0f0ea",
            "placeholder": "​",
            "style": "IPY_MODEL_913e733650324700b427c5d690513a01",
            "value": " 28.0/28.0 [00:00&lt;00:00, 261B/s]"
          }
        },
        "2aaae30312bd40cdb32e99ea6cb705c7": {
          "model_module": "@jupyter-widgets/base",
          "model_name": "LayoutModel",
          "model_module_version": "1.2.0",
          "state": {
            "_model_module": "@jupyter-widgets/base",
            "_model_module_version": "1.2.0",
            "_model_name": "LayoutModel",
            "_view_count": null,
            "_view_module": "@jupyter-widgets/base",
            "_view_module_version": "1.2.0",
            "_view_name": "LayoutView",
            "align_content": null,
            "align_items": null,
            "align_self": null,
            "border": null,
            "bottom": null,
            "display": null,
            "flex": null,
            "flex_flow": null,
            "grid_area": null,
            "grid_auto_columns": null,
            "grid_auto_flow": null,
            "grid_auto_rows": null,
            "grid_column": null,
            "grid_gap": null,
            "grid_row": null,
            "grid_template_areas": null,
            "grid_template_columns": null,
            "grid_template_rows": null,
            "height": null,
            "justify_content": null,
            "justify_items": null,
            "left": null,
            "margin": null,
            "max_height": null,
            "max_width": null,
            "min_height": null,
            "min_width": null,
            "object_fit": null,
            "object_position": null,
            "order": null,
            "overflow": null,
            "overflow_x": null,
            "overflow_y": null,
            "padding": null,
            "right": null,
            "top": null,
            "visibility": null,
            "width": null
          }
        },
        "3d6c5dcb8f894dbfbab039e5dfc083a7": {
          "model_module": "@jupyter-widgets/base",
          "model_name": "LayoutModel",
          "model_module_version": "1.2.0",
          "state": {
            "_model_module": "@jupyter-widgets/base",
            "_model_module_version": "1.2.0",
            "_model_name": "LayoutModel",
            "_view_count": null,
            "_view_module": "@jupyter-widgets/base",
            "_view_module_version": "1.2.0",
            "_view_name": "LayoutView",
            "align_content": null,
            "align_items": null,
            "align_self": null,
            "border": null,
            "bottom": null,
            "display": null,
            "flex": null,
            "flex_flow": null,
            "grid_area": null,
            "grid_auto_columns": null,
            "grid_auto_flow": null,
            "grid_auto_rows": null,
            "grid_column": null,
            "grid_gap": null,
            "grid_row": null,
            "grid_template_areas": null,
            "grid_template_columns": null,
            "grid_template_rows": null,
            "height": null,
            "justify_content": null,
            "justify_items": null,
            "left": null,
            "margin": null,
            "max_height": null,
            "max_width": null,
            "min_height": null,
            "min_width": null,
            "object_fit": null,
            "object_position": null,
            "order": null,
            "overflow": null,
            "overflow_x": null,
            "overflow_y": null,
            "padding": null,
            "right": null,
            "top": null,
            "visibility": null,
            "width": null
          }
        },
        "284dc65dd6b54da8bc8fe595f6a87450": {
          "model_module": "@jupyter-widgets/controls",
          "model_name": "DescriptionStyleModel",
          "model_module_version": "1.5.0",
          "state": {
            "_model_module": "@jupyter-widgets/controls",
            "_model_module_version": "1.5.0",
            "_model_name": "DescriptionStyleModel",
            "_view_count": null,
            "_view_module": "@jupyter-widgets/base",
            "_view_module_version": "1.2.0",
            "_view_name": "StyleView",
            "description_width": ""
          }
        },
        "3e87e12eda8447d594b7729fb6d00e20": {
          "model_module": "@jupyter-widgets/base",
          "model_name": "LayoutModel",
          "model_module_version": "1.2.0",
          "state": {
            "_model_module": "@jupyter-widgets/base",
            "_model_module_version": "1.2.0",
            "_model_name": "LayoutModel",
            "_view_count": null,
            "_view_module": "@jupyter-widgets/base",
            "_view_module_version": "1.2.0",
            "_view_name": "LayoutView",
            "align_content": null,
            "align_items": null,
            "align_self": null,
            "border": null,
            "bottom": null,
            "display": null,
            "flex": null,
            "flex_flow": null,
            "grid_area": null,
            "grid_auto_columns": null,
            "grid_auto_flow": null,
            "grid_auto_rows": null,
            "grid_column": null,
            "grid_gap": null,
            "grid_row": null,
            "grid_template_areas": null,
            "grid_template_columns": null,
            "grid_template_rows": null,
            "height": null,
            "justify_content": null,
            "justify_items": null,
            "left": null,
            "margin": null,
            "max_height": null,
            "max_width": null,
            "min_height": null,
            "min_width": null,
            "object_fit": null,
            "object_position": null,
            "order": null,
            "overflow": null,
            "overflow_x": null,
            "overflow_y": null,
            "padding": null,
            "right": null,
            "top": null,
            "visibility": null,
            "width": null
          }
        },
        "5bc6223ebfce4d7cb2035db7dc5b3f79": {
          "model_module": "@jupyter-widgets/controls",
          "model_name": "ProgressStyleModel",
          "model_module_version": "1.5.0",
          "state": {
            "_model_module": "@jupyter-widgets/controls",
            "_model_module_version": "1.5.0",
            "_model_name": "ProgressStyleModel",
            "_view_count": null,
            "_view_module": "@jupyter-widgets/base",
            "_view_module_version": "1.2.0",
            "_view_name": "StyleView",
            "bar_color": null,
            "description_width": ""
          }
        },
        "7e7a0effdf71479895c1fd3a8da0f0ea": {
          "model_module": "@jupyter-widgets/base",
          "model_name": "LayoutModel",
          "model_module_version": "1.2.0",
          "state": {
            "_model_module": "@jupyter-widgets/base",
            "_model_module_version": "1.2.0",
            "_model_name": "LayoutModel",
            "_view_count": null,
            "_view_module": "@jupyter-widgets/base",
            "_view_module_version": "1.2.0",
            "_view_name": "LayoutView",
            "align_content": null,
            "align_items": null,
            "align_self": null,
            "border": null,
            "bottom": null,
            "display": null,
            "flex": null,
            "flex_flow": null,
            "grid_area": null,
            "grid_auto_columns": null,
            "grid_auto_flow": null,
            "grid_auto_rows": null,
            "grid_column": null,
            "grid_gap": null,
            "grid_row": null,
            "grid_template_areas": null,
            "grid_template_columns": null,
            "grid_template_rows": null,
            "height": null,
            "justify_content": null,
            "justify_items": null,
            "left": null,
            "margin": null,
            "max_height": null,
            "max_width": null,
            "min_height": null,
            "min_width": null,
            "object_fit": null,
            "object_position": null,
            "order": null,
            "overflow": null,
            "overflow_x": null,
            "overflow_y": null,
            "padding": null,
            "right": null,
            "top": null,
            "visibility": null,
            "width": null
          }
        },
        "913e733650324700b427c5d690513a01": {
          "model_module": "@jupyter-widgets/controls",
          "model_name": "DescriptionStyleModel",
          "model_module_version": "1.5.0",
          "state": {
            "_model_module": "@jupyter-widgets/controls",
            "_model_module_version": "1.5.0",
            "_model_name": "DescriptionStyleModel",
            "_view_count": null,
            "_view_module": "@jupyter-widgets/base",
            "_view_module_version": "1.2.0",
            "_view_name": "StyleView",
            "description_width": ""
          }
        },
        "b1e2de999344421ea5ed88699c60bc59": {
          "model_module": "@jupyter-widgets/controls",
          "model_name": "HBoxModel",
          "model_module_version": "1.5.0",
          "state": {
            "_dom_classes": [],
            "_model_module": "@jupyter-widgets/controls",
            "_model_module_version": "1.5.0",
            "_model_name": "HBoxModel",
            "_view_count": null,
            "_view_module": "@jupyter-widgets/controls",
            "_view_module_version": "1.5.0",
            "_view_name": "HBoxView",
            "box_style": "",
            "children": [
              "IPY_MODEL_3e65ab5740094bb1815762d56ddeb06c",
              "IPY_MODEL_c74b65af44404a88a6b79e547ac605eb",
              "IPY_MODEL_a45b795d3c374addbac5905c42fab9c2"
            ],
            "layout": "IPY_MODEL_d7685b4608d842bea669344fa8744290"
          }
        },
        "3e65ab5740094bb1815762d56ddeb06c": {
          "model_module": "@jupyter-widgets/controls",
          "model_name": "HTMLModel",
          "model_module_version": "1.5.0",
          "state": {
            "_dom_classes": [],
            "_model_module": "@jupyter-widgets/controls",
            "_model_module_version": "1.5.0",
            "_model_name": "HTMLModel",
            "_view_count": null,
            "_view_module": "@jupyter-widgets/controls",
            "_view_module_version": "1.5.0",
            "_view_name": "HTMLView",
            "description": "",
            "description_tooltip": null,
            "layout": "IPY_MODEL_899ae512e15d4870b8675a04d6db9e08",
            "placeholder": "​",
            "style": "IPY_MODEL_c6107bd9e78e4c37b2a90a8a9d9538a9",
            "value": "Downloading: 100%"
          }
        },
        "c74b65af44404a88a6b79e547ac605eb": {
          "model_module": "@jupyter-widgets/controls",
          "model_name": "FloatProgressModel",
          "model_module_version": "1.5.0",
          "state": {
            "_dom_classes": [],
            "_model_module": "@jupyter-widgets/controls",
            "_model_module_version": "1.5.0",
            "_model_name": "FloatProgressModel",
            "_view_count": null,
            "_view_module": "@jupyter-widgets/controls",
            "_view_module_version": "1.5.0",
            "_view_name": "ProgressView",
            "bar_style": "success",
            "description": "",
            "description_tooltip": null,
            "layout": "IPY_MODEL_62f68debc93f4fcba278391216a8b9ca",
            "max": 483,
            "min": 0,
            "orientation": "horizontal",
            "style": "IPY_MODEL_d4f4cdd3085c406ba135f1f1e24316e6",
            "value": 483
          }
        },
        "a45b795d3c374addbac5905c42fab9c2": {
          "model_module": "@jupyter-widgets/controls",
          "model_name": "HTMLModel",
          "model_module_version": "1.5.0",
          "state": {
            "_dom_classes": [],
            "_model_module": "@jupyter-widgets/controls",
            "_model_module_version": "1.5.0",
            "_model_name": "HTMLModel",
            "_view_count": null,
            "_view_module": "@jupyter-widgets/controls",
            "_view_module_version": "1.5.0",
            "_view_name": "HTMLView",
            "description": "",
            "description_tooltip": null,
            "layout": "IPY_MODEL_c952dbddfec442498e1bc5aa3dbc1e94",
            "placeholder": "​",
            "style": "IPY_MODEL_5c3cc4a20aa543438e73e7de0b75f5ab",
            "value": " 483/483 [00:00&lt;00:00, 5.04kB/s]"
          }
        },
        "d7685b4608d842bea669344fa8744290": {
          "model_module": "@jupyter-widgets/base",
          "model_name": "LayoutModel",
          "model_module_version": "1.2.0",
          "state": {
            "_model_module": "@jupyter-widgets/base",
            "_model_module_version": "1.2.0",
            "_model_name": "LayoutModel",
            "_view_count": null,
            "_view_module": "@jupyter-widgets/base",
            "_view_module_version": "1.2.0",
            "_view_name": "LayoutView",
            "align_content": null,
            "align_items": null,
            "align_self": null,
            "border": null,
            "bottom": null,
            "display": null,
            "flex": null,
            "flex_flow": null,
            "grid_area": null,
            "grid_auto_columns": null,
            "grid_auto_flow": null,
            "grid_auto_rows": null,
            "grid_column": null,
            "grid_gap": null,
            "grid_row": null,
            "grid_template_areas": null,
            "grid_template_columns": null,
            "grid_template_rows": null,
            "height": null,
            "justify_content": null,
            "justify_items": null,
            "left": null,
            "margin": null,
            "max_height": null,
            "max_width": null,
            "min_height": null,
            "min_width": null,
            "object_fit": null,
            "object_position": null,
            "order": null,
            "overflow": null,
            "overflow_x": null,
            "overflow_y": null,
            "padding": null,
            "right": null,
            "top": null,
            "visibility": null,
            "width": null
          }
        },
        "899ae512e15d4870b8675a04d6db9e08": {
          "model_module": "@jupyter-widgets/base",
          "model_name": "LayoutModel",
          "model_module_version": "1.2.0",
          "state": {
            "_model_module": "@jupyter-widgets/base",
            "_model_module_version": "1.2.0",
            "_model_name": "LayoutModel",
            "_view_count": null,
            "_view_module": "@jupyter-widgets/base",
            "_view_module_version": "1.2.0",
            "_view_name": "LayoutView",
            "align_content": null,
            "align_items": null,
            "align_self": null,
            "border": null,
            "bottom": null,
            "display": null,
            "flex": null,
            "flex_flow": null,
            "grid_area": null,
            "grid_auto_columns": null,
            "grid_auto_flow": null,
            "grid_auto_rows": null,
            "grid_column": null,
            "grid_gap": null,
            "grid_row": null,
            "grid_template_areas": null,
            "grid_template_columns": null,
            "grid_template_rows": null,
            "height": null,
            "justify_content": null,
            "justify_items": null,
            "left": null,
            "margin": null,
            "max_height": null,
            "max_width": null,
            "min_height": null,
            "min_width": null,
            "object_fit": null,
            "object_position": null,
            "order": null,
            "overflow": null,
            "overflow_x": null,
            "overflow_y": null,
            "padding": null,
            "right": null,
            "top": null,
            "visibility": null,
            "width": null
          }
        },
        "c6107bd9e78e4c37b2a90a8a9d9538a9": {
          "model_module": "@jupyter-widgets/controls",
          "model_name": "DescriptionStyleModel",
          "model_module_version": "1.5.0",
          "state": {
            "_model_module": "@jupyter-widgets/controls",
            "_model_module_version": "1.5.0",
            "_model_name": "DescriptionStyleModel",
            "_view_count": null,
            "_view_module": "@jupyter-widgets/base",
            "_view_module_version": "1.2.0",
            "_view_name": "StyleView",
            "description_width": ""
          }
        },
        "62f68debc93f4fcba278391216a8b9ca": {
          "model_module": "@jupyter-widgets/base",
          "model_name": "LayoutModel",
          "model_module_version": "1.2.0",
          "state": {
            "_model_module": "@jupyter-widgets/base",
            "_model_module_version": "1.2.0",
            "_model_name": "LayoutModel",
            "_view_count": null,
            "_view_module": "@jupyter-widgets/base",
            "_view_module_version": "1.2.0",
            "_view_name": "LayoutView",
            "align_content": null,
            "align_items": null,
            "align_self": null,
            "border": null,
            "bottom": null,
            "display": null,
            "flex": null,
            "flex_flow": null,
            "grid_area": null,
            "grid_auto_columns": null,
            "grid_auto_flow": null,
            "grid_auto_rows": null,
            "grid_column": null,
            "grid_gap": null,
            "grid_row": null,
            "grid_template_areas": null,
            "grid_template_columns": null,
            "grid_template_rows": null,
            "height": null,
            "justify_content": null,
            "justify_items": null,
            "left": null,
            "margin": null,
            "max_height": null,
            "max_width": null,
            "min_height": null,
            "min_width": null,
            "object_fit": null,
            "object_position": null,
            "order": null,
            "overflow": null,
            "overflow_x": null,
            "overflow_y": null,
            "padding": null,
            "right": null,
            "top": null,
            "visibility": null,
            "width": null
          }
        },
        "d4f4cdd3085c406ba135f1f1e24316e6": {
          "model_module": "@jupyter-widgets/controls",
          "model_name": "ProgressStyleModel",
          "model_module_version": "1.5.0",
          "state": {
            "_model_module": "@jupyter-widgets/controls",
            "_model_module_version": "1.5.0",
            "_model_name": "ProgressStyleModel",
            "_view_count": null,
            "_view_module": "@jupyter-widgets/base",
            "_view_module_version": "1.2.0",
            "_view_name": "StyleView",
            "bar_color": null,
            "description_width": ""
          }
        },
        "c952dbddfec442498e1bc5aa3dbc1e94": {
          "model_module": "@jupyter-widgets/base",
          "model_name": "LayoutModel",
          "model_module_version": "1.2.0",
          "state": {
            "_model_module": "@jupyter-widgets/base",
            "_model_module_version": "1.2.0",
            "_model_name": "LayoutModel",
            "_view_count": null,
            "_view_module": "@jupyter-widgets/base",
            "_view_module_version": "1.2.0",
            "_view_name": "LayoutView",
            "align_content": null,
            "align_items": null,
            "align_self": null,
            "border": null,
            "bottom": null,
            "display": null,
            "flex": null,
            "flex_flow": null,
            "grid_area": null,
            "grid_auto_columns": null,
            "grid_auto_flow": null,
            "grid_auto_rows": null,
            "grid_column": null,
            "grid_gap": null,
            "grid_row": null,
            "grid_template_areas": null,
            "grid_template_columns": null,
            "grid_template_rows": null,
            "height": null,
            "justify_content": null,
            "justify_items": null,
            "left": null,
            "margin": null,
            "max_height": null,
            "max_width": null,
            "min_height": null,
            "min_width": null,
            "object_fit": null,
            "object_position": null,
            "order": null,
            "overflow": null,
            "overflow_x": null,
            "overflow_y": null,
            "padding": null,
            "right": null,
            "top": null,
            "visibility": null,
            "width": null
          }
        },
        "5c3cc4a20aa543438e73e7de0b75f5ab": {
          "model_module": "@jupyter-widgets/controls",
          "model_name": "DescriptionStyleModel",
          "model_module_version": "1.5.0",
          "state": {
            "_model_module": "@jupyter-widgets/controls",
            "_model_module_version": "1.5.0",
            "_model_name": "DescriptionStyleModel",
            "_view_count": null,
            "_view_module": "@jupyter-widgets/base",
            "_view_module_version": "1.2.0",
            "_view_name": "StyleView",
            "description_width": ""
          }
        },
        "1d2e993190494fc89c587f531b986486": {
          "model_module": "@jupyter-widgets/controls",
          "model_name": "HBoxModel",
          "model_module_version": "1.5.0",
          "state": {
            "_dom_classes": [],
            "_model_module": "@jupyter-widgets/controls",
            "_model_module_version": "1.5.0",
            "_model_name": "HBoxModel",
            "_view_count": null,
            "_view_module": "@jupyter-widgets/controls",
            "_view_module_version": "1.5.0",
            "_view_name": "HBoxView",
            "box_style": "",
            "children": [
              "IPY_MODEL_138e1752f40647e29744e9e07046a561",
              "IPY_MODEL_0c7db1e97c1f4fa5a162679ec9f8bd12",
              "IPY_MODEL_f7e895456ff34485955aa27026965fa6"
            ],
            "layout": "IPY_MODEL_830238d481c84b849b72497005fc984c"
          }
        },
        "138e1752f40647e29744e9e07046a561": {
          "model_module": "@jupyter-widgets/controls",
          "model_name": "HTMLModel",
          "model_module_version": "1.5.0",
          "state": {
            "_dom_classes": [],
            "_model_module": "@jupyter-widgets/controls",
            "_model_module_version": "1.5.0",
            "_model_name": "HTMLModel",
            "_view_count": null,
            "_view_module": "@jupyter-widgets/controls",
            "_view_module_version": "1.5.0",
            "_view_name": "HTMLView",
            "description": "",
            "description_tooltip": null,
            "layout": "IPY_MODEL_dad25fad9e5c4857b74fe3c18a67bef9",
            "placeholder": "​",
            "style": "IPY_MODEL_36a3a3fd6454435caaf4a154610bebab",
            "value": "Downloading: 100%"
          }
        },
        "0c7db1e97c1f4fa5a162679ec9f8bd12": {
          "model_module": "@jupyter-widgets/controls",
          "model_name": "FloatProgressModel",
          "model_module_version": "1.5.0",
          "state": {
            "_dom_classes": [],
            "_model_module": "@jupyter-widgets/controls",
            "_model_module_version": "1.5.0",
            "_model_name": "FloatProgressModel",
            "_view_count": null,
            "_view_module": "@jupyter-widgets/controls",
            "_view_module_version": "1.5.0",
            "_view_name": "ProgressView",
            "bar_style": "success",
            "description": "",
            "description_tooltip": null,
            "layout": "IPY_MODEL_e4ceef19a5ef474ebc5fc0dd020b8517",
            "max": 231508,
            "min": 0,
            "orientation": "horizontal",
            "style": "IPY_MODEL_f3a757df9cd64dd28fe9c37a62b3aa94",
            "value": 231508
          }
        },
        "f7e895456ff34485955aa27026965fa6": {
          "model_module": "@jupyter-widgets/controls",
          "model_name": "HTMLModel",
          "model_module_version": "1.5.0",
          "state": {
            "_dom_classes": [],
            "_model_module": "@jupyter-widgets/controls",
            "_model_module_version": "1.5.0",
            "_model_name": "HTMLModel",
            "_view_count": null,
            "_view_module": "@jupyter-widgets/controls",
            "_view_module_version": "1.5.0",
            "_view_name": "HTMLView",
            "description": "",
            "description_tooltip": null,
            "layout": "IPY_MODEL_48834b5711f3413c88b18c64c9f01d64",
            "placeholder": "​",
            "style": "IPY_MODEL_719bfd2931774290b099c6abf3a75976",
            "value": " 226k/226k [00:00&lt;00:00, 1.82MB/s]"
          }
        },
        "830238d481c84b849b72497005fc984c": {
          "model_module": "@jupyter-widgets/base",
          "model_name": "LayoutModel",
          "model_module_version": "1.2.0",
          "state": {
            "_model_module": "@jupyter-widgets/base",
            "_model_module_version": "1.2.0",
            "_model_name": "LayoutModel",
            "_view_count": null,
            "_view_module": "@jupyter-widgets/base",
            "_view_module_version": "1.2.0",
            "_view_name": "LayoutView",
            "align_content": null,
            "align_items": null,
            "align_self": null,
            "border": null,
            "bottom": null,
            "display": null,
            "flex": null,
            "flex_flow": null,
            "grid_area": null,
            "grid_auto_columns": null,
            "grid_auto_flow": null,
            "grid_auto_rows": null,
            "grid_column": null,
            "grid_gap": null,
            "grid_row": null,
            "grid_template_areas": null,
            "grid_template_columns": null,
            "grid_template_rows": null,
            "height": null,
            "justify_content": null,
            "justify_items": null,
            "left": null,
            "margin": null,
            "max_height": null,
            "max_width": null,
            "min_height": null,
            "min_width": null,
            "object_fit": null,
            "object_position": null,
            "order": null,
            "overflow": null,
            "overflow_x": null,
            "overflow_y": null,
            "padding": null,
            "right": null,
            "top": null,
            "visibility": null,
            "width": null
          }
        },
        "dad25fad9e5c4857b74fe3c18a67bef9": {
          "model_module": "@jupyter-widgets/base",
          "model_name": "LayoutModel",
          "model_module_version": "1.2.0",
          "state": {
            "_model_module": "@jupyter-widgets/base",
            "_model_module_version": "1.2.0",
            "_model_name": "LayoutModel",
            "_view_count": null,
            "_view_module": "@jupyter-widgets/base",
            "_view_module_version": "1.2.0",
            "_view_name": "LayoutView",
            "align_content": null,
            "align_items": null,
            "align_self": null,
            "border": null,
            "bottom": null,
            "display": null,
            "flex": null,
            "flex_flow": null,
            "grid_area": null,
            "grid_auto_columns": null,
            "grid_auto_flow": null,
            "grid_auto_rows": null,
            "grid_column": null,
            "grid_gap": null,
            "grid_row": null,
            "grid_template_areas": null,
            "grid_template_columns": null,
            "grid_template_rows": null,
            "height": null,
            "justify_content": null,
            "justify_items": null,
            "left": null,
            "margin": null,
            "max_height": null,
            "max_width": null,
            "min_height": null,
            "min_width": null,
            "object_fit": null,
            "object_position": null,
            "order": null,
            "overflow": null,
            "overflow_x": null,
            "overflow_y": null,
            "padding": null,
            "right": null,
            "top": null,
            "visibility": null,
            "width": null
          }
        },
        "36a3a3fd6454435caaf4a154610bebab": {
          "model_module": "@jupyter-widgets/controls",
          "model_name": "DescriptionStyleModel",
          "model_module_version": "1.5.0",
          "state": {
            "_model_module": "@jupyter-widgets/controls",
            "_model_module_version": "1.5.0",
            "_model_name": "DescriptionStyleModel",
            "_view_count": null,
            "_view_module": "@jupyter-widgets/base",
            "_view_module_version": "1.2.0",
            "_view_name": "StyleView",
            "description_width": ""
          }
        },
        "e4ceef19a5ef474ebc5fc0dd020b8517": {
          "model_module": "@jupyter-widgets/base",
          "model_name": "LayoutModel",
          "model_module_version": "1.2.0",
          "state": {
            "_model_module": "@jupyter-widgets/base",
            "_model_module_version": "1.2.0",
            "_model_name": "LayoutModel",
            "_view_count": null,
            "_view_module": "@jupyter-widgets/base",
            "_view_module_version": "1.2.0",
            "_view_name": "LayoutView",
            "align_content": null,
            "align_items": null,
            "align_self": null,
            "border": null,
            "bottom": null,
            "display": null,
            "flex": null,
            "flex_flow": null,
            "grid_area": null,
            "grid_auto_columns": null,
            "grid_auto_flow": null,
            "grid_auto_rows": null,
            "grid_column": null,
            "grid_gap": null,
            "grid_row": null,
            "grid_template_areas": null,
            "grid_template_columns": null,
            "grid_template_rows": null,
            "height": null,
            "justify_content": null,
            "justify_items": null,
            "left": null,
            "margin": null,
            "max_height": null,
            "max_width": null,
            "min_height": null,
            "min_width": null,
            "object_fit": null,
            "object_position": null,
            "order": null,
            "overflow": null,
            "overflow_x": null,
            "overflow_y": null,
            "padding": null,
            "right": null,
            "top": null,
            "visibility": null,
            "width": null
          }
        },
        "f3a757df9cd64dd28fe9c37a62b3aa94": {
          "model_module": "@jupyter-widgets/controls",
          "model_name": "ProgressStyleModel",
          "model_module_version": "1.5.0",
          "state": {
            "_model_module": "@jupyter-widgets/controls",
            "_model_module_version": "1.5.0",
            "_model_name": "ProgressStyleModel",
            "_view_count": null,
            "_view_module": "@jupyter-widgets/base",
            "_view_module_version": "1.2.0",
            "_view_name": "StyleView",
            "bar_color": null,
            "description_width": ""
          }
        },
        "48834b5711f3413c88b18c64c9f01d64": {
          "model_module": "@jupyter-widgets/base",
          "model_name": "LayoutModel",
          "model_module_version": "1.2.0",
          "state": {
            "_model_module": "@jupyter-widgets/base",
            "_model_module_version": "1.2.0",
            "_model_name": "LayoutModel",
            "_view_count": null,
            "_view_module": "@jupyter-widgets/base",
            "_view_module_version": "1.2.0",
            "_view_name": "LayoutView",
            "align_content": null,
            "align_items": null,
            "align_self": null,
            "border": null,
            "bottom": null,
            "display": null,
            "flex": null,
            "flex_flow": null,
            "grid_area": null,
            "grid_auto_columns": null,
            "grid_auto_flow": null,
            "grid_auto_rows": null,
            "grid_column": null,
            "grid_gap": null,
            "grid_row": null,
            "grid_template_areas": null,
            "grid_template_columns": null,
            "grid_template_rows": null,
            "height": null,
            "justify_content": null,
            "justify_items": null,
            "left": null,
            "margin": null,
            "max_height": null,
            "max_width": null,
            "min_height": null,
            "min_width": null,
            "object_fit": null,
            "object_position": null,
            "order": null,
            "overflow": null,
            "overflow_x": null,
            "overflow_y": null,
            "padding": null,
            "right": null,
            "top": null,
            "visibility": null,
            "width": null
          }
        },
        "719bfd2931774290b099c6abf3a75976": {
          "model_module": "@jupyter-widgets/controls",
          "model_name": "DescriptionStyleModel",
          "model_module_version": "1.5.0",
          "state": {
            "_model_module": "@jupyter-widgets/controls",
            "_model_module_version": "1.5.0",
            "_model_name": "DescriptionStyleModel",
            "_view_count": null,
            "_view_module": "@jupyter-widgets/base",
            "_view_module_version": "1.2.0",
            "_view_name": "StyleView",
            "description_width": ""
          }
        },
        "70eb654f20624e14b0206b8471400040": {
          "model_module": "@jupyter-widgets/controls",
          "model_name": "HBoxModel",
          "model_module_version": "1.5.0",
          "state": {
            "_dom_classes": [],
            "_model_module": "@jupyter-widgets/controls",
            "_model_module_version": "1.5.0",
            "_model_name": "HBoxModel",
            "_view_count": null,
            "_view_module": "@jupyter-widgets/controls",
            "_view_module_version": "1.5.0",
            "_view_name": "HBoxView",
            "box_style": "",
            "children": [
              "IPY_MODEL_3dead2c9ebbf449a9f480055c12b8604",
              "IPY_MODEL_34c7620cea5841f5b9152b0374b5218d",
              "IPY_MODEL_23943dadb9ed4dc4949ee2c2f44fde10"
            ],
            "layout": "IPY_MODEL_3900da870a8d4326b71a1ded9fb34bbd"
          }
        },
        "3dead2c9ebbf449a9f480055c12b8604": {
          "model_module": "@jupyter-widgets/controls",
          "model_name": "HTMLModel",
          "model_module_version": "1.5.0",
          "state": {
            "_dom_classes": [],
            "_model_module": "@jupyter-widgets/controls",
            "_model_module_version": "1.5.0",
            "_model_name": "HTMLModel",
            "_view_count": null,
            "_view_module": "@jupyter-widgets/controls",
            "_view_module_version": "1.5.0",
            "_view_name": "HTMLView",
            "description": "",
            "description_tooltip": null,
            "layout": "IPY_MODEL_a1fa89cb5dcc454c8b52ac341342de06",
            "placeholder": "​",
            "style": "IPY_MODEL_d189e07f64e44747b192cfe821b9491f",
            "value": "Downloading: 100%"
          }
        },
        "34c7620cea5841f5b9152b0374b5218d": {
          "model_module": "@jupyter-widgets/controls",
          "model_name": "FloatProgressModel",
          "model_module_version": "1.5.0",
          "state": {
            "_dom_classes": [],
            "_model_module": "@jupyter-widgets/controls",
            "_model_module_version": "1.5.0",
            "_model_name": "FloatProgressModel",
            "_view_count": null,
            "_view_module": "@jupyter-widgets/controls",
            "_view_module_version": "1.5.0",
            "_view_name": "ProgressView",
            "bar_style": "success",
            "description": "",
            "description_tooltip": null,
            "layout": "IPY_MODEL_2155209d25ae4b6f85df18824916db50",
            "max": 466062,
            "min": 0,
            "orientation": "horizontal",
            "style": "IPY_MODEL_2c25edcfc0bf41fe94ef8640355ff515",
            "value": 466062
          }
        },
        "23943dadb9ed4dc4949ee2c2f44fde10": {
          "model_module": "@jupyter-widgets/controls",
          "model_name": "HTMLModel",
          "model_module_version": "1.5.0",
          "state": {
            "_dom_classes": [],
            "_model_module": "@jupyter-widgets/controls",
            "_model_module_version": "1.5.0",
            "_model_name": "HTMLModel",
            "_view_count": null,
            "_view_module": "@jupyter-widgets/controls",
            "_view_module_version": "1.5.0",
            "_view_name": "HTMLView",
            "description": "",
            "description_tooltip": null,
            "layout": "IPY_MODEL_d554009716774d87a8442003832e1ce5",
            "placeholder": "​",
            "style": "IPY_MODEL_ae96a9e098f34fd281568d592f63c29a",
            "value": " 455k/455k [00:00&lt;00:00, 4.04MB/s]"
          }
        },
        "3900da870a8d4326b71a1ded9fb34bbd": {
          "model_module": "@jupyter-widgets/base",
          "model_name": "LayoutModel",
          "model_module_version": "1.2.0",
          "state": {
            "_model_module": "@jupyter-widgets/base",
            "_model_module_version": "1.2.0",
            "_model_name": "LayoutModel",
            "_view_count": null,
            "_view_module": "@jupyter-widgets/base",
            "_view_module_version": "1.2.0",
            "_view_name": "LayoutView",
            "align_content": null,
            "align_items": null,
            "align_self": null,
            "border": null,
            "bottom": null,
            "display": null,
            "flex": null,
            "flex_flow": null,
            "grid_area": null,
            "grid_auto_columns": null,
            "grid_auto_flow": null,
            "grid_auto_rows": null,
            "grid_column": null,
            "grid_gap": null,
            "grid_row": null,
            "grid_template_areas": null,
            "grid_template_columns": null,
            "grid_template_rows": null,
            "height": null,
            "justify_content": null,
            "justify_items": null,
            "left": null,
            "margin": null,
            "max_height": null,
            "max_width": null,
            "min_height": null,
            "min_width": null,
            "object_fit": null,
            "object_position": null,
            "order": null,
            "overflow": null,
            "overflow_x": null,
            "overflow_y": null,
            "padding": null,
            "right": null,
            "top": null,
            "visibility": null,
            "width": null
          }
        },
        "a1fa89cb5dcc454c8b52ac341342de06": {
          "model_module": "@jupyter-widgets/base",
          "model_name": "LayoutModel",
          "model_module_version": "1.2.0",
          "state": {
            "_model_module": "@jupyter-widgets/base",
            "_model_module_version": "1.2.0",
            "_model_name": "LayoutModel",
            "_view_count": null,
            "_view_module": "@jupyter-widgets/base",
            "_view_module_version": "1.2.0",
            "_view_name": "LayoutView",
            "align_content": null,
            "align_items": null,
            "align_self": null,
            "border": null,
            "bottom": null,
            "display": null,
            "flex": null,
            "flex_flow": null,
            "grid_area": null,
            "grid_auto_columns": null,
            "grid_auto_flow": null,
            "grid_auto_rows": null,
            "grid_column": null,
            "grid_gap": null,
            "grid_row": null,
            "grid_template_areas": null,
            "grid_template_columns": null,
            "grid_template_rows": null,
            "height": null,
            "justify_content": null,
            "justify_items": null,
            "left": null,
            "margin": null,
            "max_height": null,
            "max_width": null,
            "min_height": null,
            "min_width": null,
            "object_fit": null,
            "object_position": null,
            "order": null,
            "overflow": null,
            "overflow_x": null,
            "overflow_y": null,
            "padding": null,
            "right": null,
            "top": null,
            "visibility": null,
            "width": null
          }
        },
        "d189e07f64e44747b192cfe821b9491f": {
          "model_module": "@jupyter-widgets/controls",
          "model_name": "DescriptionStyleModel",
          "model_module_version": "1.5.0",
          "state": {
            "_model_module": "@jupyter-widgets/controls",
            "_model_module_version": "1.5.0",
            "_model_name": "DescriptionStyleModel",
            "_view_count": null,
            "_view_module": "@jupyter-widgets/base",
            "_view_module_version": "1.2.0",
            "_view_name": "StyleView",
            "description_width": ""
          }
        },
        "2155209d25ae4b6f85df18824916db50": {
          "model_module": "@jupyter-widgets/base",
          "model_name": "LayoutModel",
          "model_module_version": "1.2.0",
          "state": {
            "_model_module": "@jupyter-widgets/base",
            "_model_module_version": "1.2.0",
            "_model_name": "LayoutModel",
            "_view_count": null,
            "_view_module": "@jupyter-widgets/base",
            "_view_module_version": "1.2.0",
            "_view_name": "LayoutView",
            "align_content": null,
            "align_items": null,
            "align_self": null,
            "border": null,
            "bottom": null,
            "display": null,
            "flex": null,
            "flex_flow": null,
            "grid_area": null,
            "grid_auto_columns": null,
            "grid_auto_flow": null,
            "grid_auto_rows": null,
            "grid_column": null,
            "grid_gap": null,
            "grid_row": null,
            "grid_template_areas": null,
            "grid_template_columns": null,
            "grid_template_rows": null,
            "height": null,
            "justify_content": null,
            "justify_items": null,
            "left": null,
            "margin": null,
            "max_height": null,
            "max_width": null,
            "min_height": null,
            "min_width": null,
            "object_fit": null,
            "object_position": null,
            "order": null,
            "overflow": null,
            "overflow_x": null,
            "overflow_y": null,
            "padding": null,
            "right": null,
            "top": null,
            "visibility": null,
            "width": null
          }
        },
        "2c25edcfc0bf41fe94ef8640355ff515": {
          "model_module": "@jupyter-widgets/controls",
          "model_name": "ProgressStyleModel",
          "model_module_version": "1.5.0",
          "state": {
            "_model_module": "@jupyter-widgets/controls",
            "_model_module_version": "1.5.0",
            "_model_name": "ProgressStyleModel",
            "_view_count": null,
            "_view_module": "@jupyter-widgets/base",
            "_view_module_version": "1.2.0",
            "_view_name": "StyleView",
            "bar_color": null,
            "description_width": ""
          }
        },
        "d554009716774d87a8442003832e1ce5": {
          "model_module": "@jupyter-widgets/base",
          "model_name": "LayoutModel",
          "model_module_version": "1.2.0",
          "state": {
            "_model_module": "@jupyter-widgets/base",
            "_model_module_version": "1.2.0",
            "_model_name": "LayoutModel",
            "_view_count": null,
            "_view_module": "@jupyter-widgets/base",
            "_view_module_version": "1.2.0",
            "_view_name": "LayoutView",
            "align_content": null,
            "align_items": null,
            "align_self": null,
            "border": null,
            "bottom": null,
            "display": null,
            "flex": null,
            "flex_flow": null,
            "grid_area": null,
            "grid_auto_columns": null,
            "grid_auto_flow": null,
            "grid_auto_rows": null,
            "grid_column": null,
            "grid_gap": null,
            "grid_row": null,
            "grid_template_areas": null,
            "grid_template_columns": null,
            "grid_template_rows": null,
            "height": null,
            "justify_content": null,
            "justify_items": null,
            "left": null,
            "margin": null,
            "max_height": null,
            "max_width": null,
            "min_height": null,
            "min_width": null,
            "object_fit": null,
            "object_position": null,
            "order": null,
            "overflow": null,
            "overflow_x": null,
            "overflow_y": null,
            "padding": null,
            "right": null,
            "top": null,
            "visibility": null,
            "width": null
          }
        },
        "ae96a9e098f34fd281568d592f63c29a": {
          "model_module": "@jupyter-widgets/controls",
          "model_name": "DescriptionStyleModel",
          "model_module_version": "1.5.0",
          "state": {
            "_model_module": "@jupyter-widgets/controls",
            "_model_module_version": "1.5.0",
            "_model_name": "DescriptionStyleModel",
            "_view_count": null,
            "_view_module": "@jupyter-widgets/base",
            "_view_module_version": "1.2.0",
            "_view_name": "StyleView",
            "description_width": ""
          }
        }
      }
    }
  },
  "nbformat": 4,
  "nbformat_minor": 5
}