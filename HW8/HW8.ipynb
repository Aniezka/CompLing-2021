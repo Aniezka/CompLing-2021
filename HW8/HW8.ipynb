{
 "cells": [
  {
   "cell_type": "markdown",
   "id": "e387ef26",
   "metadata": {
    "id": "e387ef26"
   },
   "source": [
    "## Задание 1 (4 балла)"
   ]
  },
  {
   "cell_type": "markdown",
   "id": "47944346",
   "metadata": {
    "id": "47944346"
   },
   "source": [
    "Обучите 8 моделей для задачи классификации текста (датасет - lenta_40k ). А именно:  \n",
    "1) модель с 1 GRU слоем;   \n",
    "2) модель с 1 LSTM слоем    \n",
    "3) модель с 1 GRU и 1 LSTM слоем  \n",
    "4) модель с 1 BIGRU и 2 LSTM слоями  \n",
    "5) модель с 5 GRU слоями и 3 LSTM слоями  \n",
    "6) модель 1 BIGRU и 1 BILSTM слоями, причем так чтобы модели для forward и backward прохода отличались   \n",
    "7) модель, где последовательно идут слои: LSTM, GRU, BILSTM, BIGRU, GRU, LSTM  \n",
    "8) модель с 50 любыми рекуррентными слоями\n",
    "\n",
    "\n",
    "Параметр units и размер эмбединга можете задать любой. Оцените качество каждой модели и определите победителя."
   ]
  },
  {
   "cell_type": "code",
   "execution_count": 6,
   "id": "95bcd779",
   "metadata": {
    "id": "95bcd779"
   },
   "outputs": [],
   "source": [
    "import tensorflow as tf\n",
    "import pandas as pd\n",
    "import numpy as np\n",
    "from string import punctuation\n",
    "from sklearn.model_selection import train_test_split\n",
    "from collections import Counter\n",
    "from IPython.display import Image\n",
    "from IPython.core.display import HTML\n",
    "from tensorflow.keras import backend as K\n",
    "from random import choice\n",
    "import matplotlib.pyplot as plt\n",
    "%matplotlib inline"
   ]
  },
  {
   "cell_type": "code",
   "execution_count": 22,
   "id": "9b73beb1",
   "metadata": {
    "id": "9b73beb1"
   },
   "outputs": [],
   "source": [
    "def f1(y_true, y_pred):\n",
    "    def recall(y_true, y_pred):\n",
    "        \"\"\"Recall metric.\n",
    "\n",
    "        Only computes a batch-wise average of recall.\n",
    "\n",
    "        Computes the recall, a metric for multi-label classification of\n",
    "        how many relevant items are selected.\n",
    "        \"\"\"\n",
    "        true_positives = K.sum(K.round(K.clip(y_true * y_pred, 0, 1)))\n",
    "        possible_positives = K.sum(K.round(K.clip(y_true, 0, 1)))\n",
    "        recall = true_positives / (possible_positives + K.epsilon())\n",
    "        return recall\n",
    "\n",
    "    def precision(y_true, y_pred):\n",
    "        \"\"\"Precision metric.\n",
    "\n",
    "        Only computes a batch-wise average of precision.\n",
    "\n",
    "        Computes the precision, a metric for multi-label classification of\n",
    "        how many selected items are relevant.\n",
    "        \"\"\"\n",
    "        true_positives = K.sum(K.round(K.clip(y_true * y_pred, 0, 1)))\n",
    "        predicted_positives = K.sum(K.round(K.clip(y_pred, 0, 1)))\n",
    "        precision = true_positives / (predicted_positives + K.epsilon())\n",
    "        return precision\n",
    "    precision = precision(y_true, y_pred)\n",
    "    recall = recall(y_true, y_pred)\n",
    "    return 2*((precision*recall)/(precision+recall+K.epsilon()))\n",
    "\n",
    "\n",
    "def preprocess(text):\n",
    "    tokens = text.lower().split()\n",
    "    tokens = [token.strip(punctuation) for token in tokens]\n",
    "    return tokens\n",
    "\n",
    "\n",
    "def get_model(layer):\n",
    "    dense = tf.keras.layers.Dense(N_LEN, activation='relu')(layer)\n",
    "    outputs = tf.keras.layers.Dense(len(label2id), activation='softmax')(dense)\n",
    "    model = tf.keras.Model(inputs=inputs, outputs=outputs)\n",
    "    optimizer = tf.keras.optimizers.Adam(learning_rate=0.001)\n",
    "    model.compile(optimizer=optimizer,\n",
    "                loss='categorical_crossentropy',\n",
    "                metrics=[f1, tf.keras.metrics.RecallAtPrecision(0.8, name='rec@prec')])\n",
    "    return model\n"
   ]
  },
  {
   "cell_type": "code",
   "execution_count": null,
   "id": "3c03accb",
   "metadata": {
    "id": "3c03accb"
   },
   "outputs": [],
   "source": [
    "data = pd.read_csv('lenta_40k.csv')"
   ]
  },
  {
   "cell_type": "code",
   "execution_count": null,
   "id": "3af67c0c",
   "metadata": {
    "id": "3af67c0c"
   },
   "outputs": [],
   "source": [
    "processed_texts = []\n",
    "vocab = Counter()\n",
    "\n",
    "for text in data.text:\n",
    "    processed_text = preprocess(text)\n",
    "    vocab.update(processed_text)\n",
    "    processed_texts.append(processed_text)"
   ]
  },
  {
   "cell_type": "code",
   "execution_count": null,
   "id": "7366ea55",
   "metadata": {
    "id": "7366ea55"
   },
   "outputs": [],
   "source": [
    "word2id = {'PAD': 0, 'UNK': 1}\n",
    "\n",
    "for word in vocab:\n",
    "    word2id[word] = len(word2id)\n",
    "id2word = {i: word for word, i in word2id.items()}\n",
    "\n",
    "X = []\n",
    "for text in processed_texts:\n",
    "    ids = [word2id.get(token, 1) for token in text]\n",
    "    X.append(ids)\n",
    "    \n",
    "MEAN_LEN = np.median([len(x) for x in X])\n",
    "MAX_LEN = int(MEAN_LEN + 30)\n",
    "\n",
    "X = tf.keras.preprocessing.sequence.pad_sequences(X, maxlen=MAX_LEN)\n",
    "id2label = {i: label for i, label in enumerate(set(data.topic.values))}\n",
    "label2id = {l: i for i, l in id2label.items()}\n",
    "\n",
    "y = tf.keras.utils.to_categorical([label2id[label] for label in data.topic.values])\n",
    "\n",
    "X_train, X_valid, y_train, y_valid = train_test_split(X, y, test_size=0.05, stratify=y)"
   ]
  },
  {
   "cell_type": "code",
   "execution_count": 20,
   "id": "2a8e274d",
   "metadata": {
    "id": "2a8e274d"
   },
   "outputs": [],
   "source": [
    "N_LEN = 64\n",
    "\n",
    "models = []"
   ]
  },
  {
   "cell_type": "markdown",
   "id": "64b87abb",
   "metadata": {
    "id": "64b87abb"
   },
   "source": [
    "1) модель с 1 GRU слоем;"
   ]
  },
  {
   "cell_type": "code",
   "execution_count": null,
   "id": "35d1d14c",
   "metadata": {
    "id": "35d1d14c"
   },
   "outputs": [],
   "source": [
    "inputs = tf.keras.layers.Input(shape=(MAX_LEN,))\n",
    "embeddings = tf.keras.layers.Embedding(input_dim=len(word2id), output_dim=30)(inputs, )\n",
    "\n",
    "rnn = tf.keras.layers.GRU(N_LEN, return_sequences=False)(embeddings)\n",
    "\n",
    "models.append(get_model(rnn))"
   ]
  },
  {
   "cell_type": "markdown",
   "id": "1c287cfb",
   "metadata": {
    "id": "1c287cfb"
   },
   "source": [
    "2) модель с 1 LSTM слоем\n"
   ]
  },
  {
   "cell_type": "code",
   "execution_count": null,
   "id": "3f850772",
   "metadata": {
    "id": "3f850772"
   },
   "outputs": [],
   "source": [
    "inputs = tf.keras.layers.Input(shape=(MAX_LEN,))\n",
    "embeddings = tf.keras.layers.Embedding(input_dim=len(word2id), output_dim=30)(inputs, )\n",
    "\n",
    "rnn = tf.keras.layers.LSTM(N_LEN, return_sequences=False)(embeddings)\n",
    "\n",
    "models.append(get_model(rnn))"
   ]
  },
  {
   "cell_type": "markdown",
   "id": "502f2977",
   "metadata": {
    "id": "502f2977"
   },
   "source": [
    "\n",
    "3) модель с 1 GRU и 1 LSTM слоем\n"
   ]
  },
  {
   "cell_type": "code",
   "execution_count": null,
   "id": "1d7a0ba7",
   "metadata": {
    "id": "1d7a0ba7"
   },
   "outputs": [],
   "source": [
    "inputs = tf.keras.layers.Input(shape=(MAX_LEN,))\n",
    "embeddings = tf.keras.layers.Embedding(input_dim=len(word2id), output_dim=30)(inputs, )\n",
    "\n",
    "lstm_1 = tf.keras.layers.GRU(N_LEN, return_sequences=True)(embeddings)\n",
    "lstm_2 = tf.keras.layers.LSTM(N_LEN, return_sequences=False)(lstm_1)\n",
    "\n",
    "models.append(get_model(lstm_2))"
   ]
  },
  {
   "cell_type": "markdown",
   "id": "4d22e49b",
   "metadata": {
    "id": "4d22e49b"
   },
   "source": [
    "4) модель с 1 BIGRU и 2 LSTM слоями"
   ]
  },
  {
   "cell_type": "code",
   "execution_count": null,
   "id": "90917bf1",
   "metadata": {
    "id": "90917bf1"
   },
   "outputs": [],
   "source": [
    "inputs = tf.keras.layers.Input(shape=(MAX_LEN,))\n",
    "embeddings = tf.keras.layers.Embedding(input_dim=len(word2id), output_dim=30)(inputs, )\n",
    "\n",
    "bigru = tf.keras.layers.LSTM(N_LEN, return_sequences=True)(embeddings)\n",
    "lstm_1 = tf.keras.layers.Bidirectional(tf.keras.layers.GRU(N_LEN, return_sequences=True))(bigru)\n",
    "lstm_2 = tf.keras.layers.LSTM(N_LEN, return_sequences=False)(lstm_1)\n",
    "\n",
    "models.append(get_model(lstm_2))"
   ]
  },
  {
   "cell_type": "markdown",
   "id": "c32dcff6",
   "metadata": {
    "id": "c32dcff6"
   },
   "source": [
    "5) модель с 5 GRU слоями и 3 LSTM слоями"
   ]
  },
  {
   "cell_type": "code",
   "execution_count": null,
   "id": "6a4cfacc",
   "metadata": {
    "id": "6a4cfacc"
   },
   "outputs": [],
   "source": [
    "inputs = tf.keras.layers.Input(shape=(MAX_LEN,))\n",
    "embeddings = tf.keras.layers.Embedding(input_dim=len(word2id), output_dim=30)(inputs, )\n",
    "\n",
    "gru_1 = tf.keras.layers.GRU(N_LEN, return_sequences=True)(embeddings)\n",
    "gru_2 = tf.keras.layers.GRU(N_LEN, return_sequences=True)(gru_1)\n",
    "gru_3 = tf.keras.layers.GRU(N_LEN, return_sequences=True)(gru_2)\n",
    "gru_4 = tf.keras.layers.GRU(N_LEN, return_sequences=True)(gru_3)\n",
    "gru_5 = tf.keras.layers.GRU(N_LEN, return_sequences=True)(gru_4)\n",
    "lstm_1 = tf.keras.layers.LSTM(N_LEN, return_sequences=True)(gru_5)\n",
    "lstm_2 = tf.keras.layers.LSTM(N_LEN, return_sequences=True)(lstm_1)\n",
    "lstm_3 = tf.keras.layers.LSTM(N_LEN, return_sequences=False)(lstm_2)\n",
    "\n",
    "models.append(get_model(lstm_3))"
   ]
  },
  {
   "cell_type": "markdown",
   "id": "d8cb315d",
   "metadata": {
    "id": "d8cb315d"
   },
   "source": [
    "6) модель 1 BIGRU и 1 BILSTM слоями, причем так чтобы модели для forward и backward прохода отличались"
   ]
  },
  {
   "cell_type": "code",
   "execution_count": null,
   "id": "a1c01dd6",
   "metadata": {
    "id": "a1c01dd6"
   },
   "outputs": [],
   "source": [
    "inputs = tf.keras.layers.Input(shape=(MAX_LEN,))\n",
    "embeddings = tf.keras.layers.Embedding(input_dim=len(word2id), output_dim=30)(inputs, )\n",
    "\n",
    "bilstm_forward =  tf.keras.layers.Bidirectional(tf.keras.layers.LSTM(N_LEN, return_sequences=False))(embeddings)\n",
    "bigru_backward =  tf.keras.layers.Bidirectional(tf.keras.layers.GRU(N_LEN, return_sequences=False, go_backwards=True))(embeddings)\n",
    "\n",
    "hidden = tf.keras.layers.concatenate([bilstm_forward, bigru_backward])\n",
    "\n",
    "models.append(get_model(hidden))"
   ]
  },
  {
   "cell_type": "markdown",
   "id": "856c9708",
   "metadata": {
    "id": "856c9708"
   },
   "source": [
    "7) модель, где последовательно идут слои: LSTM, GRU, BILSTM, BIGRU, GRU, LSTM"
   ]
  },
  {
   "cell_type": "code",
   "execution_count": null,
   "id": "60c547d6",
   "metadata": {
    "id": "60c547d6"
   },
   "outputs": [],
   "source": [
    "inputs = tf.keras.layers.Input(shape=(MAX_LEN,))\n",
    "embeddings = tf.keras.layers.Embedding(input_dim=len(word2id), output_dim=30)(inputs, )\n",
    "\n",
    "lstm_1 = tf.keras.layers.LSTM(N_LEN, return_sequences=True)(embeddings)\n",
    "gru_1 = tf.keras.layers.GRU(N_LEN, return_sequences=True)(lstm_1)\n",
    "bigru_1 = tf.keras.layers.Bidirectional(tf.keras.layers.LSTM(N_LEN, return_sequences=True))(gru_1)\n",
    "bilstm_1 = tf.keras.layers.Bidirectional(tf.keras.layers.GRU(N_LEN, return_sequences=True))(bigru_1)\n",
    "gru_2 = tf.keras.layers.GRU(N_LEN, return_sequences=True)(bilstm_1)\n",
    "lstm_2 = tf.keras.layers.LSTM(N_LEN, return_sequences=False)(gru_2)\n",
    "\n",
    "models.append(get_model(lstm_2))"
   ]
  },
  {
   "cell_type": "markdown",
   "id": "a3813db8",
   "metadata": {
    "id": "a3813db8"
   },
   "source": [
    "8) модель с 50 любыми рекуррентными слоями"
   ]
  },
  {
   "cell_type": "code",
   "execution_count": null,
   "id": "27cf1a8b",
   "metadata": {
    "id": "27cf1a8b"
   },
   "outputs": [],
   "source": [
    "N_LEN_SMALL = N_LEN // 2\n",
    "\n",
    "rnn_layer = choice([tf.keras.layers.LSTM(N_LEN_SMALL, return_sequences=True)(embeddings),\n",
    "                    tf.keras.layers.GRU(N_LEN_SMALL, return_sequences=True)(embeddings)])\n",
    "for _ in range(49):\n",
    "    rnn_layer = choice([tf.keras.layers.LSTM(N_LEN_SMALL, return_sequences=True)(rnn_layer),\n",
    "                        tf.keras.layers.GRU(N_LEN_SMALL, return_sequences=True)(rnn_layer)])\n",
    "rnn_layer = choice([tf.keras.layers.LSTM(N_LEN_SMALL, return_sequences=False)(rnn_layer),\n",
    "                    tf.keras.layers.GRU(N_LEN_SMALL, return_sequences=False)(rnn_layer)])\n",
    "models.append(get_model(rnn_layer))"
   ]
  },
  {
   "cell_type": "code",
   "execution_count": null,
   "id": "nhN22WgZ-KXH",
   "metadata": {
    "id": "nhN22WgZ-KXH"
   },
   "outputs": [],
   "source": [
    "models[7].fit(X_train, y_train, \n",
    "              validation_data=(X_valid, y_valid),\n",
    "              batch_size=1000,\n",
    "              epochs=10)"
   ]
  },
  {
   "cell_type": "code",
   "execution_count": null,
   "id": "b74dfda1",
   "metadata": {
    "colab": {
     "base_uri": "https://localhost:8080/"
    },
    "id": "b74dfda1",
    "outputId": "d2b30d37-4403-4be7-9f70-7c098f5d252d"
   },
   "outputs": [
    {
     "name": "stdout",
     "output_type": "stream",
     "text": [
      "Epoch 1/10\n",
      "43/43 [==============================] - 8s 59ms/step - loss: 2.6433 - f1: 0.0000e+00 - rec@prec: 0.0000e+00 - val_loss: 2.3470 - val_f1: 0.0000e+00 - val_rec@prec: 0.0000e+00\n",
      "Epoch 2/10\n",
      "43/43 [==============================] - 1s 34ms/step - loss: 2.2614 - f1: 0.0000e+00 - rec@prec: 2.3732e-05 - val_loss: 2.2054 - val_f1: 0.0000e+00 - val_rec@prec: 0.0000e+00\n",
      "Epoch 3/10\n",
      "43/43 [==============================] - 1s 33ms/step - loss: 2.0256 - f1: 0.0146 - rec@prec: 0.0060 - val_loss: 2.0289 - val_f1: 0.0296 - val_rec@prec: 0.0023\n",
      "Epoch 4/10\n",
      "43/43 [==============================] - 1s 33ms/step - loss: 1.6507 - f1: 0.2201 - rec@prec: 0.1014 - val_loss: 1.9681 - val_f1: 0.2646 - val_rec@prec: 0.0167\n",
      "Epoch 5/10\n",
      "43/43 [==============================] - 1s 34ms/step - loss: 1.2729 - f1: 0.4839 - rec@prec: 0.3709 - val_loss: 2.1118 - val_f1: 0.3291 - val_rec@prec: 0.0532\n",
      "Epoch 6/10\n",
      "43/43 [==============================] - 1s 33ms/step - loss: 0.9928 - f1: 0.6123 - rec@prec: 0.5444 - val_loss: 2.1527 - val_f1: 0.3402 - val_rec@prec: 0.0888\n",
      "Epoch 7/10\n",
      "43/43 [==============================] - 1s 33ms/step - loss: 0.7470 - f1: 0.7217 - rec@prec: 0.7072 - val_loss: 2.4066 - val_f1: 0.3806 - val_rec@prec: 0.1172\n",
      "Epoch 8/10\n",
      "43/43 [==============================] - 1s 33ms/step - loss: 0.5474 - f1: 0.8055 - rec@prec: 0.8491 - val_loss: 2.6536 - val_f1: 0.4167 - val_rec@prec: 0.1190\n",
      "Epoch 9/10\n",
      "43/43 [==============================] - 1s 33ms/step - loss: 0.3979 - f1: 0.8741 - rec@prec: 0.9294 - val_loss: 2.9223 - val_f1: 0.4066 - val_rec@prec: 0.1628\n",
      "Epoch 10/10\n",
      "43/43 [==============================] - 1s 33ms/step - loss: 0.2694 - f1: 0.9246 - rec@prec: 0.9708 - val_loss: 3.1561 - val_f1: 0.4353 - val_rec@prec: 0.1610\n",
      "Epoch 1/10\n",
      "43/43 [==============================] - 4s 48ms/step - loss: 2.6024 - f1: 0.0000e+00 - rec@prec: 0.0000e+00 - val_loss: 2.3376 - val_f1: 0.0000e+00 - val_rec@prec: 0.0000e+00\n",
      "Epoch 2/10\n",
      "43/43 [==============================] - 1s 35ms/step - loss: 2.2959 - f1: 0.0000e+00 - rec@prec: 2.1358e-04 - val_loss: 2.1780 - val_f1: 0.0000e+00 - val_rec@prec: 0.0036\n",
      "Epoch 3/10\n",
      "43/43 [==============================] - 1s 34ms/step - loss: 1.9605 - f1: 4.7401e-04 - rec@prec: 0.0054 - val_loss: 1.9219 - val_f1: 6.6600e-04 - val_rec@prec: 0.0072\n",
      "Epoch 4/10\n",
      "43/43 [==============================] - 1s 35ms/step - loss: 1.6483 - f1: 0.2246 - rec@prec: 0.0628 - val_loss: 1.6903 - val_f1: 0.3430 - val_rec@prec: 0.2399\n",
      "Epoch 5/10\n",
      "43/43 [==============================] - 2s 35ms/step - loss: 1.2300 - f1: 0.5790 - rec@prec: 0.4660 - val_loss: 1.5234 - val_f1: 0.5096 - val_rec@prec: 0.2782\n",
      "Epoch 6/10\n",
      "43/43 [==============================] - 1s 35ms/step - loss: 0.9133 - f1: 0.6832 - rec@prec: 0.6334 - val_loss: 1.5663 - val_f1: 0.5583 - val_rec@prec: 0.3012\n",
      "Epoch 7/10\n",
      "43/43 [==============================] - 1s 35ms/step - loss: 0.6487 - f1: 0.7865 - rec@prec: 0.8165 - val_loss: 1.6396 - val_f1: 0.5992 - val_rec@prec: 0.4112\n",
      "Epoch 8/10\n",
      "43/43 [==============================] - 1s 35ms/step - loss: 0.4267 - f1: 0.8766 - rec@prec: 0.9193 - val_loss: 1.7345 - val_f1: 0.5962 - val_rec@prec: 0.4310\n",
      "Epoch 9/10\n",
      "43/43 [==============================] - 2s 36ms/step - loss: 0.2952 - f1: 0.9227 - rec@prec: 0.9608 - val_loss: 1.8052 - val_f1: 0.6071 - val_rec@prec: 0.4463\n",
      "Epoch 10/10\n",
      "43/43 [==============================] - 2s 35ms/step - loss: 0.1965 - f1: 0.9525 - rec@prec: 0.9820 - val_loss: 1.9374 - val_f1: 0.6008 - val_rec@prec: 0.4576\n",
      "Epoch 1/10\n",
      "43/43 [==============================] - 6s 80ms/step - loss: 2.5520 - f1: 0.0000e+00 - rec@prec: 0.0000e+00 - val_loss: 2.3312 - val_f1: 0.0000e+00 - val_rec@prec: 0.0000e+00\n",
      "Epoch 2/10\n",
      "43/43 [==============================] - 3s 60ms/step - loss: 2.2457 - f1: 0.0000e+00 - rec@prec: 4.7463e-05 - val_loss: 2.0504 - val_f1: 0.0000e+00 - val_rec@prec: 0.0023\n",
      "Epoch 3/10\n",
      "43/43 [==============================] - 3s 60ms/step - loss: 1.8029 - f1: 0.0785 - rec@prec: 0.0213 - val_loss: 1.8432 - val_f1: 0.2905 - val_rec@prec: 0.0613\n",
      "Epoch 4/10\n",
      "43/43 [==============================] - 3s 60ms/step - loss: 1.5133 - f1: 0.2763 - rec@prec: 0.0968 - val_loss: 1.7859 - val_f1: 0.2674 - val_rec@prec: 0.0852\n",
      "Epoch 5/10\n",
      "43/43 [==============================] - 3s 60ms/step - loss: 1.2962 - f1: 0.3457 - rec@prec: 0.1031 - val_loss: 1.8192 - val_f1: 0.2741 - val_rec@prec: 0.0965\n",
      "Epoch 6/10\n",
      "43/43 [==============================] - 3s 60ms/step - loss: 1.1328 - f1: 0.4372 - rec@prec: 0.1313 - val_loss: 1.9332 - val_f1: 0.3473 - val_rec@prec: 0.1267\n",
      "Epoch 7/10\n",
      "43/43 [==============================] - 3s 60ms/step - loss: 0.9727 - f1: 0.5920 - rec@prec: 0.3163 - val_loss: 1.9185 - val_f1: 0.4252 - val_rec@prec: 0.1646\n",
      "Epoch 8/10\n",
      "43/43 [==============================] - 3s 60ms/step - loss: 0.7952 - f1: 0.7110 - rec@prec: 0.6402 - val_loss: 1.9938 - val_f1: 0.4432 - val_rec@prec: 0.2006\n",
      "Epoch 9/10\n",
      "43/43 [==============================] - 3s 61ms/step - loss: 0.6611 - f1: 0.7838 - rec@prec: 0.7930 - val_loss: 2.1312 - val_f1: 0.4690 - val_rec@prec: 0.2060\n",
      "Epoch 10/10\n",
      "43/43 [==============================] - 3s 60ms/step - loss: 0.5011 - f1: 0.8548 - rec@prec: 0.8836 - val_loss: 2.2203 - val_f1: 0.4744 - val_rec@prec: 0.2385\n",
      "Epoch 1/10\n",
      "43/43 [==============================] - 12s 151ms/step - loss: 2.4958 - f1: 0.0000e+00 - rec@prec: 0.0000e+00 - val_loss: 2.3259 - val_f1: 0.0000e+00 - val_rec@prec: 0.0000e+00\n",
      "Epoch 2/10\n",
      "43/43 [==============================] - 5s 119ms/step - loss: 2.3231 - f1: 0.0000e+00 - rec@prec: 0.0000e+00 - val_loss: 2.3174 - val_f1: 0.0000e+00 - val_rec@prec: 0.0000e+00\n",
      "Epoch 3/10\n",
      "43/43 [==============================] - 5s 119ms/step - loss: 2.2563 - f1: 0.0000e+00 - rec@prec: 7.1195e-05 - val_loss: 2.0584 - val_f1: 0.0000e+00 - val_rec@prec: 0.0036\n",
      "Epoch 4/10\n",
      "43/43 [==============================] - 5s 120ms/step - loss: 1.9152 - f1: 0.0224 - rec@prec: 0.0000e+00 - val_loss: 1.9065 - val_f1: 0.1067 - val_rec@prec: 0.0090\n",
      "Epoch 5/10\n",
      "43/43 [==============================] - 5s 121ms/step - loss: 1.6447 - f1: 0.1633 - rec@prec: 0.0561 - val_loss: 1.7955 - val_f1: 0.1850 - val_rec@prec: 0.1014\n",
      "Epoch 6/10\n",
      "43/43 [==============================] - 5s 120ms/step - loss: 1.4185 - f1: 0.3240 - rec@prec: 0.1712 - val_loss: 1.8138 - val_f1: 0.2472 - val_rec@prec: 0.1249\n",
      "Epoch 7/10\n",
      "43/43 [==============================] - 5s 120ms/step - loss: 1.2095 - f1: 0.4952 - rec@prec: 0.3002 - val_loss: 1.8838 - val_f1: 0.3447 - val_rec@prec: 0.1425\n",
      "Epoch 8/10\n",
      "43/43 [==============================] - 5s 121ms/step - loss: 1.0240 - f1: 0.6309 - rec@prec: 0.4710 - val_loss: 2.0234 - val_f1: 0.4048 - val_rec@prec: 0.1506\n",
      "Epoch 9/10\n",
      "43/43 [==============================] - 5s 120ms/step - loss: 0.8839 - f1: 0.6991 - rec@prec: 0.6160 - val_loss: 2.1089 - val_f1: 0.4178 - val_rec@prec: 0.1587\n",
      "Epoch 10/10\n",
      "43/43 [==============================] - 5s 121ms/step - loss: 0.7649 - f1: 0.7513 - rec@prec: 0.7268 - val_loss: 2.2109 - val_f1: 0.4142 - val_rec@prec: 0.1596\n",
      "Epoch 1/10\n",
      "43/43 [==============================] - 23s 297ms/step - loss: 2.4891 - f1: 0.0000e+00 - rec@prec: 0.0000e+00 - val_loss: 2.3261 - val_f1: 0.0000e+00 - val_rec@prec: 0.0000e+00\n",
      "Epoch 2/10\n",
      "43/43 [==============================] - 9s 216ms/step - loss: 2.3258 - f1: 0.0000e+00 - rec@prec: 0.0000e+00 - val_loss: 2.3219 - val_f1: 0.0000e+00 - val_rec@prec: 0.0000e+00\n",
      "Epoch 3/10\n",
      "43/43 [==============================] - 9s 210ms/step - loss: 2.3232 - f1: 0.0000e+00 - rec@prec: 0.0000e+00 - val_loss: 2.3212 - val_f1: 0.0000e+00 - val_rec@prec: 0.0000e+00\n",
      "Epoch 4/10\n",
      "43/43 [==============================] - 9s 211ms/step - loss: 2.3225 - f1: 0.0000e+00 - rec@prec: 0.0000e+00 - val_loss: 2.3206 - val_f1: 0.0000e+00 - val_rec@prec: 0.0000e+00\n",
      "Epoch 5/10\n",
      "43/43 [==============================] - 9s 212ms/step - loss: 2.3240 - f1: 0.0000e+00 - rec@prec: 0.0000e+00 - val_loss: 2.3211 - val_f1: 0.0000e+00 - val_rec@prec: 0.0000e+00\n",
      "Epoch 6/10\n",
      "43/43 [==============================] - 9s 212ms/step - loss: 2.3225 - f1: 0.0000e+00 - rec@prec: 0.0000e+00 - val_loss: 2.3197 - val_f1: 0.0000e+00 - val_rec@prec: 0.0000e+00\n",
      "Epoch 7/10\n",
      "43/43 [==============================] - 9s 212ms/step - loss: 2.3226 - f1: 0.0000e+00 - rec@prec: 0.0000e+00 - val_loss: 2.3197 - val_f1: 0.0000e+00 - val_rec@prec: 0.0000e+00\n",
      "Epoch 8/10\n",
      "43/43 [==============================] - 9s 213ms/step - loss: 2.3221 - f1: 0.0000e+00 - rec@prec: 0.0000e+00 - val_loss: 2.3215 - val_f1: 0.0000e+00 - val_rec@prec: 0.0000e+00\n",
      "Epoch 9/10\n",
      "43/43 [==============================] - 9s 213ms/step - loss: 2.3226 - f1: 0.0000e+00 - rec@prec: 0.0000e+00 - val_loss: 2.3198 - val_f1: 0.0000e+00 - val_rec@prec: 0.0000e+00\n",
      "Epoch 10/10\n",
      "43/43 [==============================] - 9s 214ms/step - loss: 2.2381 - f1: 0.0000e+00 - rec@prec: 0.0000e+00 - val_loss: 2.0119 - val_f1: 0.0000e+00 - val_rec@prec: 0.0000e+00\n",
      "Epoch 1/10\n",
      "43/43 [==============================] - 12s 138ms/step - loss: 2.5203 - f1: 0.0000e+00 - rec@prec: 0.0000e+00 - val_loss: 2.2995 - val_f1: 0.0000e+00 - val_rec@prec: 9.0171e-04\n",
      "Epoch 2/10\n",
      "43/43 [==============================] - 5s 107ms/step - loss: 2.0444 - f1: 0.0059 - rec@prec: 0.0012 - val_loss: 1.7971 - val_f1: 0.0192 - val_rec@prec: 0.0343\n",
      "Epoch 3/10\n",
      "43/43 [==============================] - 5s 106ms/step - loss: 1.5063 - f1: 0.2625 - rec@prec: 0.1694 - val_loss: 1.4855 - val_f1: 0.3886 - val_rec@prec: 0.2042\n",
      "Epoch 4/10\n",
      "43/43 [==============================] - 5s 107ms/step - loss: 1.0977 - f1: 0.5777 - rec@prec: 0.4495 - val_loss: 1.4679 - val_f1: 0.4613 - val_rec@prec: 0.2953\n",
      "Epoch 5/10\n",
      "43/43 [==============================] - 5s 107ms/step - loss: 0.7580 - f1: 0.7368 - rec@prec: 0.7413 - val_loss: 1.5186 - val_f1: 0.5445 - val_rec@prec: 0.3291\n",
      "Epoch 6/10\n",
      "43/43 [==============================] - 5s 107ms/step - loss: 0.4747 - f1: 0.8601 - rec@prec: 0.9041 - val_loss: 1.7439 - val_f1: 0.5766 - val_rec@prec: 0.3643\n",
      "Epoch 7/10\n",
      "43/43 [==============================] - 5s 107ms/step - loss: 0.3016 - f1: 0.9176 - rec@prec: 0.9640 - val_loss: 2.0154 - val_f1: 0.5753 - val_rec@prec: 0.3332\n",
      "Epoch 8/10\n",
      "43/43 [==============================] - 5s 107ms/step - loss: 0.1968 - f1: 0.9503 - rec@prec: 0.9841 - val_loss: 2.1040 - val_f1: 0.5611 - val_rec@prec: 0.3629\n",
      "Epoch 9/10\n",
      "43/43 [==============================] - 5s 108ms/step - loss: 0.1803 - f1: 0.9535 - rec@prec: 0.9857 - val_loss: 2.2580 - val_f1: 0.5535 - val_rec@prec: 0.3269\n",
      "Epoch 10/10\n",
      "43/43 [==============================] - 5s 108ms/step - loss: 0.1132 - f1: 0.9738 - rec@prec: 0.9933 - val_loss: 2.3875 - val_f1: 0.5736 - val_rec@prec: 0.3575\n",
      "Epoch 1/10\n",
      "43/43 [==============================] - 23s 310ms/step - loss: 2.4540 - f1: 0.0000e+00 - rec@prec: 0.0000e+00 - val_loss: 2.3250 - val_f1: 0.0000e+00 - val_rec@prec: 0.0000e+00\n",
      "Epoch 2/10\n",
      "43/43 [==============================] - 10s 238ms/step - loss: 2.3244 - f1: 0.0000e+00 - rec@prec: 0.0000e+00 - val_loss: 2.3210 - val_f1: 0.0000e+00 - val_rec@prec: 0.0000e+00\n",
      "Epoch 3/10\n",
      "43/43 [==============================] - 10s 238ms/step - loss: 2.3097 - f1: 0.0000e+00 - rec@prec: 0.0000e+00 - val_loss: 2.1979 - val_f1: 0.0000e+00 - val_rec@prec: 0.0000e+00\n",
      "Epoch 4/10\n",
      "43/43 [==============================] - 10s 240ms/step - loss: 1.9506 - f1: 0.0000e+00 - rec@prec: 0.0000e+00 - val_loss: 1.8549 - val_f1: 0.0000e+00 - val_rec@prec: 4.5086e-04\n",
      "Epoch 5/10\n",
      "43/43 [==============================] - 10s 241ms/step - loss: 1.6276 - f1: 0.1845 - rec@prec: 0.0258 - val_loss: 1.6962 - val_f1: 0.3202 - val_rec@prec: 0.1078\n",
      "Epoch 6/10\n",
      "43/43 [==============================] - 10s 242ms/step - loss: 1.3033 - f1: 0.5111 - rec@prec: 0.2418 - val_loss: 1.7224 - val_f1: 0.4264 - val_rec@prec: 0.1289\n",
      "Epoch 7/10\n",
      "43/43 [==============================] - 10s 242ms/step - loss: 1.0998 - f1: 0.5980 - rec@prec: 0.4497 - val_loss: 1.8937 - val_f1: 0.4103 - val_rec@prec: 0.1434\n",
      "Epoch 8/10\n",
      "43/43 [==============================] - 10s 242ms/step - loss: 0.9389 - f1: 0.6764 - rec@prec: 0.5728 - val_loss: 2.0092 - val_f1: 0.4365 - val_rec@prec: 0.1289\n",
      "Epoch 9/10\n",
      "43/43 [==============================] - 10s 243ms/step - loss: 0.8069 - f1: 0.7400 - rec@prec: 0.6999 - val_loss: 2.1932 - val_f1: 0.4308 - val_rec@prec: 0.1222\n",
      "Epoch 10/10\n",
      "43/43 [==============================] - 10s 243ms/step - loss: 0.6929 - f1: 0.7821 - rec@prec: 0.7778 - val_loss: 2.2458 - val_f1: 0.4375 - val_rec@prec: 0.1078\n",
      "Epoch 1/10\n",
      "43/43 [==============================] - 107s 1s/step - loss: 2.5797 - f1: 0.0000e+00 - rec@prec: 0.0000e+00 - val_loss: 2.3597 - val_f1: 0.0000e+00 - val_rec@prec: 0.0000e+00\n",
      "Epoch 2/10\n",
      "43/43 [==============================] - 31s 729ms/step - loss: 2.3360 - f1: 0.0000e+00 - rec@prec: 0.0000e+00 - val_loss: 2.3230 - val_f1: 0.0000e+00 - val_rec@prec: 0.0000e+00\n",
      "Epoch 3/10\n",
      "43/43 [==============================] - 32s 734ms/step - loss: 2.3234 - f1: 0.0000e+00 - rec@prec: 0.0000e+00 - val_loss: 2.3203 - val_f1: 0.0000e+00 - val_rec@prec: 0.0000e+00\n",
      "Epoch 4/10\n",
      "43/43 [==============================] - 32s 741ms/step - loss: 2.3228 - f1: 0.0000e+00 - rec@prec: 0.0000e+00 - val_loss: 2.3196 - val_f1: 0.0000e+00 - val_rec@prec: 0.0000e+00\n",
      "Epoch 5/10\n",
      "43/43 [==============================] - 32s 740ms/step - loss: 2.3222 - f1: 0.0000e+00 - rec@prec: 0.0000e+00 - val_loss: 2.3196 - val_f1: 0.0000e+00 - val_rec@prec: 0.0000e+00\n",
      "Epoch 6/10\n",
      "43/43 [==============================] - 32s 743ms/step - loss: 2.3220 - f1: 0.0000e+00 - rec@prec: 0.0000e+00 - val_loss: 2.3192 - val_f1: 0.0000e+00 - val_rec@prec: 0.0000e+00\n",
      "Epoch 7/10\n",
      "43/43 [==============================] - 32s 743ms/step - loss: 2.3216 - f1: 0.0000e+00 - rec@prec: 0.0000e+00 - val_loss: 2.3201 - val_f1: 0.0000e+00 - val_rec@prec: 0.0000e+00\n",
      "Epoch 8/10\n",
      "43/43 [==============================] - 32s 747ms/step - loss: 2.3222 - f1: 0.0000e+00 - rec@prec: 0.0000e+00 - val_loss: 2.3187 - val_f1: 0.0000e+00 - val_rec@prec: 0.0000e+00\n",
      "Epoch 9/10\n",
      "43/43 [==============================] - 32s 746ms/step - loss: 2.3214 - f1: 0.0000e+00 - rec@prec: 0.0000e+00 - val_loss: 2.3205 - val_f1: 0.0000e+00 - val_rec@prec: 0.0000e+00\n",
      "Epoch 10/10\n",
      "43/43 [==============================] - 32s 749ms/step - loss: 2.3217 - f1: 0.0000e+00 - rec@prec: 0.0000e+00 - val_loss: 2.3191 - val_f1: 0.0000e+00 - val_rec@prec: 0.0000e+00\n"
     ]
    }
   ],
   "source": [
    "for model in models:\n",
    "    model.fit(X_train, y_train, \n",
    "              validation_data=(X_valid, y_valid),\n",
    "              batch_size=1000,\n",
    "              epochs=10)\n",
    "    "
   ]
  },
  {
   "cell_type": "code",
   "execution_count": null,
   "id": "4d5a9483",
   "metadata": {
    "id": "4d5a9483"
   },
   "outputs": [],
   "source": [
    "models_name = \"\"\"1) модель с 1 GRU слоем;\n",
    "2) модель с 1 LSTM слоем\n",
    "3) модель с 1 GRU и 1 LSTM слоем\n",
    "4) модель с 1 BIGRU и 2 LSTM слоями\n",
    "5) модель с 5 GRU слоями и 3 LSTM слоями\n",
    "6) модель 1 BIGRU и 1 BILSTM слоями, причем так чтобы модели для forward и backward прохода отличались\n",
    "7) модель, где последовательно идут слои: LSTM, GRU, BILSTM, BIGRU, GRU, LSTM\n",
    "8) модель с 50 любыми рекуррентными слоями\"\"\".split(\"\\n\")"
   ]
  },
  {
   "cell_type": "code",
   "execution_count": null,
   "id": "d7437fee",
   "metadata": {
    "colab": {
     "base_uri": "https://localhost:8080/"
    },
    "id": "d7437fee",
    "outputId": "066e93b7-4490-478e-ffe6-4e5d9878e540"
   },
   "outputs": [
    {
     "name": "stdout",
     "output_type": "stream",
     "text": [
      "val_f1 = 0.43526193499565125 \t for model: 1) модель с 1 GRU слоем;\n",
      "val_f1 = 0.6008177995681763 \t for model: 2) модель с 1 LSTM слоем\n",
      "val_f1 = 0.4744016230106354 \t for model: 3) модель с 1 GRU и 1 LSTM слоем\n",
      "val_f1 = 0.4142414629459381 \t for model: 4) модель с 1 BIGRU и 2 LSTM слоями\n",
      "val_f1 = 0.0 \t for model: 5) модель с 5 GRU слоями и 3 LSTM слоями\n",
      "val_f1 = 0.5735874772071838 \t for model: 6) модель 1 BIGRU и 1 BILSTM слоями, причем так чтобы модели для forward и backward прохода отличались\n",
      "val_f1 = 0.43751707673072815 \t for model: 7) модель, где последовательно идут слои: LSTM, GRU, BILSTM, BIGRU, GRU, LSTM\n",
      "val_f1 = 0.0 \t for model: 8) модель с 50 любыми рекуррентными слоями\n"
     ]
    }
   ],
   "source": [
    "for ind, model in enumerate(models):\n",
    "    val_f1 = model.history.history['val_f1'][-1]\n",
    "    print(f'val_f1 = {val_f1} \\t for model: {models_name[ind]}')"
   ]
  },
  {
   "cell_type": "markdown",
   "id": "L0uPu37blqVD",
   "metadata": {
    "id": "L0uPu37blqVD"
   },
   "source": [
    "Все модели (кроме 5 и 8) показывают результат в диапазоне от 0.4 до 0.6, возможно результаты будут более схожи, если увеличить количество эпох на обучение у более сложных моделей (возможно они не успели достаточно обучиться на примерах). Самый лучший результат показала обычная LSTM модель с одним слоем - она успела обучиться на 10 эпохах. Модели 5 и 8 показали нулевой результат, скорее всего это связано с большим количеством слоёв, которые при сравнительно маленьком времени обучения просто не успели поменять веса."
   ]
  },
  {
   "cell_type": "markdown",
   "id": "c48bb363",
   "metadata": {
    "id": "c48bb363"
   },
   "source": [
    "## Задание 2 (6 баллов)"
   ]
  },
  {
   "cell_type": "markdown",
   "id": "5c0bd0f4",
   "metadata": {
    "id": "5c0bd0f4"
   },
   "source": [
    "На данных википедии (wikiann) обучите 2 модели:  \n",
    "1) модель в которой будут использованы предобученные эмбединги слов и несколько BILSTM слоев. \n",
    "1) модель в которой будут использованы предобученные эмбединги слов и несколько BIGRU слоев. \n",
    "\n",
    "Сравните качество по метрикам. Также придумайте несколько сложных примеров и проверьте, какие сущности определяет каждая из моделей."
   ]
  },
  {
   "cell_type": "code",
   "execution_count": 8,
   "id": "29eaea31",
   "metadata": {
    "id": "29eaea31"
   },
   "outputs": [],
   "source": [
    "from datasets import load_dataset\n",
    "import re\n",
    "# import fasttext\n"
   ]
  },
  {
   "cell_type": "code",
   "execution_count": 9,
   "id": "4e11e90c",
   "metadata": {
    "id": "4e11e90c"
   },
   "outputs": [],
   "source": [
    "def tokenize(text, word2id):\n",
    "    # токенизирует и переводит в индексы\n",
    "    tokens = re.findall('\\w+|[^\\w\\s]+', text)\n",
    "    ids = [word2id.get(token.lower(), 1) for token in tokens]\n",
    "    return tokens, ids\n",
    "\n",
    "def pred2tags(pred, id2label, length):\n",
    "    # декодирует индексы в части речи\n",
    "    # length нужно чтобы откидывать паддинги или некорректные предсказания\n",
    "    pred = pred.argmax(2)[0, :length]\n",
    "    labels = [id2label[l] for l in pred]\n",
    "    return labels\n",
    "\n",
    "def label_seq(text, word2id, id2label, max_len, model):\n",
    "    tokens, ids = tokenize(text, word2id)\n",
    "    pred = model.predict(tf.keras.preprocessing.sequence.pad_sequences([ids], \n",
    "                                                                       maxlen=max_len, \n",
    "                                                                       padding='post'))\n",
    "    labels = pred2tags(pred, id2label, len(ids))\n",
    "    \n",
    "    return list(zip(tokens, labels))"
   ]
  },
  {
   "cell_type": "code",
   "execution_count": 10,
   "id": "065d7c38",
   "metadata": {
    "colab": {
     "base_uri": "https://localhost:8080/",
     "height": 200,
     "referenced_widgets": [
      "ad92c982792d4942b87a50d8e4f7163c",
      "a87f70b1e97a4200bfa3b1d63462b6d7",
      "a0854a7b54014a4d8707022817c70c18",
      "61143b9dcddd422aa95de5549ba6af76",
      "9cae7d5ba01a4b2889a5c36b42ee84d4",
      "1c26ffaa8cdb40bcad8f4c64efeb1ec4",
      "fdb6f1ed863049c0ba7a7a901b51e1d5",
      "bd94438ed3874a2ead1887ac7c66945d",
      "ef2efb463ef7477d894749d0c2960106",
      "7ef4a863e2e841cd946ac06002eb9f97",
      "0e0f223dee71484a8d97b84f53379816",
      "75be20d29e604f7ea05a81d9d452a716",
      "cff4d7d72b3445d5867edfc0a9366cb4",
      "f61b4e026a864a5cbab55799574231ac",
      "fc36805223f942c986b6d09b7a74b3d5",
      "84efefa3675a489198087daf6791e4d2",
      "8204a4747d6148aa8b23023988f4d06c",
      "2bc68ffc6f77496686335e046132a6e3",
      "5c40828f67154aa8b534d69be1304fd5",
      "4b4215c5a30646d994151e1f741e2a78",
      "dfeb1451404a434aa6a8759825b35ea7",
      "415c86fc97214d269f5eacce530eed00",
      "50bee9aa2cfa4fc9a29c11e90101da46",
      "a28608f4b4e147cda6ea389104b9a9af",
      "d865bd7cbfcf499ea02308c35d7f8ccc",
      "6afd460b47464259be4b8fe61d50c179",
      "f14c63be2d0f49ff8f5bd77af170bda3",
      "7acadff0d74844f8b804350d93d4b3db",
      "0d90511c973648ddaad45f9040afd637",
      "633846d9a3c44a8d8351767bc0f852c2",
      "ef47a29b21634c1586aa27c989b0c5f7",
      "c94262641b4a47438481ef6c6e256239",
      "28ce2c4c883c4d9e9d0900f5b5145f92",
      "2518a5754a784561b2214b13207289a4",
      "bfd7caafff06436f98f26a43ccedbf1b",
      "edaf6ee523f94a818990ab98f9f33a5a",
      "daa5d4e7bcec45ebae2f11e8b611d0cd",
      "4b564fe9d6144bbebd41de60e49a637a",
      "78abbd63fa094ab18d094b32456719e6",
      "313a9f2351fd465eb2ed7ded72a90248",
      "b414a425ccda47e5a2b09bdb2a507ab8",
      "1063f69053d744118cf92e1ce689bf56",
      "9a9e877b9959492d8dbcb9a6e082f52a",
      "87ca7b8e5b414683bf623652994600b3",
      "040210d3b3cf4be1b9f851708edd84f8",
      "8244ccb04e17485383e710ad944ede0c",
      "e30ed785bef844a99b91ec2c6ef96607",
      "98b3b727f06d4673a0714dba3b7def3a",
      "254da489ffe5448c81ef27c82990cc54",
      "6238c2e675d64bcb8577aa9d1fdda922",
      "1de5f63e15b741ddba4bc4ab576eef21",
      "9631549e37ed496d9befca6e0ce75cc3",
      "b319b698170e45849e5972ffd6902bdc",
      "039c41393d9c4b8d92fd30d1f67ab419",
      "8ed57e4142a0413db4250ca4f899ce63",
      "65456cd6c4ba451ba19e6dd4d9314a87",
      "4c4d6e8104e84dd18f5af851b92a3d21",
      "f3092862017a4bc580665404317984de",
      "9c6860b6582444afb7d7e84e1551b4f6",
      "61296b0672b445e7bf507f3260d0d1cc",
      "48364715b25b4994be7f23bcd5caf883",
      "b7d00ae181cc42e4b51bd5abb717c1f2",
      "cdd61e75ce3e4a278104967033f1627d",
      "d3c2d381c4d549b39e03dacaf8e23213",
      "7008af6bb80a4aa4bb8b20211f5461e6",
      "4979db8600274ac482c11efd6608b606",
      "0977c1ff440248a6aa8f430523d879af",
      "4bc32ec710ab4482b9a038457004a3a7",
      "1c526b8744a644119258bc36cc1b33fc",
      "2fac76625d924ca4b3161f71e72f528d",
      "3ec7678466b24d36a99cbcba024026a3",
      "2fcc30b6f6bd43c6bde62c5f32e60ced",
      "abac666f025a4a2286db6600eeb52245",
      "c373f104a0834e11b440dc690735a16e",
      "30072c369246400ea2cfeb9ebc7d926e",
      "e44e745053484af4a1729f62d1c3bf1b",
      "6f2848cdca1641f9b1c10e754c72a521"
     ]
    },
    "id": "065d7c38",
    "outputId": "0de1f80a-12aa-4d85-b982-12f06cbc6aba"
   },
   "outputs": [
    {
     "data": {
      "application/vnd.jupyter.widget-view+json": {
       "model_id": "ad92c982792d4942b87a50d8e4f7163c",
       "version_major": 2,
       "version_minor": 0
      },
      "text/plain": [
       "Downloading builder script:   0%|          | 0.00/3.94k [00:00<?, ?B/s]"
      ]
     },
     "metadata": {},
     "output_type": "display_data"
    },
    {
     "data": {
      "application/vnd.jupyter.widget-view+json": {
       "model_id": "75be20d29e604f7ea05a81d9d452a716",
       "version_major": 2,
       "version_minor": 0
      },
      "text/plain": [
       "Downloading metadata:   0%|          | 0.00/12.6k [00:00<?, ?B/s]"
      ]
     },
     "metadata": {},
     "output_type": "display_data"
    },
    {
     "name": "stdout",
     "output_type": "stream",
     "text": [
      "Downloading and preparing dataset wikiann/ru (download: 223.17 MiB, generated: 9.87 MiB, post-processed: Unknown size, total: 233.04 MiB) to /root/.cache/huggingface/datasets/wikiann/ru/1.1.0/4bfd4fe4468ab78bb6e096968f61fab7a888f44f9d3371c2f3fea7e74a5a354e...\n"
     ]
    },
    {
     "data": {
      "application/vnd.jupyter.widget-view+json": {
       "model_id": "50bee9aa2cfa4fc9a29c11e90101da46",
       "version_major": 2,
       "version_minor": 0
      },
      "text/plain": [
       "Downloading data:   0%|          | 0.00/234M [00:00<?, ?B/s]"
      ]
     },
     "metadata": {},
     "output_type": "display_data"
    },
    {
     "data": {
      "application/vnd.jupyter.widget-view+json": {
       "model_id": "2518a5754a784561b2214b13207289a4",
       "version_major": 2,
       "version_minor": 0
      },
      "text/plain": [
       "Generating validation split:   0%|          | 0/10000 [00:00<?, ? examples/s]"
      ]
     },
     "metadata": {},
     "output_type": "display_data"
    },
    {
     "data": {
      "application/vnd.jupyter.widget-view+json": {
       "model_id": "040210d3b3cf4be1b9f851708edd84f8",
       "version_major": 2,
       "version_minor": 0
      },
      "text/plain": [
       "Generating test split:   0%|          | 0/10000 [00:00<?, ? examples/s]"
      ]
     },
     "metadata": {},
     "output_type": "display_data"
    },
    {
     "data": {
      "application/vnd.jupyter.widget-view+json": {
       "model_id": "65456cd6c4ba451ba19e6dd4d9314a87",
       "version_major": 2,
       "version_minor": 0
      },
      "text/plain": [
       "Generating train split:   0%|          | 0/20000 [00:00<?, ? examples/s]"
      ]
     },
     "metadata": {},
     "output_type": "display_data"
    },
    {
     "name": "stdout",
     "output_type": "stream",
     "text": [
      "Dataset wikiann downloaded and prepared to /root/.cache/huggingface/datasets/wikiann/ru/1.1.0/4bfd4fe4468ab78bb6e096968f61fab7a888f44f9d3371c2f3fea7e74a5a354e. Subsequent calls will reuse this data.\n"
     ]
    },
    {
     "data": {
      "application/vnd.jupyter.widget-view+json": {
       "model_id": "0977c1ff440248a6aa8f430523d879af",
       "version_major": 2,
       "version_minor": 0
      },
      "text/plain": [
       "  0%|          | 0/3 [00:00<?, ?it/s]"
      ]
     },
     "metadata": {},
     "output_type": "display_data"
    }
   ],
   "source": [
    "dataset = load_dataset(\"wikiann\", 'ru')"
   ]
  },
  {
   "cell_type": "code",
   "execution_count": 11,
   "id": "8f3e9561",
   "metadata": {
    "id": "8f3e9561"
   },
   "outputs": [],
   "source": [
    "# словарь\n",
    "vocab = Counter()\n",
    "\n",
    "for sent in dataset['train']['tokens']:\n",
    "    vocab.update([x.lower() for x in sent])\n",
    "    \n",
    "# индексируем слова\n",
    "word2id = {'PAD':0, 'UNK':1}\n",
    "\n",
    "for word in vocab:\n",
    "    word2id[word] = len(word2id)\n",
    "    \n",
    "id2word = {i:word for word, i in word2id.items()}"
   ]
  },
  {
   "cell_type": "code",
   "execution_count": 12,
   "id": "3a234ba0",
   "metadata": {
    "id": "3a234ba0"
   },
   "outputs": [],
   "source": [
    "# переводим тексты в последовательности индексов\n",
    "X = []\n",
    "\n",
    "for sent in dataset['train']['tokens']:\n",
    "    tokens = [w.lower() for w in sent]\n",
    "    ids = [word2id.get(token, 1) for token in tokens]\n",
    "    X.append(ids)\n",
    "    \n",
    "# переводим тексты в последовательности индексов\n",
    "X_test = []\n",
    "\n",
    "for sent in dataset['test']['tokens']:\n",
    "    tokens = [w.lower() for w in sent]\n",
    "    ids = [word2id.get(token, 1) for token in tokens]\n",
    "    X_test.append(ids)\n",
    "    \n",
    "MAX_LEN = max(len(x) for x in X)\n",
    "\n",
    "# паддинг\n",
    "X = tf.keras.preprocessing.sequence.pad_sequences(X, maxlen=MAX_LEN, padding='post')\n",
    "X_test = tf.keras.preprocessing.sequence.pad_sequences(X_test, maxlen=MAX_LEN, padding='post')"
   ]
  },
  {
   "cell_type": "code",
   "execution_count": 13,
   "id": "869de4ce",
   "metadata": {
    "id": "869de4ce"
   },
   "outputs": [],
   "source": [
    "id2labels = {0:'O', 1:'B-PER', 2:'I-PER', 3:'B-ORG', 4:'I-ORG', 5: 'B-LOC', 6:'I-LOC', 7:'PAD'}\n",
    "label2id = {v:k for k,v in id2labels.items()} "
   ]
  },
  {
   "cell_type": "code",
   "execution_count": 14,
   "id": "2e652194",
   "metadata": {
    "id": "2e652194"
   },
   "outputs": [],
   "source": [
    "y = tf.keras.preprocessing.sequence.pad_sequences(dataset['train']['ner_tags'], value=7,\n",
    "                                                  maxlen=MAX_LEN,  padding='post')\n",
    "y_test = tf.keras.preprocessing.sequence.pad_sequences(dataset['test']['ner_tags'], value=7,\n",
    "                                                       maxlen=MAX_LEN,  padding='post')"
   ]
  },
  {
   "cell_type": "code",
   "execution_count": null,
   "id": "ca6b8696",
   "metadata": {
    "id": "ca6b8696",
    "outputId": "fd51b063-47d9-4172-ef9e-43fb10a25c6e"
   },
   "outputs": [
    {
     "name": "stderr",
     "output_type": "stream",
     "text": [
      "Warning : `load_model` does not return WordVectorModel or SupervisedModel any more, but a `FastText` object which is very similar.\n"
     ]
    }
   ],
   "source": [
    "# ft = fasttext.load_model('cc.ru.300.bin')\n",
    "\n",
    "# weight_matrix = np.zeros((len(word2id), 300))\n",
    "# for word, i in word2id.items():\n",
    "#     try:\n",
    "#         embedding_vector = ft[word]\n",
    "#         weight_matrix[i] = embedding_vector\n",
    "#     except KeyError:\n",
    "#         weight_matrix[i] = np.random.uniform(-1, 1, 300)"
   ]
  },
  {
   "cell_type": "code",
   "execution_count": 18,
   "id": "zQxqpDKtWy8S",
   "metadata": {
    "id": "zQxqpDKtWy8S"
   },
   "outputs": [],
   "source": [
    "with open('weight_matrix.npy','rb') as f:\n",
    "    weight_matrix = np.load(f)"
   ]
  },
  {
   "cell_type": "code",
   "execution_count": 41,
   "id": "1PnoRrfCd4B5",
   "metadata": {
    "colab": {
     "base_uri": "https://localhost:8080/"
    },
    "id": "1PnoRrfCd4B5",
    "outputId": "1b2ac45f-be4f-4369-e6bf-d2a9f1011368"
   },
   "outputs": [
    {
     "data": {
      "text/plain": [
       "(36017, 300)"
      ]
     },
     "execution_count": 41,
     "metadata": {},
     "output_type": "execute_result"
    }
   ],
   "source": [
    "weight_matrix.shape"
   ]
  },
  {
   "cell_type": "code",
   "execution_count": 44,
   "id": "7bd1ed7d",
   "metadata": {
    "id": "7bd1ed7d"
   },
   "outputs": [],
   "source": [
    "inputs = tf.keras.layers.Input(shape=(MAX_LEN,)) \n",
    "\n",
    "embeddings = tf.keras.layers.Embedding(len(word2id),\n",
    "                                       300,\n",
    "                                       weights=[weight_matrix],\n",
    "                                       input_length=MAX_LEN,\n",
    "                                       trainable=False)(inputs)\n",
    "\n",
    "lstm_1 = tf.keras.layers.Bidirectional(tf.keras.layers.LSTM(N_LEN, return_sequences=True))(embeddings)\n",
    "lstm_2 = tf.keras.layers.Bidirectional(tf.keras.layers.LSTM(N_LEN, return_sequences=True))(lstm_1)\n",
    "\n",
    "outputs = tf.keras.layers.Dense(len(label2id), activation='softmax')(lstm_2)\n",
    "\n",
    "model_1 = tf.keras.Model(inputs=inputs, outputs=outputs)\n",
    "model_1.compile(optimizer='adam',\n",
    "                loss='sparse_categorical_crossentropy', \n",
    "                metrics=['accuracy'])\n"
   ]
  },
  {
   "cell_type": "code",
   "execution_count": 48,
   "id": "30481849",
   "metadata": {
    "colab": {
     "base_uri": "https://localhost:8080/"
    },
    "id": "30481849",
    "outputId": "4935048e-0ace-41bd-812a-dd10346ba8c6"
   },
   "outputs": [
    {
     "name": "stdout",
     "output_type": "stream",
     "text": [
      "Epoch 1/10\n",
      "157/157 [==============================] - 11s 31ms/step - loss: 0.2326 - accuracy: 0.9326 - val_loss: 0.1415 - val_accuracy: 0.9540\n",
      "Epoch 2/10\n",
      "157/157 [==============================] - 4s 22ms/step - loss: 0.1101 - accuracy: 0.9638 - val_loss: 0.0989 - val_accuracy: 0.9674\n",
      "Epoch 3/10\n",
      "157/157 [==============================] - 5s 33ms/step - loss: 0.0773 - accuracy: 0.9747 - val_loss: 0.0860 - val_accuracy: 0.9713\n",
      "Epoch 4/10\n",
      "157/157 [==============================] - 6s 36ms/step - loss: 0.0582 - accuracy: 0.9812 - val_loss: 0.0785 - val_accuracy: 0.9745\n",
      "Epoch 5/10\n",
      "157/157 [==============================] - 7s 42ms/step - loss: 0.0493 - accuracy: 0.9841 - val_loss: 0.0841 - val_accuracy: 0.9739\n",
      "Epoch 6/10\n",
      "157/157 [==============================] - 6s 35ms/step - loss: 0.0446 - accuracy: 0.9858 - val_loss: 0.0785 - val_accuracy: 0.9756\n",
      "Epoch 7/10\n",
      "157/157 [==============================] - 6s 41ms/step - loss: 0.0413 - accuracy: 0.9868 - val_loss: 0.0845 - val_accuracy: 0.9748\n",
      "Epoch 8/10\n",
      "157/157 [==============================] - 6s 39ms/step - loss: 0.0387 - accuracy: 0.9876 - val_loss: 0.0964 - val_accuracy: 0.9728\n",
      "Epoch 9/10\n",
      "157/157 [==============================] - 6s 35ms/step - loss: 0.0372 - accuracy: 0.9881 - val_loss: 0.0871 - val_accuracy: 0.9750\n",
      "Epoch 10/10\n",
      "157/157 [==============================] - 5s 29ms/step - loss: 0.0355 - accuracy: 0.9887 - val_loss: 0.0879 - val_accuracy: 0.9746\n"
     ]
    },
    {
     "data": {
      "text/plain": [
       "<keras.callbacks.History at 0x7f27b13da250>"
      ]
     },
     "execution_count": 48,
     "metadata": {},
     "output_type": "execute_result"
    }
   ],
   "source": [
    "model_1.fit(X, y, \n",
    "          validation_data=(X_test, y_test),\n",
    "          batch_size=128,\n",
    "          epochs=10)"
   ]
  },
  {
   "cell_type": "code",
   "execution_count": 49,
   "id": "A8-NW5niOHev",
   "metadata": {
    "colab": {
     "base_uri": "https://localhost:8080/",
     "height": 295
    },
    "id": "A8-NW5niOHev",
    "outputId": "3501bcd5-72cd-4eaa-b7ac-8a68e78ecbde"
   },
   "outputs": [
    {
     "data": {
      "image/png": "[encoded data removed]",
      "text/plain": [
       "<Figure size 432x288 with 1 Axes>"
      ]
     },
     "metadata": {
      "needs_background": "light"
     },
     "output_type": "display_data"
    }
   ],
   "source": [
    "plt.plot(model_1.history.history['accuracy'])\n",
    "plt.plot(model_1.history.history['val_accuracy'])\n",
    "plt.title('model_1 accuracy')\n",
    "plt.ylabel('accuracy')\n",
    "plt.xlabel('epoch')\n",
    "plt.legend(['train', 'val'], loc='upper left')\n",
    "plt.show()"
   ]
  },
  {
   "cell_type": "code",
   "execution_count": 50,
   "id": "79473a8a",
   "metadata": {
    "id": "79473a8a"
   },
   "outputs": [],
   "source": [
    "inputs = tf.keras.layers.Input(shape=(MAX_LEN,)) \n",
    "embeddings = tf.keras.layers.Embedding(len(word2id),\n",
    "                                       300,\n",
    "                                       weights=[weight_matrix],\n",
    "                                       input_length=MAX_LEN,\n",
    "                                       trainable=False)(inputs)\n",
    "\n",
    "gru_1 = tf.keras.layers.Bidirectional(tf.keras.layers.GRU(N_LEN, return_sequences=True))(embeddings)\n",
    "gru_2 = tf.keras.layers.Bidirectional(tf.keras.layers.GRU(N_LEN, return_sequences=True))(gru_1)\n",
    "\n",
    "outputs = tf.keras.layers.Dense(len(label2id), activation='softmax')(gru_2)\n",
    "\n",
    "model_2 = tf.keras.Model(inputs=inputs, outputs=outputs)\n",
    "model_2.compile(optimizer='adam',\n",
    "                loss='sparse_categorical_crossentropy', \n",
    "                metrics=['accuracy'])\n"
   ]
  },
  {
   "cell_type": "code",
   "execution_count": 51,
   "id": "9725414f",
   "metadata": {
    "colab": {
     "base_uri": "https://localhost:8080/"
    },
    "id": "9725414f",
    "outputId": "168eacd3-ac52-4dba-eee6-53cef51ea5df"
   },
   "outputs": [
    {
     "name": "stdout",
     "output_type": "stream",
     "text": [
      "Epoch 1/10\n",
      "79/79 [==============================] - 13s 60ms/step - loss: 0.2827 - accuracy: 0.9168 - val_loss: 0.1564 - val_accuracy: 0.9522\n",
      "Epoch 2/10\n",
      "79/79 [==============================] - 2s 24ms/step - loss: 0.1335 - accuracy: 0.9556 - val_loss: 0.1177 - val_accuracy: 0.9614\n",
      "Epoch 3/10\n",
      "79/79 [==============================] - 2s 23ms/step - loss: 0.0983 - accuracy: 0.9670 - val_loss: 0.0952 - val_accuracy: 0.9687\n",
      "Epoch 4/10\n",
      "79/79 [==============================] - 2s 23ms/step - loss: 0.0766 - accuracy: 0.9744 - val_loss: 0.0906 - val_accuracy: 0.9699\n",
      "Epoch 5/10\n",
      "79/79 [==============================] - 2s 23ms/step - loss: 0.0620 - accuracy: 0.9795 - val_loss: 0.0957 - val_accuracy: 0.9701\n",
      "Epoch 6/10\n",
      "79/79 [==============================] - 2s 23ms/step - loss: 0.0525 - accuracy: 0.9831 - val_loss: 0.0998 - val_accuracy: 0.9708\n",
      "Epoch 7/10\n",
      "79/79 [==============================] - 2s 23ms/step - loss: 0.0468 - accuracy: 0.9850 - val_loss: 0.0983 - val_accuracy: 0.9717\n",
      "Epoch 8/10\n",
      "79/79 [==============================] - 2s 22ms/step - loss: 0.0433 - accuracy: 0.9862 - val_loss: 0.1046 - val_accuracy: 0.9714\n",
      "Epoch 9/10\n",
      "79/79 [==============================] - 2s 23ms/step - loss: 0.0411 - accuracy: 0.9868 - val_loss: 0.0942 - val_accuracy: 0.9734\n",
      "Epoch 10/10\n",
      "79/79 [==============================] - 2s 23ms/step - loss: 0.0390 - accuracy: 0.9876 - val_loss: 0.0930 - val_accuracy: 0.9742\n"
     ]
    },
    {
     "data": {
      "text/plain": [
       "<keras.callbacks.History at 0x7f2836315190>"
      ]
     },
     "execution_count": 51,
     "metadata": {},
     "output_type": "execute_result"
    }
   ],
   "source": [
    "model_2.fit(X, y, \n",
    "            validation_data=(X_test, y_test),\n",
    "            batch_size=256,\n",
    "            epochs=10)"
   ]
  },
  {
   "cell_type": "code",
   "execution_count": 52,
   "id": "OCShmQ-TOIod",
   "metadata": {
    "colab": {
     "base_uri": "https://localhost:8080/",
     "height": 295
    },
    "id": "OCShmQ-TOIod",
    "outputId": "f1af0867-7645-4fbf-b2e5-7d21eb94fd93"
   },
   "outputs": [
    {
     "data": {
      "image/png": "[encoded data removed]",
      "text/plain": [
       "<Figure size 432x288 with 1 Axes>"
      ]
     },
     "metadata": {
      "needs_background": "light"
     },
     "output_type": "display_data"
    }
   ],
   "source": [
    "plt.plot(model_2.history.history['accuracy'])\n",
    "plt.plot(model_2.history.history['val_accuracy'])\n",
    "plt.title('model_2 accuracy')\n",
    "plt.ylabel('accuracy')\n",
    "plt.xlabel('epoch')\n",
    "plt.legend(['train', 'val'], loc='upper left')\n",
    "plt.show()"
   ]
  },
  {
   "cell_type": "code",
   "execution_count": 54,
   "id": "js129lAMOx_f",
   "metadata": {
    "id": "js129lAMOx_f"
   },
   "outputs": [],
   "source": [
    "import re\n",
    "\n",
    "def tokenize(text, word2id):\n",
    "    # токенизирует и переводит в индексы\n",
    "    tokens = re.findall('\\w+|[^\\w\\s]+', text)\n",
    "    ids = [word2id.get(token.lower(), 1) for token in tokens]\n",
    "    return tokens, ids\n",
    "\n",
    "def pred2tags(pred, id2label, length):\n",
    "    # декодирует индексы в части речи\n",
    "    # length нужно чтобы откидывать паддинги или некорректные предсказания\n",
    "    pred = pred.argmax(2)[0, :length]\n",
    "    labels = [id2label[l] for l in pred]\n",
    "    return labels\n",
    "\n",
    "def label_seq(text, word2id, id2label, max_len, model):\n",
    "    tokens, ids = tokenize(text, word2id)\n",
    "    pred = model.predict(tf.keras.preprocessing.sequence.pad_sequences([ids], \n",
    "                                                                       maxlen=max_len, \n",
    "                                                                       padding='post'))\n",
    "    labels = pred2tags(pred, id2label, len(ids))\n",
    "    \n",
    "    return list(zip(tokens, labels))"
   ]
  },
  {
   "cell_type": "markdown",
   "id": "nKiuDEdfgdJd",
   "metadata": {
    "id": "nKiuDEdfgdJd"
   },
   "source": [
    "### Модель BILSTM:"
   ]
  },
  {
   "cell_type": "code",
   "execution_count": 61,
   "id": "VHZbcW7okDAd",
   "metadata": {
    "colab": {
     "base_uri": "https://localhost:8080/"
    },
    "id": "VHZbcW7okDAd",
    "outputId": "12b26325-60e6-4252-e6e0-ecac4eabd17a"
   },
   "outputs": [
    {
     "name": "stdout",
     "output_type": "stream",
     "text": [
      "              precision    recall  f1-score   support\n",
      "\n",
      "           O       0.83      0.97      0.89     40480\n",
      "       B-PER       0.90      0.38      0.53      3542\n",
      "       I-PER       0.97      0.63      0.76      7544\n",
      "       B-ORG       0.51      0.59      0.55      4074\n",
      "       I-ORG       0.74      0.71      0.72      8008\n",
      "       B-LOC       0.85      0.51      0.64      4560\n",
      "       I-LOC       0.89      0.58      0.70      3060\n",
      "         PAD       1.00      1.00      1.00    468732\n",
      "\n",
      "    accuracy                           0.97    540000\n",
      "   macro avg       0.83      0.67      0.72    540000\n",
      "weighted avg       0.98      0.97      0.97    540000\n",
      "\n"
     ]
    }
   ],
   "source": [
    "from sklearn.metrics import classification_report\n",
    "\n",
    "pred = model_1.predict(X_test).argmax(2)\n",
    "\n",
    "print(classification_report(y_test.reshape(-1),\n",
    "                            pred.reshape(-1),\n",
    "                            labels=list(id2labels.keys()),\n",
    "      target_names=list(id2labels.values()),\n",
    "      zero_division=0))"
   ]
  },
  {
   "cell_type": "markdown",
   "id": "99997397",
   "metadata": {},
   "source": [
    "Можем заметить, что по значениям метрик отличий в целом практически нет."
   ]
  },
  {
   "cell_type": "code",
   "execution_count": 57,
   "id": "Bl6cJi2BigDS",
   "metadata": {
    "id": "Bl6cJi2BigDS"
   },
   "outputs": [],
   "source": [
    "text = \"\"\"Сегодня Аня Щербакова и Вася Пупкин поели в МакДональдсе на проспекте Независимости в Минске, что для жителей Москвы и, возможно, России в целом, может показаться роскошью.\"\"\""
   ]
  },
  {
   "cell_type": "code",
   "execution_count": 58,
   "id": "WDQYlfulik95",
   "metadata": {
    "colab": {
     "base_uri": "https://localhost:8080/",
     "height": 53
    },
    "id": "WDQYlfulik95",
    "outputId": "b80ab1cf-a3e5-4fa4-cbcf-4bb0ec52efa9"
   },
   "outputs": [
    {
     "data": {
      "application/vnd.google.colaboratory.intrinsic+json": {
       "type": "string"
      },
      "text/plain": [
       "'Сегодня Аня Щербакова и Вася Пупкин поели в МакДональдсе на проспекте Независимости в Минске, что для жителей Москвы и, возможно, России в целом, может показаться роскошью.'"
      ]
     },
     "execution_count": 58,
     "metadata": {},
     "output_type": "execute_result"
    }
   ],
   "source": [
    "text"
   ]
  },
  {
   "cell_type": "code",
   "execution_count": 59,
   "id": "32cALUwqO_yI",
   "metadata": {
    "colab": {
     "base_uri": "https://localhost:8080/"
    },
    "id": "32cALUwqO_yI",
    "outputId": "ca0901ee-d76f-41d9-80fb-1594f5cbbfd3"
   },
   "outputs": [
    {
     "data": {
      "text/plain": [
       "[('Сегодня', 'O'),\n",
       " ('Аня', 'I-ORG'),\n",
       " ('Щербакова', 'O'),\n",
       " ('и', 'O'),\n",
       " ('Вася', 'B-LOC'),\n",
       " ('Пупкин', 'O'),\n",
       " ('поели', 'O'),\n",
       " ('в', 'O'),\n",
       " ('МакДональдсе', 'O'),\n",
       " ('на', 'O'),\n",
       " ('проспекте', 'O'),\n",
       " ('Независимости', 'I-ORG'),\n",
       " ('в', 'O'),\n",
       " ('Минске', 'B-LOC'),\n",
       " (',', 'O'),\n",
       " ('что', 'O'),\n",
       " ('для', 'O'),\n",
       " ('жителей', 'O'),\n",
       " ('Москвы', 'B-LOC'),\n",
       " ('и', 'O'),\n",
       " (',', 'O'),\n",
       " ('возможно', 'O'),\n",
       " (',', 'O'),\n",
       " ('России', 'B-ORG'),\n",
       " ('в', 'O'),\n",
       " ('целом', 'O'),\n",
       " (',', 'O'),\n",
       " ('может', 'O'),\n",
       " ('показаться', 'O'),\n",
       " ('роскошью', 'O'),\n",
       " ('.', 'O')]"
      ]
     },
     "execution_count": 59,
     "metadata": {},
     "output_type": "execute_result"
    }
   ],
   "source": [
    "label_seq(text, word2id, id2labels, MAX_LEN, model_1)"
   ]
  },
  {
   "cell_type": "markdown",
   "id": "7wG1d9G6ghMP",
   "metadata": {
    "id": "7wG1d9G6ghMP"
   },
   "source": [
    "### Модель BIGRU:"
   ]
  },
  {
   "cell_type": "code",
   "execution_count": 62,
   "id": "TwG2NWI0kKjc",
   "metadata": {
    "colab": {
     "base_uri": "https://localhost:8080/"
    },
    "id": "TwG2NWI0kKjc",
    "outputId": "0addf86e-5ba8-4748-f913-b399df6bb68d"
   },
   "outputs": [
    {
     "name": "stdout",
     "output_type": "stream",
     "text": [
      "              precision    recall  f1-score   support\n",
      "\n",
      "           O       0.80      0.98      0.88     40480\n",
      "       B-PER       0.90      0.33      0.48      3542\n",
      "       I-PER       0.96      0.66      0.79      7544\n",
      "       B-ORG       0.57      0.54      0.55      4074\n",
      "       I-ORG       0.80      0.67      0.73      8008\n",
      "       B-LOC       0.81      0.49      0.61      4560\n",
      "       I-LOC       0.86      0.58      0.69      3060\n",
      "         PAD       1.00      1.00      1.00    468732\n",
      "\n",
      "    accuracy                           0.97    540000\n",
      "   macro avg       0.84      0.66      0.72    540000\n",
      "weighted avg       0.98      0.97      0.97    540000\n",
      "\n"
     ]
    }
   ],
   "source": [
    "pred = model_2.predict(X_test).argmax(2)\n",
    "\n",
    "print(classification_report(y_test.reshape(-1),\n",
    "                            pred.reshape(-1),\n",
    "                            labels=list(id2labels.keys()),\n",
    "      target_names=list(id2labels.values()),\n",
    "      zero_division=0))"
   ]
  },
  {
   "cell_type": "code",
   "execution_count": 60,
   "id": "zE6yDqwmffhF",
   "metadata": {
    "colab": {
     "base_uri": "https://localhost:8080/"
    },
    "id": "zE6yDqwmffhF",
    "outputId": "be8aa7a0-73ca-46be-c22c-c2482a03c415"
   },
   "outputs": [
    {
     "data": {
      "text/plain": [
       "[('Сегодня', 'O'),\n",
       " ('Аня', 'I-ORG'),\n",
       " ('Щербакова', 'O'),\n",
       " ('и', 'O'),\n",
       " ('Вася', 'O'),\n",
       " ('Пупкин', 'O'),\n",
       " ('поели', 'O'),\n",
       " ('в', 'O'),\n",
       " ('МакДональдсе', 'O'),\n",
       " ('на', 'O'),\n",
       " ('проспекте', 'O'),\n",
       " ('Независимости', 'O'),\n",
       " ('в', 'O'),\n",
       " ('Минске', 'B-LOC'),\n",
       " (',', 'O'),\n",
       " ('что', 'O'),\n",
       " ('для', 'O'),\n",
       " ('жителей', 'O'),\n",
       " ('Москвы', 'B-LOC'),\n",
       " ('и', 'O'),\n",
       " (',', 'O'),\n",
       " ('возможно', 'O'),\n",
       " (',', 'O'),\n",
       " ('России', 'B-LOC'),\n",
       " ('в', 'O'),\n",
       " ('целом', 'O'),\n",
       " (',', 'O'),\n",
       " ('может', 'O'),\n",
       " ('показаться', 'O'),\n",
       " ('роскошью', 'O'),\n",
       " ('.', 'O')]"
      ]
     },
     "execution_count": 60,
     "metadata": {},
     "output_type": "execute_result"
    }
   ],
   "source": [
    "label_seq(text, word2id, id2labels, MAX_LEN, model_2)"
   ]
  },
  {
   "cell_type": "markdown",
   "id": "725c2127",
   "metadata": {
    "id": "LFUwX2GIgb_L"
   },
   "source": [
    "Модель BILSTM выделяет больше сущностей, асложно сказать, какая из моделей более точно выделяет тип сущности (и там, и там плоховато)."
   ]
  },
  {
   "cell_type": "code",
   "execution_count": null,
   "id": "d6a2576e",
   "metadata": {},
   "outputs": [],
   "source": []
  }
 ],
 "metadata": {
  "accelerator": "GPU",
  "colab": {
   "collapsed_sections": [],
   "name": "homework.ipynb",
   "provenance": []
  },
  "kernelspec": {
   "display_name": "Python 3",
   "language": "python",
   "name": "python3"
  },
  "language_info": {
   "codemirror_mode": {
    "name": "ipython",
    "version": 3
   },
   "file_extension": ".py",
   "mimetype": "text/x-python",
   "name": "python",
   "nbconvert_exporter": "python",
   "pygments_lexer": "ipython3",
   "version": "3.7.7"
  },
  "widgets": {
   "application/vnd.jupyter.widget-state+json": {
    "039c41393d9c4b8d92fd30d1f67ab419": {
     "model_module": "@jupyter-widgets/base",
     "model_module_version": "1.2.0",
     "model_name": "LayoutModel",
     "state": {
      "_model_module": "@jupyter-widgets/base",
      "_model_module_version": "1.2.0",
      "_model_name": "LayoutModel",
      "_view_count": null,
      "_view_module": "@jupyter-widgets/base",
      "_view_module_version": "1.2.0",
      "_view_name": "LayoutView",
      "align_content": null,
      "align_items": null,
      "align_self": null,
      "border": null,
      "bottom": null,
      "display": null,
      "flex": null,
      "flex_flow": null,
      "grid_area": null,
      "grid_auto_columns": null,
      "grid_auto_flow": null,
      "grid_auto_rows": null,
      "grid_column": null,
      "grid_gap": null,
      "grid_row": null,
      "grid_template_areas": null,
      "grid_template_columns": null,
      "grid_template_rows": null,
      "height": null,
      "justify_content": null,
      "justify_items": null,
      "left": null,
      "margin": null,
      "max_height": null,
      "max_width": null,
      "min_height": null,
      "min_width": null,
      "object_fit": null,
      "object_position": null,
      "order": null,
      "overflow": null,
      "overflow_x": null,
      "overflow_y": null,
      "padding": null,
      "right": null,
      "top": null,
      "visibility": null,
      "width": null
     }
    },
    "040210d3b3cf4be1b9f851708edd84f8": {
     "model_module": "@jupyter-widgets/controls",
     "model_module_version": "1.5.0",
     "model_name": "HBoxModel",
     "state": {
      "_dom_classes": [],
      "_model_module": "@jupyter-widgets/controls",
      "_model_module_version": "1.5.0",
      "_model_name": "HBoxModel",
      "_view_count": null,
      "_view_module": "@jupyter-widgets/controls",
      "_view_module_version": "1.5.0",
      "_view_name": "HBoxView",
      "box_style": "",
      "children": [
       "IPY_MODEL_8244ccb04e17485383e710ad944ede0c",
       "IPY_MODEL_e30ed785bef844a99b91ec2c6ef96607",
       "IPY_MODEL_98b3b727f06d4673a0714dba3b7def3a"
      ],
      "layout": "IPY_MODEL_254da489ffe5448c81ef27c82990cc54"
     }
    },
    "0977c1ff440248a6aa8f430523d879af": {
     "model_module": "@jupyter-widgets/controls",
     "model_module_version": "1.5.0",
     "model_name": "HBoxModel",
     "state": {
      "_dom_classes": [],
      "_model_module": "@jupyter-widgets/controls",
      "_model_module_version": "1.5.0",
      "_model_name": "HBoxModel",
      "_view_count": null,
      "_view_module": "@jupyter-widgets/controls",
      "_view_module_version": "1.5.0",
      "_view_name": "HBoxView",
      "box_style": "",
      "children": [
       "IPY_MODEL_4bc32ec710ab4482b9a038457004a3a7",
       "IPY_MODEL_1c526b8744a644119258bc36cc1b33fc",
       "IPY_MODEL_2fac76625d924ca4b3161f71e72f528d"
      ],
      "layout": "IPY_MODEL_3ec7678466b24d36a99cbcba024026a3"
     }
    },
    "0d90511c973648ddaad45f9040afd637": {
     "model_module": "@jupyter-widgets/controls",
     "model_module_version": "1.5.0",
     "model_name": "DescriptionStyleModel",
     "state": {
      "_model_module": "@jupyter-widgets/controls",
      "_model_module_version": "1.5.0",
      "_model_name": "DescriptionStyleModel",
      "_view_count": null,
      "_view_module": "@jupyter-widgets/base",
      "_view_module_version": "1.2.0",
      "_view_name": "StyleView",
      "description_width": ""
     }
    },
    "0e0f223dee71484a8d97b84f53379816": {
     "model_module": "@jupyter-widgets/controls",
     "model_module_version": "1.5.0",
     "model_name": "DescriptionStyleModel",
     "state": {
      "_model_module": "@jupyter-widgets/controls",
      "_model_module_version": "1.5.0",
      "_model_name": "DescriptionStyleModel",
      "_view_count": null,
      "_view_module": "@jupyter-widgets/base",
      "_view_module_version": "1.2.0",
      "_view_name": "StyleView",
      "description_width": ""
     }
    },
    "1063f69053d744118cf92e1ce689bf56": {
     "model_module": "@jupyter-widgets/controls",
     "model_module_version": "1.5.0",
     "model_name": "ProgressStyleModel",
     "state": {
      "_model_module": "@jupyter-widgets/controls",
      "_model_module_version": "1.5.0",
      "_model_name": "ProgressStyleModel",
      "_view_count": null,
      "_view_module": "@jupyter-widgets/base",
      "_view_module_version": "1.2.0",
      "_view_name": "StyleView",
      "bar_color": null,
      "description_width": ""
     }
    },
    "1c26ffaa8cdb40bcad8f4c64efeb1ec4": {
     "model_module": "@jupyter-widgets/base",
     "model_module_version": "1.2.0",
     "model_name": "LayoutModel",
     "state": {
      "_model_module": "@jupyter-widgets/base",
      "_model_module_version": "1.2.0",
      "_model_name": "LayoutModel",
      "_view_count": null,
      "_view_module": "@jupyter-widgets/base",
      "_view_module_version": "1.2.0",
      "_view_name": "LayoutView",
      "align_content": null,
      "align_items": null,
      "align_self": null,
      "border": null,
      "bottom": null,
      "display": null,
      "flex": null,
      "flex_flow": null,
      "grid_area": null,
      "grid_auto_columns": null,
      "grid_auto_flow": null,
      "grid_auto_rows": null,
      "grid_column": null,
      "grid_gap": null,
      "grid_row": null,
      "grid_template_areas": null,
      "grid_template_columns": null,
      "grid_template_rows": null,
      "height": null,
      "justify_content": null,
      "justify_items": null,
      "left": null,
      "margin": null,
      "max_height": null,
      "max_width": null,
      "min_height": null,
      "min_width": null,
      "object_fit": null,
      "object_position": null,
      "order": null,
      "overflow": null,
      "overflow_x": null,
      "overflow_y": null,
      "padding": null,
      "right": null,
      "top": null,
      "visibility": null,
      "width": null
     }
    },
    "1c526b8744a644119258bc36cc1b33fc": {
     "model_module": "@jupyter-widgets/controls",
     "model_module_version": "1.5.0",
     "model_name": "FloatProgressModel",
     "state": {
      "_dom_classes": [],
      "_model_module": "@jupyter-widgets/controls",
      "_model_module_version": "1.5.0",
      "_model_name": "FloatProgressModel",
      "_view_count": null,
      "_view_module": "@jupyter-widgets/controls",
      "_view_module_version": "1.5.0",
      "_view_name": "ProgressView",
      "bar_style": "success",
      "description": "",
      "description_tooltip": null,
      "layout": "IPY_MODEL_c373f104a0834e11b440dc690735a16e",
      "max": 3,
      "min": 0,
      "orientation": "horizontal",
      "style": "IPY_MODEL_30072c369246400ea2cfeb9ebc7d926e",
      "value": 3
     }
    },
    "1de5f63e15b741ddba4bc4ab576eef21": {
     "model_module": "@jupyter-widgets/controls",
     "model_module_version": "1.5.0",
     "model_name": "DescriptionStyleModel",
     "state": {
      "_model_module": "@jupyter-widgets/controls",
      "_model_module_version": "1.5.0",
      "_model_name": "DescriptionStyleModel",
      "_view_count": null,
      "_view_module": "@jupyter-widgets/base",
      "_view_module_version": "1.2.0",
      "_view_name": "StyleView",
      "description_width": ""
     }
    },
    "2518a5754a784561b2214b13207289a4": {
     "model_module": "@jupyter-widgets/controls",
     "model_module_version": "1.5.0",
     "model_name": "HBoxModel",
     "state": {
      "_dom_classes": [],
      "_model_module": "@jupyter-widgets/controls",
      "_model_module_version": "1.5.0",
      "_model_name": "HBoxModel",
      "_view_count": null,
      "_view_module": "@jupyter-widgets/controls",
      "_view_module_version": "1.5.0",
      "_view_name": "HBoxView",
      "box_style": "",
      "children": [
       "IPY_MODEL_bfd7caafff06436f98f26a43ccedbf1b",
       "IPY_MODEL_edaf6ee523f94a818990ab98f9f33a5a",
       "IPY_MODEL_daa5d4e7bcec45ebae2f11e8b611d0cd"
      ],
      "layout": "IPY_MODEL_4b564fe9d6144bbebd41de60e49a637a"
     }
    },
    "254da489ffe5448c81ef27c82990cc54": {
     "model_module": "@jupyter-widgets/base",
     "model_module_version": "1.2.0",
     "model_name": "LayoutModel",
     "state": {
      "_model_module": "@jupyter-widgets/base",
      "_model_module_version": "1.2.0",
      "_model_name": "LayoutModel",
      "_view_count": null,
      "_view_module": "@jupyter-widgets/base",
      "_view_module_version": "1.2.0",
      "_view_name": "LayoutView",
      "align_content": null,
      "align_items": null,
      "align_self": null,
      "border": null,
      "bottom": null,
      "display": null,
      "flex": null,
      "flex_flow": null,
      "grid_area": null,
      "grid_auto_columns": null,
      "grid_auto_flow": null,
      "grid_auto_rows": null,
      "grid_column": null,
      "grid_gap": null,
      "grid_row": null,
      "grid_template_areas": null,
      "grid_template_columns": null,
      "grid_template_rows": null,
      "height": null,
      "justify_content": null,
      "justify_items": null,
      "left": null,
      "margin": null,
      "max_height": null,
      "max_width": null,
      "min_height": null,
      "min_width": null,
      "object_fit": null,
      "object_position": null,
      "order": null,
      "overflow": null,
      "overflow_x": null,
      "overflow_y": null,
      "padding": null,
      "right": null,
      "top": null,
      "visibility": null,
      "width": null
     }
    },
    "28ce2c4c883c4d9e9d0900f5b5145f92": {
     "model_module": "@jupyter-widgets/controls",
     "model_module_version": "1.5.0",
     "model_name": "DescriptionStyleModel",
     "state": {
      "_model_module": "@jupyter-widgets/controls",
      "_model_module_version": "1.5.0",
      "_model_name": "DescriptionStyleModel",
      "_view_count": null,
      "_view_module": "@jupyter-widgets/base",
      "_view_module_version": "1.2.0",
      "_view_name": "StyleView",
      "description_width": ""
     }
    },
    "2bc68ffc6f77496686335e046132a6e3": {
     "model_module": "@jupyter-widgets/controls",
     "model_module_version": "1.5.0",
     "model_name": "DescriptionStyleModel",
     "state": {
      "_model_module": "@jupyter-widgets/controls",
      "_model_module_version": "1.5.0",
      "_model_name": "DescriptionStyleModel",
      "_view_count": null,
      "_view_module": "@jupyter-widgets/base",
      "_view_module_version": "1.2.0",
      "_view_name": "StyleView",
      "description_width": ""
     }
    },
    "2fac76625d924ca4b3161f71e72f528d": {
     "model_module": "@jupyter-widgets/controls",
     "model_module_version": "1.5.0",
     "model_name": "HTMLModel",
     "state": {
      "_dom_classes": [],
      "_model_module": "@jupyter-widgets/controls",
      "_model_module_version": "1.5.0",
      "_model_name": "HTMLModel",
      "_view_count": null,
      "_view_module": "@jupyter-widgets/controls",
      "_view_module_version": "1.5.0",
      "_view_name": "HTMLView",
      "description": "",
      "description_tooltip": null,
      "layout": "IPY_MODEL_e44e745053484af4a1729f62d1c3bf1b",
      "placeholder": "​",
      "style": "IPY_MODEL_6f2848cdca1641f9b1c10e754c72a521",
      "value": " 3/3 [00:00&lt;00:00, 74.29it/s]"
     }
    },
    "2fcc30b6f6bd43c6bde62c5f32e60ced": {
     "model_module": "@jupyter-widgets/base",
     "model_module_version": "1.2.0",
     "model_name": "LayoutModel",
     "state": {
      "_model_module": "@jupyter-widgets/base",
      "_model_module_version": "1.2.0",
      "_model_name": "LayoutModel",
      "_view_count": null,
      "_view_module": "@jupyter-widgets/base",
      "_view_module_version": "1.2.0",
      "_view_name": "LayoutView",
      "align_content": null,
      "align_items": null,
      "align_self": null,
      "border": null,
      "bottom": null,
      "display": null,
      "flex": null,
      "flex_flow": null,
      "grid_area": null,
      "grid_auto_columns": null,
      "grid_auto_flow": null,
      "grid_auto_rows": null,
      "grid_column": null,
      "grid_gap": null,
      "grid_row": null,
      "grid_template_areas": null,
      "grid_template_columns": null,
      "grid_template_rows": null,
      "height": null,
      "justify_content": null,
      "justify_items": null,
      "left": null,
      "margin": null,
      "max_height": null,
      "max_width": null,
      "min_height": null,
      "min_width": null,
      "object_fit": null,
      "object_position": null,
      "order": null,
      "overflow": null,
      "overflow_x": null,
      "overflow_y": null,
      "padding": null,
      "right": null,
      "top": null,
      "visibility": null,
      "width": null
     }
    },
    "30072c369246400ea2cfeb9ebc7d926e": {
     "model_module": "@jupyter-widgets/controls",
     "model_module_version": "1.5.0",
     "model_name": "ProgressStyleModel",
     "state": {
      "_model_module": "@jupyter-widgets/controls",
      "_model_module_version": "1.5.0",
      "_model_name": "ProgressStyleModel",
      "_view_count": null,
      "_view_module": "@jupyter-widgets/base",
      "_view_module_version": "1.2.0",
      "_view_name": "StyleView",
      "bar_color": null,
      "description_width": ""
     }
    },
    "313a9f2351fd465eb2ed7ded72a90248": {
     "model_module": "@jupyter-widgets/controls",
     "model_module_version": "1.5.0",
     "model_name": "DescriptionStyleModel",
     "state": {
      "_model_module": "@jupyter-widgets/controls",
      "_model_module_version": "1.5.0",
      "_model_name": "DescriptionStyleModel",
      "_view_count": null,
      "_view_module": "@jupyter-widgets/base",
      "_view_module_version": "1.2.0",
      "_view_name": "StyleView",
      "description_width": ""
     }
    },
    "3ec7678466b24d36a99cbcba024026a3": {
     "model_module": "@jupyter-widgets/base",
     "model_module_version": "1.2.0",
     "model_name": "LayoutModel",
     "state": {
      "_model_module": "@jupyter-widgets/base",
      "_model_module_version": "1.2.0",
      "_model_name": "LayoutModel",
      "_view_count": null,
      "_view_module": "@jupyter-widgets/base",
      "_view_module_version": "1.2.0",
      "_view_name": "LayoutView",
      "align_content": null,
      "align_items": null,
      "align_self": null,
      "border": null,
      "bottom": null,
      "display": null,
      "flex": null,
      "flex_flow": null,
      "grid_area": null,
      "grid_auto_columns": null,
      "grid_auto_flow": null,
      "grid_auto_rows": null,
      "grid_column": null,
      "grid_gap": null,
      "grid_row": null,
      "grid_template_areas": null,
      "grid_template_columns": null,
      "grid_template_rows": null,
      "height": null,
      "justify_content": null,
      "justify_items": null,
      "left": null,
      "margin": null,
      "max_height": null,
      "max_width": null,
      "min_height": null,
      "min_width": null,
      "object_fit": null,
      "object_position": null,
      "order": null,
      "overflow": null,
      "overflow_x": null,
      "overflow_y": null,
      "padding": null,
      "right": null,
      "top": null,
      "visibility": null,
      "width": null
     }
    },
    "415c86fc97214d269f5eacce530eed00": {
     "model_module": "@jupyter-widgets/controls",
     "model_module_version": "1.5.0",
     "model_name": "DescriptionStyleModel",
     "state": {
      "_model_module": "@jupyter-widgets/controls",
      "_model_module_version": "1.5.0",
      "_model_name": "DescriptionStyleModel",
      "_view_count": null,
      "_view_module": "@jupyter-widgets/base",
      "_view_module_version": "1.2.0",
      "_view_name": "StyleView",
      "description_width": ""
     }
    },
    "48364715b25b4994be7f23bcd5caf883": {
     "model_module": "@jupyter-widgets/base",
     "model_module_version": "1.2.0",
     "model_name": "LayoutModel",
     "state": {
      "_model_module": "@jupyter-widgets/base",
      "_model_module_version": "1.2.0",
      "_model_name": "LayoutModel",
      "_view_count": null,
      "_view_module": "@jupyter-widgets/base",
      "_view_module_version": "1.2.0",
      "_view_name": "LayoutView",
      "align_content": null,
      "align_items": null,
      "align_self": null,
      "border": null,
      "bottom": null,
      "display": null,
      "flex": null,
      "flex_flow": null,
      "grid_area": null,
      "grid_auto_columns": null,
      "grid_auto_flow": null,
      "grid_auto_rows": null,
      "grid_column": null,
      "grid_gap": null,
      "grid_row": null,
      "grid_template_areas": null,
      "grid_template_columns": null,
      "grid_template_rows": null,
      "height": null,
      "justify_content": null,
      "justify_items": null,
      "left": null,
      "margin": null,
      "max_height": null,
      "max_width": null,
      "min_height": null,
      "min_width": null,
      "object_fit": null,
      "object_position": null,
      "order": null,
      "overflow": null,
      "overflow_x": null,
      "overflow_y": null,
      "padding": null,
      "right": null,
      "top": null,
      "visibility": null,
      "width": null
     }
    },
    "4979db8600274ac482c11efd6608b606": {
     "model_module": "@jupyter-widgets/controls",
     "model_module_version": "1.5.0",
     "model_name": "DescriptionStyleModel",
     "state": {
      "_model_module": "@jupyter-widgets/controls",
      "_model_module_version": "1.5.0",
      "_model_name": "DescriptionStyleModel",
      "_view_count": null,
      "_view_module": "@jupyter-widgets/base",
      "_view_module_version": "1.2.0",
      "_view_name": "StyleView",
      "description_width": ""
     }
    },
    "4b4215c5a30646d994151e1f741e2a78": {
     "model_module": "@jupyter-widgets/controls",
     "model_module_version": "1.5.0",
     "model_name": "ProgressStyleModel",
     "state": {
      "_model_module": "@jupyter-widgets/controls",
      "_model_module_version": "1.5.0",
      "_model_name": "ProgressStyleModel",
      "_view_count": null,
      "_view_module": "@jupyter-widgets/base",
      "_view_module_version": "1.2.0",
      "_view_name": "StyleView",
      "bar_color": null,
      "description_width": ""
     }
    },
    "4b564fe9d6144bbebd41de60e49a637a": {
     "model_module": "@jupyter-widgets/base",
     "model_module_version": "1.2.0",
     "model_name": "LayoutModel",
     "state": {
      "_model_module": "@jupyter-widgets/base",
      "_model_module_version": "1.2.0",
      "_model_name": "LayoutModel",
      "_view_count": null,
      "_view_module": "@jupyter-widgets/base",
      "_view_module_version": "1.2.0",
      "_view_name": "LayoutView",
      "align_content": null,
      "align_items": null,
      "align_self": null,
      "border": null,
      "bottom": null,
      "display": null,
      "flex": null,
      "flex_flow": null,
      "grid_area": null,
      "grid_auto_columns": null,
      "grid_auto_flow": null,
      "grid_auto_rows": null,
      "grid_column": null,
      "grid_gap": null,
      "grid_row": null,
      "grid_template_areas": null,
      "grid_template_columns": null,
      "grid_template_rows": null,
      "height": null,
      "justify_content": null,
      "justify_items": null,
      "left": null,
      "margin": null,
      "max_height": null,
      "max_width": null,
      "min_height": null,
      "min_width": null,
      "object_fit": null,
      "object_position": null,
      "order": null,
      "overflow": null,
      "overflow_x": null,
      "overflow_y": null,
      "padding": null,
      "right": null,
      "top": null,
      "visibility": null,
      "width": null
     }
    },
    "4bc32ec710ab4482b9a038457004a3a7": {
     "model_module": "@jupyter-widgets/controls",
     "model_module_version": "1.5.0",
     "model_name": "HTMLModel",
     "state": {
      "_dom_classes": [],
      "_model_module": "@jupyter-widgets/controls",
      "_model_module_version": "1.5.0",
      "_model_name": "HTMLModel",
      "_view_count": null,
      "_view_module": "@jupyter-widgets/controls",
      "_view_module_version": "1.5.0",
      "_view_name": "HTMLView",
      "description": "",
      "description_tooltip": null,
      "layout": "IPY_MODEL_2fcc30b6f6bd43c6bde62c5f32e60ced",
      "placeholder": "​",
      "style": "IPY_MODEL_abac666f025a4a2286db6600eeb52245",
      "value": "100%"
     }
    },
    "4c4d6e8104e84dd18f5af851b92a3d21": {
     "model_module": "@jupyter-widgets/controls",
     "model_module_version": "1.5.0",
     "model_name": "HTMLModel",
     "state": {
      "_dom_classes": [],
      "_model_module": "@jupyter-widgets/controls",
      "_model_module_version": "1.5.0",
      "_model_name": "HTMLModel",
      "_view_count": null,
      "_view_module": "@jupyter-widgets/controls",
      "_view_module_version": "1.5.0",
      "_view_name": "HTMLView",
      "description": "",
      "description_tooltip": null,
      "layout": "IPY_MODEL_48364715b25b4994be7f23bcd5caf883",
      "placeholder": "​",
      "style": "IPY_MODEL_b7d00ae181cc42e4b51bd5abb717c1f2",
      "value": "Generating train split:  97%"
     }
    },
    "50bee9aa2cfa4fc9a29c11e90101da46": {
     "model_module": "@jupyter-widgets/controls",
     "model_module_version": "1.5.0",
     "model_name": "HBoxModel",
     "state": {
      "_dom_classes": [],
      "_model_module": "@jupyter-widgets/controls",
      "_model_module_version": "1.5.0",
      "_model_name": "HBoxModel",
      "_view_count": null,
      "_view_module": "@jupyter-widgets/controls",
      "_view_module_version": "1.5.0",
      "_view_name": "HBoxView",
      "box_style": "",
      "children": [
       "IPY_MODEL_a28608f4b4e147cda6ea389104b9a9af",
       "IPY_MODEL_d865bd7cbfcf499ea02308c35d7f8ccc",
       "IPY_MODEL_6afd460b47464259be4b8fe61d50c179"
      ],
      "layout": "IPY_MODEL_f14c63be2d0f49ff8f5bd77af170bda3"
     }
    },
    "5c40828f67154aa8b534d69be1304fd5": {
     "model_module": "@jupyter-widgets/base",
     "model_module_version": "1.2.0",
     "model_name": "LayoutModel",
     "state": {
      "_model_module": "@jupyter-widgets/base",
      "_model_module_version": "1.2.0",
      "_model_name": "LayoutModel",
      "_view_count": null,
      "_view_module": "@jupyter-widgets/base",
      "_view_module_version": "1.2.0",
      "_view_name": "LayoutView",
      "align_content": null,
      "align_items": null,
      "align_self": null,
      "border": null,
      "bottom": null,
      "display": null,
      "flex": null,
      "flex_flow": null,
      "grid_area": null,
      "grid_auto_columns": null,
      "grid_auto_flow": null,
      "grid_auto_rows": null,
      "grid_column": null,
      "grid_gap": null,
      "grid_row": null,
      "grid_template_areas": null,
      "grid_template_columns": null,
      "grid_template_rows": null,
      "height": null,
      "justify_content": null,
      "justify_items": null,
      "left": null,
      "margin": null,
      "max_height": null,
      "max_width": null,
      "min_height": null,
      "min_width": null,
      "object_fit": null,
      "object_position": null,
      "order": null,
      "overflow": null,
      "overflow_x": null,
      "overflow_y": null,
      "padding": null,
      "right": null,
      "top": null,
      "visibility": null,
      "width": null
     }
    },
    "61143b9dcddd422aa95de5549ba6af76": {
     "model_module": "@jupyter-widgets/controls",
     "model_module_version": "1.5.0",
     "model_name": "HTMLModel",
     "state": {
      "_dom_classes": [],
      "_model_module": "@jupyter-widgets/controls",
      "_model_module_version": "1.5.0",
      "_model_name": "HTMLModel",
      "_view_count": null,
      "_view_module": "@jupyter-widgets/controls",
      "_view_module_version": "1.5.0",
      "_view_name": "HTMLView",
      "description": "",
      "description_tooltip": null,
      "layout": "IPY_MODEL_7ef4a863e2e841cd946ac06002eb9f97",
      "placeholder": "​",
      "style": "IPY_MODEL_0e0f223dee71484a8d97b84f53379816",
      "value": " 11.6k/? [00:00&lt;00:00, 328kB/s]"
     }
    },
    "61296b0672b445e7bf507f3260d0d1cc": {
     "model_module": "@jupyter-widgets/base",
     "model_module_version": "1.2.0",
     "model_name": "LayoutModel",
     "state": {
      "_model_module": "@jupyter-widgets/base",
      "_model_module_version": "1.2.0",
      "_model_name": "LayoutModel",
      "_view_count": null,
      "_view_module": "@jupyter-widgets/base",
      "_view_module_version": "1.2.0",
      "_view_name": "LayoutView",
      "align_content": null,
      "align_items": null,
      "align_self": null,
      "border": null,
      "bottom": null,
      "display": null,
      "flex": null,
      "flex_flow": null,
      "grid_area": null,
      "grid_auto_columns": null,
      "grid_auto_flow": null,
      "grid_auto_rows": null,
      "grid_column": null,
      "grid_gap": null,
      "grid_row": null,
      "grid_template_areas": null,
      "grid_template_columns": null,
      "grid_template_rows": null,
      "height": null,
      "justify_content": null,
      "justify_items": null,
      "left": null,
      "margin": null,
      "max_height": null,
      "max_width": null,
      "min_height": null,
      "min_width": null,
      "object_fit": null,
      "object_position": null,
      "order": null,
      "overflow": null,
      "overflow_x": null,
      "overflow_y": null,
      "padding": null,
      "right": null,
      "top": null,
      "visibility": null,
      "width": null
     }
    },
    "6238c2e675d64bcb8577aa9d1fdda922": {
     "model_module": "@jupyter-widgets/base",
     "model_module_version": "1.2.0",
     "model_name": "LayoutModel",
     "state": {
      "_model_module": "@jupyter-widgets/base",
      "_model_module_version": "1.2.0",
      "_model_name": "LayoutModel",
      "_view_count": null,
      "_view_module": "@jupyter-widgets/base",
      "_view_module_version": "1.2.0",
      "_view_name": "LayoutView",
      "align_content": null,
      "align_items": null,
      "align_self": null,
      "border": null,
      "bottom": null,
      "display": null,
      "flex": null,
      "flex_flow": null,
      "grid_area": null,
      "grid_auto_columns": null,
      "grid_auto_flow": null,
      "grid_auto_rows": null,
      "grid_column": null,
      "grid_gap": null,
      "grid_row": null,
      "grid_template_areas": null,
      "grid_template_columns": null,
      "grid_template_rows": null,
      "height": null,
      "justify_content": null,
      "justify_items": null,
      "left": null,
      "margin": null,
      "max_height": null,
      "max_width": null,
      "min_height": null,
      "min_width": null,
      "object_fit": null,
      "object_position": null,
      "order": null,
      "overflow": null,
      "overflow_x": null,
      "overflow_y": null,
      "padding": null,
      "right": null,
      "top": null,
      "visibility": null,
      "width": null
     }
    },
    "633846d9a3c44a8d8351767bc0f852c2": {
     "model_module": "@jupyter-widgets/base",
     "model_module_version": "1.2.0",
     "model_name": "LayoutModel",
     "state": {
      "_model_module": "@jupyter-widgets/base",
      "_model_module_version": "1.2.0",
      "_model_name": "LayoutModel",
      "_view_count": null,
      "_view_module": "@jupyter-widgets/base",
      "_view_module_version": "1.2.0",
      "_view_name": "LayoutView",
      "align_content": null,
      "align_items": null,
      "align_self": null,
      "border": null,
      "bottom": null,
      "display": null,
      "flex": null,
      "flex_flow": null,
      "grid_area": null,
      "grid_auto_columns": null,
      "grid_auto_flow": null,
      "grid_auto_rows": null,
      "grid_column": null,
      "grid_gap": null,
      "grid_row": null,
      "grid_template_areas": null,
      "grid_template_columns": null,
      "grid_template_rows": null,
      "height": null,
      "justify_content": null,
      "justify_items": null,
      "left": null,
      "margin": null,
      "max_height": null,
      "max_width": null,
      "min_height": null,
      "min_width": null,
      "object_fit": null,
      "object_position": null,
      "order": null,
      "overflow": null,
      "overflow_x": null,
      "overflow_y": null,
      "padding": null,
      "right": null,
      "top": null,
      "visibility": null,
      "width": null
     }
    },
    "65456cd6c4ba451ba19e6dd4d9314a87": {
     "model_module": "@jupyter-widgets/controls",
     "model_module_version": "1.5.0",
     "model_name": "HBoxModel",
     "state": {
      "_dom_classes": [],
      "_model_module": "@jupyter-widgets/controls",
      "_model_module_version": "1.5.0",
      "_model_name": "HBoxModel",
      "_view_count": null,
      "_view_module": "@jupyter-widgets/controls",
      "_view_module_version": "1.5.0",
      "_view_name": "HBoxView",
      "box_style": "",
      "children": [
       "IPY_MODEL_4c4d6e8104e84dd18f5af851b92a3d21",
       "IPY_MODEL_f3092862017a4bc580665404317984de",
       "IPY_MODEL_9c6860b6582444afb7d7e84e1551b4f6"
      ],
      "layout": "IPY_MODEL_61296b0672b445e7bf507f3260d0d1cc"
     }
    },
    "6afd460b47464259be4b8fe61d50c179": {
     "model_module": "@jupyter-widgets/controls",
     "model_module_version": "1.5.0",
     "model_name": "HTMLModel",
     "state": {
      "_dom_classes": [],
      "_model_module": "@jupyter-widgets/controls",
      "_model_module_version": "1.5.0",
      "_model_name": "HTMLModel",
      "_view_count": null,
      "_view_module": "@jupyter-widgets/controls",
      "_view_module_version": "1.5.0",
      "_view_name": "HTMLView",
      "description": "",
      "description_tooltip": null,
      "layout": "IPY_MODEL_c94262641b4a47438481ef6c6e256239",
      "placeholder": "​",
      "style": "IPY_MODEL_28ce2c4c883c4d9e9d0900f5b5145f92",
      "value": " 234M/234M [00:04&lt;00:00, 59.1MB/s]"
     }
    },
    "6f2848cdca1641f9b1c10e754c72a521": {
     "model_module": "@jupyter-widgets/controls",
     "model_module_version": "1.5.0",
     "model_name": "DescriptionStyleModel",
     "state": {
      "_model_module": "@jupyter-widgets/controls",
      "_model_module_version": "1.5.0",
      "_model_name": "DescriptionStyleModel",
      "_view_count": null,
      "_view_module": "@jupyter-widgets/base",
      "_view_module_version": "1.2.0",
      "_view_name": "StyleView",
      "description_width": ""
     }
    },
    "7008af6bb80a4aa4bb8b20211f5461e6": {
     "model_module": "@jupyter-widgets/base",
     "model_module_version": "1.2.0",
     "model_name": "LayoutModel",
     "state": {
      "_model_module": "@jupyter-widgets/base",
      "_model_module_version": "1.2.0",
      "_model_name": "LayoutModel",
      "_view_count": null,
      "_view_module": "@jupyter-widgets/base",
      "_view_module_version": "1.2.0",
      "_view_name": "LayoutView",
      "align_content": null,
      "align_items": null,
      "align_self": null,
      "border": null,
      "bottom": null,
      "display": null,
      "flex": null,
      "flex_flow": null,
      "grid_area": null,
      "grid_auto_columns": null,
      "grid_auto_flow": null,
      "grid_auto_rows": null,
      "grid_column": null,
      "grid_gap": null,
      "grid_row": null,
      "grid_template_areas": null,
      "grid_template_columns": null,
      "grid_template_rows": null,
      "height": null,
      "justify_content": null,
      "justify_items": null,
      "left": null,
      "margin": null,
      "max_height": null,
      "max_width": null,
      "min_height": null,
      "min_width": null,
      "object_fit": null,
      "object_position": null,
      "order": null,
      "overflow": null,
      "overflow_x": null,
      "overflow_y": null,
      "padding": null,
      "right": null,
      "top": null,
      "visibility": null,
      "width": null
     }
    },
    "75be20d29e604f7ea05a81d9d452a716": {
     "model_module": "@jupyter-widgets/controls",
     "model_module_version": "1.5.0",
     "model_name": "HBoxModel",
     "state": {
      "_dom_classes": [],
      "_model_module": "@jupyter-widgets/controls",
      "_model_module_version": "1.5.0",
      "_model_name": "HBoxModel",
      "_view_count": null,
      "_view_module": "@jupyter-widgets/controls",
      "_view_module_version": "1.5.0",
      "_view_name": "HBoxView",
      "box_style": "",
      "children": [
       "IPY_MODEL_cff4d7d72b3445d5867edfc0a9366cb4",
       "IPY_MODEL_f61b4e026a864a5cbab55799574231ac",
       "IPY_MODEL_fc36805223f942c986b6d09b7a74b3d5"
      ],
      "layout": "IPY_MODEL_84efefa3675a489198087daf6791e4d2"
     }
    },
    "78abbd63fa094ab18d094b32456719e6": {
     "model_module": "@jupyter-widgets/base",
     "model_module_version": "1.2.0",
     "model_name": "LayoutModel",
     "state": {
      "_model_module": "@jupyter-widgets/base",
      "_model_module_version": "1.2.0",
      "_model_name": "LayoutModel",
      "_view_count": null,
      "_view_module": "@jupyter-widgets/base",
      "_view_module_version": "1.2.0",
      "_view_name": "LayoutView",
      "align_content": null,
      "align_items": null,
      "align_self": null,
      "border": null,
      "bottom": null,
      "display": null,
      "flex": null,
      "flex_flow": null,
      "grid_area": null,
      "grid_auto_columns": null,
      "grid_auto_flow": null,
      "grid_auto_rows": null,
      "grid_column": null,
      "grid_gap": null,
      "grid_row": null,
      "grid_template_areas": null,
      "grid_template_columns": null,
      "grid_template_rows": null,
      "height": null,
      "justify_content": null,
      "justify_items": null,
      "left": null,
      "margin": null,
      "max_height": null,
      "max_width": null,
      "min_height": null,
      "min_width": null,
      "object_fit": null,
      "object_position": null,
      "order": null,
      "overflow": null,
      "overflow_x": null,
      "overflow_y": null,
      "padding": null,
      "right": null,
      "top": null,
      "visibility": null,
      "width": null
     }
    },
    "7acadff0d74844f8b804350d93d4b3db": {
     "model_module": "@jupyter-widgets/base",
     "model_module_version": "1.2.0",
     "model_name": "LayoutModel",
     "state": {
      "_model_module": "@jupyter-widgets/base",
      "_model_module_version": "1.2.0",
      "_model_name": "LayoutModel",
      "_view_count": null,
      "_view_module": "@jupyter-widgets/base",
      "_view_module_version": "1.2.0",
      "_view_name": "LayoutView",
      "align_content": null,
      "align_items": null,
      "align_self": null,
      "border": null,
      "bottom": null,
      "display": null,
      "flex": null,
      "flex_flow": null,
      "grid_area": null,
      "grid_auto_columns": null,
      "grid_auto_flow": null,
      "grid_auto_rows": null,
      "grid_column": null,
      "grid_gap": null,
      "grid_row": null,
      "grid_template_areas": null,
      "grid_template_columns": null,
      "grid_template_rows": null,
      "height": null,
      "justify_content": null,
      "justify_items": null,
      "left": null,
      "margin": null,
      "max_height": null,
      "max_width": null,
      "min_height": null,
      "min_width": null,
      "object_fit": null,
      "object_position": null,
      "order": null,
      "overflow": null,
      "overflow_x": null,
      "overflow_y": null,
      "padding": null,
      "right": null,
      "top": null,
      "visibility": null,
      "width": null
     }
    },
    "7ef4a863e2e841cd946ac06002eb9f97": {
     "model_module": "@jupyter-widgets/base",
     "model_module_version": "1.2.0",
     "model_name": "LayoutModel",
     "state": {
      "_model_module": "@jupyter-widgets/base",
      "_model_module_version": "1.2.0",
      "_model_name": "LayoutModel",
      "_view_count": null,
      "_view_module": "@jupyter-widgets/base",
      "_view_module_version": "1.2.0",
      "_view_name": "LayoutView",
      "align_content": null,
      "align_items": null,
      "align_self": null,
      "border": null,
      "bottom": null,
      "display": null,
      "flex": null,
      "flex_flow": null,
      "grid_area": null,
      "grid_auto_columns": null,
      "grid_auto_flow": null,
      "grid_auto_rows": null,
      "grid_column": null,
      "grid_gap": null,
      "grid_row": null,
      "grid_template_areas": null,
      "grid_template_columns": null,
      "grid_template_rows": null,
      "height": null,
      "justify_content": null,
      "justify_items": null,
      "left": null,
      "margin": null,
      "max_height": null,
      "max_width": null,
      "min_height": null,
      "min_width": null,
      "object_fit": null,
      "object_position": null,
      "order": null,
      "overflow": null,
      "overflow_x": null,
      "overflow_y": null,
      "padding": null,
      "right": null,
      "top": null,
      "visibility": null,
      "width": null
     }
    },
    "8204a4747d6148aa8b23023988f4d06c": {
     "model_module": "@jupyter-widgets/base",
     "model_module_version": "1.2.0",
     "model_name": "LayoutModel",
     "state": {
      "_model_module": "@jupyter-widgets/base",
      "_model_module_version": "1.2.0",
      "_model_name": "LayoutModel",
      "_view_count": null,
      "_view_module": "@jupyter-widgets/base",
      "_view_module_version": "1.2.0",
      "_view_name": "LayoutView",
      "align_content": null,
      "align_items": null,
      "align_self": null,
      "border": null,
      "bottom": null,
      "display": null,
      "flex": null,
      "flex_flow": null,
      "grid_area": null,
      "grid_auto_columns": null,
      "grid_auto_flow": null,
      "grid_auto_rows": null,
      "grid_column": null,
      "grid_gap": null,
      "grid_row": null,
      "grid_template_areas": null,
      "grid_template_columns": null,
      "grid_template_rows": null,
      "height": null,
      "justify_content": null,
      "justify_items": null,
      "left": null,
      "margin": null,
      "max_height": null,
      "max_width": null,
      "min_height": null,
      "min_width": null,
      "object_fit": null,
      "object_position": null,
      "order": null,
      "overflow": null,
      "overflow_x": null,
      "overflow_y": null,
      "padding": null,
      "right": null,
      "top": null,
      "visibility": null,
      "width": null
     }
    },
    "8244ccb04e17485383e710ad944ede0c": {
     "model_module": "@jupyter-widgets/controls",
     "model_module_version": "1.5.0",
     "model_name": "HTMLModel",
     "state": {
      "_dom_classes": [],
      "_model_module": "@jupyter-widgets/controls",
      "_model_module_version": "1.5.0",
      "_model_name": "HTMLModel",
      "_view_count": null,
      "_view_module": "@jupyter-widgets/controls",
      "_view_module_version": "1.5.0",
      "_view_name": "HTMLView",
      "description": "",
      "description_tooltip": null,
      "layout": "IPY_MODEL_6238c2e675d64bcb8577aa9d1fdda922",
      "placeholder": "​",
      "style": "IPY_MODEL_1de5f63e15b741ddba4bc4ab576eef21",
      "value": "Generating test split:  98%"
     }
    },
    "84efefa3675a489198087daf6791e4d2": {
     "model_module": "@jupyter-widgets/base",
     "model_module_version": "1.2.0",
     "model_name": "LayoutModel",
     "state": {
      "_model_module": "@jupyter-widgets/base",
      "_model_module_version": "1.2.0",
      "_model_name": "LayoutModel",
      "_view_count": null,
      "_view_module": "@jupyter-widgets/base",
      "_view_module_version": "1.2.0",
      "_view_name": "LayoutView",
      "align_content": null,
      "align_items": null,
      "align_self": null,
      "border": null,
      "bottom": null,
      "display": null,
      "flex": null,
      "flex_flow": null,
      "grid_area": null,
      "grid_auto_columns": null,
      "grid_auto_flow": null,
      "grid_auto_rows": null,
      "grid_column": null,
      "grid_gap": null,
      "grid_row": null,
      "grid_template_areas": null,
      "grid_template_columns": null,
      "grid_template_rows": null,
      "height": null,
      "justify_content": null,
      "justify_items": null,
      "left": null,
      "margin": null,
      "max_height": null,
      "max_width": null,
      "min_height": null,
      "min_width": null,
      "object_fit": null,
      "object_position": null,
      "order": null,
      "overflow": null,
      "overflow_x": null,
      "overflow_y": null,
      "padding": null,
      "right": null,
      "top": null,
      "visibility": null,
      "width": null
     }
    },
    "87ca7b8e5b414683bf623652994600b3": {
     "model_module": "@jupyter-widgets/controls",
     "model_module_version": "1.5.0",
     "model_name": "DescriptionStyleModel",
     "state": {
      "_model_module": "@jupyter-widgets/controls",
      "_model_module_version": "1.5.0",
      "_model_name": "DescriptionStyleModel",
      "_view_count": null,
      "_view_module": "@jupyter-widgets/base",
      "_view_module_version": "1.2.0",
      "_view_name": "StyleView",
      "description_width": ""
     }
    },
    "8ed57e4142a0413db4250ca4f899ce63": {
     "model_module": "@jupyter-widgets/controls",
     "model_module_version": "1.5.0",
     "model_name": "DescriptionStyleModel",
     "state": {
      "_model_module": "@jupyter-widgets/controls",
      "_model_module_version": "1.5.0",
      "_model_name": "DescriptionStyleModel",
      "_view_count": null,
      "_view_module": "@jupyter-widgets/base",
      "_view_module_version": "1.2.0",
      "_view_name": "StyleView",
      "description_width": ""
     }
    },
    "9631549e37ed496d9befca6e0ce75cc3": {
     "model_module": "@jupyter-widgets/base",
     "model_module_version": "1.2.0",
     "model_name": "LayoutModel",
     "state": {
      "_model_module": "@jupyter-widgets/base",
      "_model_module_version": "1.2.0",
      "_model_name": "LayoutModel",
      "_view_count": null,
      "_view_module": "@jupyter-widgets/base",
      "_view_module_version": "1.2.0",
      "_view_name": "LayoutView",
      "align_content": null,
      "align_items": null,
      "align_self": null,
      "border": null,
      "bottom": null,
      "display": null,
      "flex": null,
      "flex_flow": null,
      "grid_area": null,
      "grid_auto_columns": null,
      "grid_auto_flow": null,
      "grid_auto_rows": null,
      "grid_column": null,
      "grid_gap": null,
      "grid_row": null,
      "grid_template_areas": null,
      "grid_template_columns": null,
      "grid_template_rows": null,
      "height": null,
      "justify_content": null,
      "justify_items": null,
      "left": null,
      "margin": null,
      "max_height": null,
      "max_width": null,
      "min_height": null,
      "min_width": null,
      "object_fit": null,
      "object_position": null,
      "order": null,
      "overflow": null,
      "overflow_x": null,
      "overflow_y": null,
      "padding": null,
      "right": null,
      "top": null,
      "visibility": null,
      "width": null
     }
    },
    "98b3b727f06d4673a0714dba3b7def3a": {
     "model_module": "@jupyter-widgets/controls",
     "model_module_version": "1.5.0",
     "model_name": "HTMLModel",
     "state": {
      "_dom_classes": [],
      "_model_module": "@jupyter-widgets/controls",
      "_model_module_version": "1.5.0",
      "_model_name": "HTMLModel",
      "_view_count": null,
      "_view_module": "@jupyter-widgets/controls",
      "_view_module_version": "1.5.0",
      "_view_name": "HTMLView",
      "description": "",
      "description_tooltip": null,
      "layout": "IPY_MODEL_039c41393d9c4b8d92fd30d1f67ab419",
      "placeholder": "​",
      "style": "IPY_MODEL_8ed57e4142a0413db4250ca4f899ce63",
      "value": " 9837/10000 [00:01&lt;00:00, 6015.38 examples/s]"
     }
    },
    "9a9e877b9959492d8dbcb9a6e082f52a": {
     "model_module": "@jupyter-widgets/base",
     "model_module_version": "1.2.0",
     "model_name": "LayoutModel",
     "state": {
      "_model_module": "@jupyter-widgets/base",
      "_model_module_version": "1.2.0",
      "_model_name": "LayoutModel",
      "_view_count": null,
      "_view_module": "@jupyter-widgets/base",
      "_view_module_version": "1.2.0",
      "_view_name": "LayoutView",
      "align_content": null,
      "align_items": null,
      "align_self": null,
      "border": null,
      "bottom": null,
      "display": null,
      "flex": null,
      "flex_flow": null,
      "grid_area": null,
      "grid_auto_columns": null,
      "grid_auto_flow": null,
      "grid_auto_rows": null,
      "grid_column": null,
      "grid_gap": null,
      "grid_row": null,
      "grid_template_areas": null,
      "grid_template_columns": null,
      "grid_template_rows": null,
      "height": null,
      "justify_content": null,
      "justify_items": null,
      "left": null,
      "margin": null,
      "max_height": null,
      "max_width": null,
      "min_height": null,
      "min_width": null,
      "object_fit": null,
      "object_position": null,
      "order": null,
      "overflow": null,
      "overflow_x": null,
      "overflow_y": null,
      "padding": null,
      "right": null,
      "top": null,
      "visibility": null,
      "width": null
     }
    },
    "9c6860b6582444afb7d7e84e1551b4f6": {
     "model_module": "@jupyter-widgets/controls",
     "model_module_version": "1.5.0",
     "model_name": "HTMLModel",
     "state": {
      "_dom_classes": [],
      "_model_module": "@jupyter-widgets/controls",
      "_model_module_version": "1.5.0",
      "_model_name": "HTMLModel",
      "_view_count": null,
      "_view_module": "@jupyter-widgets/controls",
      "_view_module_version": "1.5.0",
      "_view_name": "HTMLView",
      "description": "",
      "description_tooltip": null,
      "layout": "IPY_MODEL_7008af6bb80a4aa4bb8b20211f5461e6",
      "placeholder": "​",
      "style": "IPY_MODEL_4979db8600274ac482c11efd6608b606",
      "value": " 19454/20000 [00:03&lt;00:00, 6138.13 examples/s]"
     }
    },
    "9cae7d5ba01a4b2889a5c36b42ee84d4": {
     "model_module": "@jupyter-widgets/base",
     "model_module_version": "1.2.0",
     "model_name": "LayoutModel",
     "state": {
      "_model_module": "@jupyter-widgets/base",
      "_model_module_version": "1.2.0",
      "_model_name": "LayoutModel",
      "_view_count": null,
      "_view_module": "@jupyter-widgets/base",
      "_view_module_version": "1.2.0",
      "_view_name": "LayoutView",
      "align_content": null,
      "align_items": null,
      "align_self": null,
      "border": null,
      "bottom": null,
      "display": null,
      "flex": null,
      "flex_flow": null,
      "grid_area": null,
      "grid_auto_columns": null,
      "grid_auto_flow": null,
      "grid_auto_rows": null,
      "grid_column": null,
      "grid_gap": null,
      "grid_row": null,
      "grid_template_areas": null,
      "grid_template_columns": null,
      "grid_template_rows": null,
      "height": null,
      "justify_content": null,
      "justify_items": null,
      "left": null,
      "margin": null,
      "max_height": null,
      "max_width": null,
      "min_height": null,
      "min_width": null,
      "object_fit": null,
      "object_position": null,
      "order": null,
      "overflow": null,
      "overflow_x": null,
      "overflow_y": null,
      "padding": null,
      "right": null,
      "top": null,
      "visibility": null,
      "width": null
     }
    },
    "a0854a7b54014a4d8707022817c70c18": {
     "model_module": "@jupyter-widgets/controls",
     "model_module_version": "1.5.0",
     "model_name": "FloatProgressModel",
     "state": {
      "_dom_classes": [],
      "_model_module": "@jupyter-widgets/controls",
      "_model_module_version": "1.5.0",
      "_model_name": "FloatProgressModel",
      "_view_count": null,
      "_view_module": "@jupyter-widgets/controls",
      "_view_module_version": "1.5.0",
      "_view_name": "ProgressView",
      "bar_style": "success",
      "description": "",
      "description_tooltip": null,
      "layout": "IPY_MODEL_bd94438ed3874a2ead1887ac7c66945d",
      "max": 3937,
      "min": 0,
      "orientation": "horizontal",
      "style": "IPY_MODEL_ef2efb463ef7477d894749d0c2960106",
      "value": 3937
     }
    },
    "a28608f4b4e147cda6ea389104b9a9af": {
     "model_module": "@jupyter-widgets/controls",
     "model_module_version": "1.5.0",
     "model_name": "HTMLModel",
     "state": {
      "_dom_classes": [],
      "_model_module": "@jupyter-widgets/controls",
      "_model_module_version": "1.5.0",
      "_model_name": "HTMLModel",
      "_view_count": null,
      "_view_module": "@jupyter-widgets/controls",
      "_view_module_version": "1.5.0",
      "_view_name": "HTMLView",
      "description": "",
      "description_tooltip": null,
      "layout": "IPY_MODEL_7acadff0d74844f8b804350d93d4b3db",
      "placeholder": "​",
      "style": "IPY_MODEL_0d90511c973648ddaad45f9040afd637",
      "value": "Downloading data: 100%"
     }
    },
    "a87f70b1e97a4200bfa3b1d63462b6d7": {
     "model_module": "@jupyter-widgets/controls",
     "model_module_version": "1.5.0",
     "model_name": "HTMLModel",
     "state": {
      "_dom_classes": [],
      "_model_module": "@jupyter-widgets/controls",
      "_model_module_version": "1.5.0",
      "_model_name": "HTMLModel",
      "_view_count": null,
      "_view_module": "@jupyter-widgets/controls",
      "_view_module_version": "1.5.0",
      "_view_name": "HTMLView",
      "description": "",
      "description_tooltip": null,
      "layout": "IPY_MODEL_1c26ffaa8cdb40bcad8f4c64efeb1ec4",
      "placeholder": "​",
      "style": "IPY_MODEL_fdb6f1ed863049c0ba7a7a901b51e1d5",
      "value": "Downloading builder script: "
     }
    },
    "abac666f025a4a2286db6600eeb52245": {
     "model_module": "@jupyter-widgets/controls",
     "model_module_version": "1.5.0",
     "model_name": "DescriptionStyleModel",
     "state": {
      "_model_module": "@jupyter-widgets/controls",
      "_model_module_version": "1.5.0",
      "_model_name": "DescriptionStyleModel",
      "_view_count": null,
      "_view_module": "@jupyter-widgets/base",
      "_view_module_version": "1.2.0",
      "_view_name": "StyleView",
      "description_width": ""
     }
    },
    "ad92c982792d4942b87a50d8e4f7163c": {
     "model_module": "@jupyter-widgets/controls",
     "model_module_version": "1.5.0",
     "model_name": "HBoxModel",
     "state": {
      "_dom_classes": [],
      "_model_module": "@jupyter-widgets/controls",
      "_model_module_version": "1.5.0",
      "_model_name": "HBoxModel",
      "_view_count": null,
      "_view_module": "@jupyter-widgets/controls",
      "_view_module_version": "1.5.0",
      "_view_name": "HBoxView",
      "box_style": "",
      "children": [
       "IPY_MODEL_a87f70b1e97a4200bfa3b1d63462b6d7",
       "IPY_MODEL_a0854a7b54014a4d8707022817c70c18",
       "IPY_MODEL_61143b9dcddd422aa95de5549ba6af76"
      ],
      "layout": "IPY_MODEL_9cae7d5ba01a4b2889a5c36b42ee84d4"
     }
    },
    "b319b698170e45849e5972ffd6902bdc": {
     "model_module": "@jupyter-widgets/controls",
     "model_module_version": "1.5.0",
     "model_name": "ProgressStyleModel",
     "state": {
      "_model_module": "@jupyter-widgets/controls",
      "_model_module_version": "1.5.0",
      "_model_name": "ProgressStyleModel",
      "_view_count": null,
      "_view_module": "@jupyter-widgets/base",
      "_view_module_version": "1.2.0",
      "_view_name": "StyleView",
      "bar_color": null,
      "description_width": ""
     }
    },
    "b414a425ccda47e5a2b09bdb2a507ab8": {
     "model_module": "@jupyter-widgets/base",
     "model_module_version": "1.2.0",
     "model_name": "LayoutModel",
     "state": {
      "_model_module": "@jupyter-widgets/base",
      "_model_module_version": "1.2.0",
      "_model_name": "LayoutModel",
      "_view_count": null,
      "_view_module": "@jupyter-widgets/base",
      "_view_module_version": "1.2.0",
      "_view_name": "LayoutView",
      "align_content": null,
      "align_items": null,
      "align_self": null,
      "border": null,
      "bottom": null,
      "display": null,
      "flex": null,
      "flex_flow": null,
      "grid_area": null,
      "grid_auto_columns": null,
      "grid_auto_flow": null,
      "grid_auto_rows": null,
      "grid_column": null,
      "grid_gap": null,
      "grid_row": null,
      "grid_template_areas": null,
      "grid_template_columns": null,
      "grid_template_rows": null,
      "height": null,
      "justify_content": null,
      "justify_items": null,
      "left": null,
      "margin": null,
      "max_height": null,
      "max_width": null,
      "min_height": null,
      "min_width": null,
      "object_fit": null,
      "object_position": null,
      "order": null,
      "overflow": null,
      "overflow_x": null,
      "overflow_y": null,
      "padding": null,
      "right": null,
      "top": null,
      "visibility": null,
      "width": null
     }
    },
    "b7d00ae181cc42e4b51bd5abb717c1f2": {
     "model_module": "@jupyter-widgets/controls",
     "model_module_version": "1.5.0",
     "model_name": "DescriptionStyleModel",
     "state": {
      "_model_module": "@jupyter-widgets/controls",
      "_model_module_version": "1.5.0",
      "_model_name": "DescriptionStyleModel",
      "_view_count": null,
      "_view_module": "@jupyter-widgets/base",
      "_view_module_version": "1.2.0",
      "_view_name": "StyleView",
      "description_width": ""
     }
    },
    "bd94438ed3874a2ead1887ac7c66945d": {
     "model_module": "@jupyter-widgets/base",
     "model_module_version": "1.2.0",
     "model_name": "LayoutModel",
     "state": {
      "_model_module": "@jupyter-widgets/base",
      "_model_module_version": "1.2.0",
      "_model_name": "LayoutModel",
      "_view_count": null,
      "_view_module": "@jupyter-widgets/base",
      "_view_module_version": "1.2.0",
      "_view_name": "LayoutView",
      "align_content": null,
      "align_items": null,
      "align_self": null,
      "border": null,
      "bottom": null,
      "display": null,
      "flex": null,
      "flex_flow": null,
      "grid_area": null,
      "grid_auto_columns": null,
      "grid_auto_flow": null,
      "grid_auto_rows": null,
      "grid_column": null,
      "grid_gap": null,
      "grid_row": null,
      "grid_template_areas": null,
      "grid_template_columns": null,
      "grid_template_rows": null,
      "height": null,
      "justify_content": null,
      "justify_items": null,
      "left": null,
      "margin": null,
      "max_height": null,
      "max_width": null,
      "min_height": null,
      "min_width": null,
      "object_fit": null,
      "object_position": null,
      "order": null,
      "overflow": null,
      "overflow_x": null,
      "overflow_y": null,
      "padding": null,
      "right": null,
      "top": null,
      "visibility": null,
      "width": null
     }
    },
    "bfd7caafff06436f98f26a43ccedbf1b": {
     "model_module": "@jupyter-widgets/controls",
     "model_module_version": "1.5.0",
     "model_name": "HTMLModel",
     "state": {
      "_dom_classes": [],
      "_model_module": "@jupyter-widgets/controls",
      "_model_module_version": "1.5.0",
      "_model_name": "HTMLModel",
      "_view_count": null,
      "_view_module": "@jupyter-widgets/controls",
      "_view_module_version": "1.5.0",
      "_view_name": "HTMLView",
      "description": "",
      "description_tooltip": null,
      "layout": "IPY_MODEL_78abbd63fa094ab18d094b32456719e6",
      "placeholder": "​",
      "style": "IPY_MODEL_313a9f2351fd465eb2ed7ded72a90248",
      "value": "Generating validation split:  98%"
     }
    },
    "c373f104a0834e11b440dc690735a16e": {
     "model_module": "@jupyter-widgets/base",
     "model_module_version": "1.2.0",
     "model_name": "LayoutModel",
     "state": {
      "_model_module": "@jupyter-widgets/base",
      "_model_module_version": "1.2.0",
      "_model_name": "LayoutModel",
      "_view_count": null,
      "_view_module": "@jupyter-widgets/base",
      "_view_module_version": "1.2.0",
      "_view_name": "LayoutView",
      "align_content": null,
      "align_items": null,
      "align_self": null,
      "border": null,
      "bottom": null,
      "display": null,
      "flex": null,
      "flex_flow": null,
      "grid_area": null,
      "grid_auto_columns": null,
      "grid_auto_flow": null,
      "grid_auto_rows": null,
      "grid_column": null,
      "grid_gap": null,
      "grid_row": null,
      "grid_template_areas": null,
      "grid_template_columns": null,
      "grid_template_rows": null,
      "height": null,
      "justify_content": null,
      "justify_items": null,
      "left": null,
      "margin": null,
      "max_height": null,
      "max_width": null,
      "min_height": null,
      "min_width": null,
      "object_fit": null,
      "object_position": null,
      "order": null,
      "overflow": null,
      "overflow_x": null,
      "overflow_y": null,
      "padding": null,
      "right": null,
      "top": null,
      "visibility": null,
      "width": null
     }
    },
    "c94262641b4a47438481ef6c6e256239": {
     "model_module": "@jupyter-widgets/base",
     "model_module_version": "1.2.0",
     "model_name": "LayoutModel",
     "state": {
      "_model_module": "@jupyter-widgets/base",
      "_model_module_version": "1.2.0",
      "_model_name": "LayoutModel",
      "_view_count": null,
      "_view_module": "@jupyter-widgets/base",
      "_view_module_version": "1.2.0",
      "_view_name": "LayoutView",
      "align_content": null,
      "align_items": null,
      "align_self": null,
      "border": null,
      "bottom": null,
      "display": null,
      "flex": null,
      "flex_flow": null,
      "grid_area": null,
      "grid_auto_columns": null,
      "grid_auto_flow": null,
      "grid_auto_rows": null,
      "grid_column": null,
      "grid_gap": null,
      "grid_row": null,
      "grid_template_areas": null,
      "grid_template_columns": null,
      "grid_template_rows": null,
      "height": null,
      "justify_content": null,
      "justify_items": null,
      "left": null,
      "margin": null,
      "max_height": null,
      "max_width": null,
      "min_height": null,
      "min_width": null,
      "object_fit": null,
      "object_position": null,
      "order": null,
      "overflow": null,
      "overflow_x": null,
      "overflow_y": null,
      "padding": null,
      "right": null,
      "top": null,
      "visibility": null,
      "width": null
     }
    },
    "cdd61e75ce3e4a278104967033f1627d": {
     "model_module": "@jupyter-widgets/base",
     "model_module_version": "1.2.0",
     "model_name": "LayoutModel",
     "state": {
      "_model_module": "@jupyter-widgets/base",
      "_model_module_version": "1.2.0",
      "_model_name": "LayoutModel",
      "_view_count": null,
      "_view_module": "@jupyter-widgets/base",
      "_view_module_version": "1.2.0",
      "_view_name": "LayoutView",
      "align_content": null,
      "align_items": null,
      "align_self": null,
      "border": null,
      "bottom": null,
      "display": null,
      "flex": null,
      "flex_flow": null,
      "grid_area": null,
      "grid_auto_columns": null,
      "grid_auto_flow": null,
      "grid_auto_rows": null,
      "grid_column": null,
      "grid_gap": null,
      "grid_row": null,
      "grid_template_areas": null,
      "grid_template_columns": null,
      "grid_template_rows": null,
      "height": null,
      "justify_content": null,
      "justify_items": null,
      "left": null,
      "margin": null,
      "max_height": null,
      "max_width": null,
      "min_height": null,
      "min_width": null,
      "object_fit": null,
      "object_position": null,
      "order": null,
      "overflow": null,
      "overflow_x": null,
      "overflow_y": null,
      "padding": null,
      "right": null,
      "top": null,
      "visibility": null,
      "width": null
     }
    },
    "cff4d7d72b3445d5867edfc0a9366cb4": {
     "model_module": "@jupyter-widgets/controls",
     "model_module_version": "1.5.0",
     "model_name": "HTMLModel",
     "state": {
      "_dom_classes": [],
      "_model_module": "@jupyter-widgets/controls",
      "_model_module_version": "1.5.0",
      "_model_name": "HTMLModel",
      "_view_count": null,
      "_view_module": "@jupyter-widgets/controls",
      "_view_module_version": "1.5.0",
      "_view_name": "HTMLView",
      "description": "",
      "description_tooltip": null,
      "layout": "IPY_MODEL_8204a4747d6148aa8b23023988f4d06c",
      "placeholder": "​",
      "style": "IPY_MODEL_2bc68ffc6f77496686335e046132a6e3",
      "value": "Downloading metadata: "
     }
    },
    "d3c2d381c4d549b39e03dacaf8e23213": {
     "model_module": "@jupyter-widgets/controls",
     "model_module_version": "1.5.0",
     "model_name": "ProgressStyleModel",
     "state": {
      "_model_module": "@jupyter-widgets/controls",
      "_model_module_version": "1.5.0",
      "_model_name": "ProgressStyleModel",
      "_view_count": null,
      "_view_module": "@jupyter-widgets/base",
      "_view_module_version": "1.2.0",
      "_view_name": "StyleView",
      "bar_color": null,
      "description_width": ""
     }
    },
    "d865bd7cbfcf499ea02308c35d7f8ccc": {
     "model_module": "@jupyter-widgets/controls",
     "model_module_version": "1.5.0",
     "model_name": "FloatProgressModel",
     "state": {
      "_dom_classes": [],
      "_model_module": "@jupyter-widgets/controls",
      "_model_module_version": "1.5.0",
      "_model_name": "FloatProgressModel",
      "_view_count": null,
      "_view_module": "@jupyter-widgets/controls",
      "_view_module_version": "1.5.0",
      "_view_name": "ProgressView",
      "bar_style": "success",
      "description": "",
      "description_tooltip": null,
      "layout": "IPY_MODEL_633846d9a3c44a8d8351767bc0f852c2",
      "max": 234008884,
      "min": 0,
      "orientation": "horizontal",
      "style": "IPY_MODEL_ef47a29b21634c1586aa27c989b0c5f7",
      "value": 234008884
     }
    },
    "daa5d4e7bcec45ebae2f11e8b611d0cd": {
     "model_module": "@jupyter-widgets/controls",
     "model_module_version": "1.5.0",
     "model_name": "HTMLModel",
     "state": {
      "_dom_classes": [],
      "_model_module": "@jupyter-widgets/controls",
      "_model_module_version": "1.5.0",
      "_model_name": "HTMLModel",
      "_view_count": null,
      "_view_module": "@jupyter-widgets/controls",
      "_view_module_version": "1.5.0",
      "_view_name": "HTMLView",
      "description": "",
      "description_tooltip": null,
      "layout": "IPY_MODEL_9a9e877b9959492d8dbcb9a6e082f52a",
      "placeholder": "​",
      "style": "IPY_MODEL_87ca7b8e5b414683bf623652994600b3",
      "value": " 9751/10000 [00:01&lt;00:00, 6298.52 examples/s]"
     }
    },
    "dfeb1451404a434aa6a8759825b35ea7": {
     "model_module": "@jupyter-widgets/base",
     "model_module_version": "1.2.0",
     "model_name": "LayoutModel",
     "state": {
      "_model_module": "@jupyter-widgets/base",
      "_model_module_version": "1.2.0",
      "_model_name": "LayoutModel",
      "_view_count": null,
      "_view_module": "@jupyter-widgets/base",
      "_view_module_version": "1.2.0",
      "_view_name": "LayoutView",
      "align_content": null,
      "align_items": null,
      "align_self": null,
      "border": null,
      "bottom": null,
      "display": null,
      "flex": null,
      "flex_flow": null,
      "grid_area": null,
      "grid_auto_columns": null,
      "grid_auto_flow": null,
      "grid_auto_rows": null,
      "grid_column": null,
      "grid_gap": null,
      "grid_row": null,
      "grid_template_areas": null,
      "grid_template_columns": null,
      "grid_template_rows": null,
      "height": null,
      "justify_content": null,
      "justify_items": null,
      "left": null,
      "margin": null,
      "max_height": null,
      "max_width": null,
      "min_height": null,
      "min_width": null,
      "object_fit": null,
      "object_position": null,
      "order": null,
      "overflow": null,
      "overflow_x": null,
      "overflow_y": null,
      "padding": null,
      "right": null,
      "top": null,
      "visibility": null,
      "width": null
     }
    },
    "e30ed785bef844a99b91ec2c6ef96607": {
     "model_module": "@jupyter-widgets/controls",
     "model_module_version": "1.5.0",
     "model_name": "FloatProgressModel",
     "state": {
      "_dom_classes": [],
      "_model_module": "@jupyter-widgets/controls",
      "_model_module_version": "1.5.0",
      "_model_name": "FloatProgressModel",
      "_view_count": null,
      "_view_module": "@jupyter-widgets/controls",
      "_view_module_version": "1.5.0",
      "_view_name": "ProgressView",
      "bar_style": "",
      "description": "",
      "description_tooltip": null,
      "layout": "IPY_MODEL_9631549e37ed496d9befca6e0ce75cc3",
      "max": 10000,
      "min": 0,
      "orientation": "horizontal",
      "style": "IPY_MODEL_b319b698170e45849e5972ffd6902bdc",
      "value": 10000
     }
    },
    "e44e745053484af4a1729f62d1c3bf1b": {
     "model_module": "@jupyter-widgets/base",
     "model_module_version": "1.2.0",
     "model_name": "LayoutModel",
     "state": {
      "_model_module": "@jupyter-widgets/base",
      "_model_module_version": "1.2.0",
      "_model_name": "LayoutModel",
      "_view_count": null,
      "_view_module": "@jupyter-widgets/base",
      "_view_module_version": "1.2.0",
      "_view_name": "LayoutView",
      "align_content": null,
      "align_items": null,
      "align_self": null,
      "border": null,
      "bottom": null,
      "display": null,
      "flex": null,
      "flex_flow": null,
      "grid_area": null,
      "grid_auto_columns": null,
      "grid_auto_flow": null,
      "grid_auto_rows": null,
      "grid_column": null,
      "grid_gap": null,
      "grid_row": null,
      "grid_template_areas": null,
      "grid_template_columns": null,
      "grid_template_rows": null,
      "height": null,
      "justify_content": null,
      "justify_items": null,
      "left": null,
      "margin": null,
      "max_height": null,
      "max_width": null,
      "min_height": null,
      "min_width": null,
      "object_fit": null,
      "object_position": null,
      "order": null,
      "overflow": null,
      "overflow_x": null,
      "overflow_y": null,
      "padding": null,
      "right": null,
      "top": null,
      "visibility": null,
      "width": null
     }
    },
    "edaf6ee523f94a818990ab98f9f33a5a": {
     "model_module": "@jupyter-widgets/controls",
     "model_module_version": "1.5.0",
     "model_name": "FloatProgressModel",
     "state": {
      "_dom_classes": [],
      "_model_module": "@jupyter-widgets/controls",
      "_model_module_version": "1.5.0",
      "_model_name": "FloatProgressModel",
      "_view_count": null,
      "_view_module": "@jupyter-widgets/controls",
      "_view_module_version": "1.5.0",
      "_view_name": "ProgressView",
      "bar_style": "",
      "description": "",
      "description_tooltip": null,
      "layout": "IPY_MODEL_b414a425ccda47e5a2b09bdb2a507ab8",
      "max": 10000,
      "min": 0,
      "orientation": "horizontal",
      "style": "IPY_MODEL_1063f69053d744118cf92e1ce689bf56",
      "value": 10000
     }
    },
    "ef2efb463ef7477d894749d0c2960106": {
     "model_module": "@jupyter-widgets/controls",
     "model_module_version": "1.5.0",
     "model_name": "ProgressStyleModel",
     "state": {
      "_model_module": "@jupyter-widgets/controls",
      "_model_module_version": "1.5.0",
      "_model_name": "ProgressStyleModel",
      "_view_count": null,
      "_view_module": "@jupyter-widgets/base",
      "_view_module_version": "1.2.0",
      "_view_name": "StyleView",
      "bar_color": null,
      "description_width": ""
     }
    },
    "ef47a29b21634c1586aa27c989b0c5f7": {
     "model_module": "@jupyter-widgets/controls",
     "model_module_version": "1.5.0",
     "model_name": "ProgressStyleModel",
     "state": {
      "_model_module": "@jupyter-widgets/controls",
      "_model_module_version": "1.5.0",
      "_model_name": "ProgressStyleModel",
      "_view_count": null,
      "_view_module": "@jupyter-widgets/base",
      "_view_module_version": "1.2.0",
      "_view_name": "StyleView",
      "bar_color": null,
      "description_width": ""
     }
    },
    "f14c63be2d0f49ff8f5bd77af170bda3": {
     "model_module": "@jupyter-widgets/base",
     "model_module_version": "1.2.0",
     "model_name": "LayoutModel",
     "state": {
      "_model_module": "@jupyter-widgets/base",
      "_model_module_version": "1.2.0",
      "_model_name": "LayoutModel",
      "_view_count": null,
      "_view_module": "@jupyter-widgets/base",
      "_view_module_version": "1.2.0",
      "_view_name": "LayoutView",
      "align_content": null,
      "align_items": null,
      "align_self": null,
      "border": null,
      "bottom": null,
      "display": null,
      "flex": null,
      "flex_flow": null,
      "grid_area": null,
      "grid_auto_columns": null,
      "grid_auto_flow": null,
      "grid_auto_rows": null,
      "grid_column": null,
      "grid_gap": null,
      "grid_row": null,
      "grid_template_areas": null,
      "grid_template_columns": null,
      "grid_template_rows": null,
      "height": null,
      "justify_content": null,
      "justify_items": null,
      "left": null,
      "margin": null,
      "max_height": null,
      "max_width": null,
      "min_height": null,
      "min_width": null,
      "object_fit": null,
      "object_position": null,
      "order": null,
      "overflow": null,
      "overflow_x": null,
      "overflow_y": null,
      "padding": null,
      "right": null,
      "top": null,
      "visibility": null,
      "width": null
     }
    },
    "f3092862017a4bc580665404317984de": {
     "model_module": "@jupyter-widgets/controls",
     "model_module_version": "1.5.0",
     "model_name": "FloatProgressModel",
     "state": {
      "_dom_classes": [],
      "_model_module": "@jupyter-widgets/controls",
      "_model_module_version": "1.5.0",
      "_model_name": "FloatProgressModel",
      "_view_count": null,
      "_view_module": "@jupyter-widgets/controls",
      "_view_module_version": "1.5.0",
      "_view_name": "ProgressView",
      "bar_style": "",
      "description": "",
      "description_tooltip": null,
      "layout": "IPY_MODEL_cdd61e75ce3e4a278104967033f1627d",
      "max": 20000,
      "min": 0,
      "orientation": "horizontal",
      "style": "IPY_MODEL_d3c2d381c4d549b39e03dacaf8e23213",
      "value": 20000
     }
    },
    "f61b4e026a864a5cbab55799574231ac": {
     "model_module": "@jupyter-widgets/controls",
     "model_module_version": "1.5.0",
     "model_name": "FloatProgressModel",
     "state": {
      "_dom_classes": [],
      "_model_module": "@jupyter-widgets/controls",
      "_model_module_version": "1.5.0",
      "_model_name": "FloatProgressModel",
      "_view_count": null,
      "_view_module": "@jupyter-widgets/controls",
      "_view_module_version": "1.5.0",
      "_view_name": "ProgressView",
      "bar_style": "success",
      "description": "",
      "description_tooltip": null,
      "layout": "IPY_MODEL_5c40828f67154aa8b534d69be1304fd5",
      "max": 12617,
      "min": 0,
      "orientation": "horizontal",
      "style": "IPY_MODEL_4b4215c5a30646d994151e1f741e2a78",
      "value": 12617
     }
    },
    "fc36805223f942c986b6d09b7a74b3d5": {
     "model_module": "@jupyter-widgets/controls",
     "model_module_version": "1.5.0",
     "model_name": "HTMLModel",
     "state": {
      "_dom_classes": [],
      "_model_module": "@jupyter-widgets/controls",
      "_model_module_version": "1.5.0",
      "_model_name": "HTMLModel",
      "_view_count": null,
      "_view_module": "@jupyter-widgets/controls",
      "_view_module_version": "1.5.0",
      "_view_name": "HTMLView",
      "description": "",
      "description_tooltip": null,
      "layout": "IPY_MODEL_dfeb1451404a434aa6a8759825b35ea7",
      "placeholder": "​",
      "style": "IPY_MODEL_415c86fc97214d269f5eacce530eed00",
      "value": " 617k/? [00:00&lt;00:00, 16.5MB/s]"
     }
    },
    "fdb6f1ed863049c0ba7a7a901b51e1d5": {
     "model_module": "@jupyter-widgets/controls",
     "model_module_version": "1.5.0",
     "model_name": "DescriptionStyleModel",
     "state": {
      "_model_module": "@jupyter-widgets/controls",
      "_model_module_version": "1.5.0",
      "_model_name": "DescriptionStyleModel",
      "_view_count": null,
      "_view_module": "@jupyter-widgets/base",
      "_view_module_version": "1.2.0",
      "_view_name": "StyleView",
      "description_width": ""
     }
    }
   }
  }
 },
 "nbformat": 4,
 "nbformat_minor": 5
}
